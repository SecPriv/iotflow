{
 "cells": [
  {
   "cell_type": "code",
   "execution_count": null,
   "id": "a161bff4",
   "metadata": {},
   "outputs": [],
   "source": [
    "from util.domainUtil import getIp,getSanitzedApps, generateTotalCount\n",
    "import util.countryFileUtil\n",
    "import importlib\n",
    "from util.util import mergeDicts\n",
    "importlib.reload(util.util)\n",
    "from util.util import  loadAllData, getAllDataDataset, get_verified_dataset\n",
    "import tldextract\n"
   ]
  },
  {
   "cell_type": "code",
   "execution_count": null,
   "id": "ce710ab6",
   "metadata": {},
   "outputs": [],
   "source": []
  },
  {
   "cell_type": "code",
   "execution_count": null,
   "id": "deec054f",
   "metadata": {},
   "outputs": [],
   "source": []
  },
  {
   "cell_type": "code",
   "execution_count": null,
   "id": "b0758658",
   "metadata": {
    "pycharm": {
     "name": "#%%\n"
    }
   },
   "outputs": [],
   "source": []
  },
  {
   "cell_type": "code",
   "execution_count": null,
   "id": "6127d522",
   "metadata": {},
   "outputs": [],
   "source": []
  },
  {
   "cell_type": "code",
   "execution_count": null,
   "id": "5496225a",
   "metadata": {
    "pycharm": {
     "is_executing": true
    }
   },
   "outputs": [],
   "source": []
  },
  {
   "cell_type": "code",
   "execution_count": null,
   "id": "b49562dd",
   "metadata": {},
   "outputs": [],
   "source": []
  },
  {
   "cell_type": "code",
   "execution_count": null,
   "id": "722d7bf2",
   "metadata": {
    "pycharm": {
     "is_executing": true
    }
   },
   "outputs": [],
   "source": [
    "util.countryFileUtil.loadIPs()\n",
    "#util.countryFileUtil.getCountries(appListSanitized[0])"
   ]
  },
  {
   "cell_type": "code",
   "execution_count": null,
   "id": "b9c68916",
   "metadata": {
    "pycharm": {
     "is_executing": true
    }
   },
   "outputs": [],
   "source": [
    "def getMapFromDataset(dataset):\n",
    "    result = {}\n",
    "    for i in range(0, len(dataset)):\n",
    "        stats = util.countryFileUtil.getCountries(dataset[i])\n",
    "        result = mergeDicts(result, stats)\n",
    "    return result"
   ]
  },
  {
   "cell_type": "code",
   "execution_count": null,
   "id": "f597f14b",
   "metadata": {
    "pycharm": {
     "is_executing": true
    }
   },
   "outputs": [],
   "source": []
  },
  {
   "cell_type": "code",
   "execution_count": null,
   "id": "9d8b8e97",
   "metadata": {},
   "outputs": [],
   "source": [
    "# TODO: set the path to your result folder\n",
    "# set the first argument to the base path of the result folder, second argument is th folder name, third argument a mapping file - that tells for apps in multiple sub datasets which app to include\n",
    "\n",
    "verified = get_verified_dataset(\"/\", \"/2023_04_06/\", \"/verified_dataset/result.json\")\n",
    "allDataVerified = getAllDataDataset(verified)\n",
    "appListSanitizedVerified = getSanitzedApps(allDataVerified, True, False) # Subdomains and Count subdomains, set to false\n",
    "mapVer = getMapFromDataset(appListSanitizedVerified)\n",
    "\n",
    "%store mapVer\n",
    "%store appListSanitizedVerified\n",
    "%store  allDataVerified\n"
   ]
  },
  {
   "cell_type": "code",
   "execution_count": null,
   "id": "8f88dac5",
   "metadata": {},
   "outputs": [],
   "source": [
    "# TODO: set the path to load your data\n",
    "generalDataset = loadAllData(\"/gp_2022/\", True)\n",
    "allDatageneral = getAllDataDataset(generalDataset)\n",
    "appListSanitizedGeneral = getSanitzedApps(allDatageneral, True, False) # Subdomains and Count subdomains, set to false\n",
    "mapGeneral = getMapFromDataset(appListSanitizedGeneral)\n",
    "%store mapGeneral\n",
    "%store appListSanitizedGeneral\n",
    "%store  allDatageneral\n"
   ]
  },
  {
   "cell_type": "code",
   "execution_count": null,
   "id": "7150d45f",
   "metadata": {},
   "outputs": [],
   "source": [
    "%store allDatageneral\n",
    "\n",
    "\n",
    "%store appListSanitizedGeneral\n",
    "\n",
    "\n"
   ]
  },
  {
   "cell_type": "code",
   "execution_count": null,
   "id": "c6e222bc",
   "metadata": {},
   "outputs": [],
   "source": [
    "%store -r allDataVerified\n",
    "%store  -r allDatageneral\n",
    "\n",
    "\n",
    "%store -r appListSanitizedVerified\n",
    "%store -r appListSanitizedGeneral\n",
    "\n",
    "\n",
    "%store -r mapGeneral\n",
    "%store -r mapVer\n"
   ]
  },
  {
   "cell_type": "code",
   "execution_count": null,
   "id": "5a7f1d6a",
   "metadata": {},
   "outputs": [],
   "source": [
    "devLocationGeneral = {\"SG\": 35,\n",
    "    \"US\": 300,\n",
    "    \"DE\": 98,\n",
    "    \"SC\": 1,\n",
    "    \"PT\": 2,\n",
    "    \"RU\": 11,\n",
    "    \"CY\": 52,\n",
    "    \"AT\": 65,\n",
    "    \"AE\": 12,\n",
    "    \"CN\": 9,\n",
    "    \"HK\": 37,\n",
    "    \"ID\": 1,\n",
    "    \"FI\": 11,\n",
    "    \"BR\": 3,\n",
    "    \"FR\": 45,\n",
    "    \"NL\": 16,\n",
    "    \"AU\": 4,\n",
    "    \"IE\": 9,\n",
    "    \"JP\": 16,\n",
    "    \"KR\": 6,\n",
    "    \"GB\": 24,\n",
    "    \"SK\": 2,\n",
    "    \"IN\": 6,\n",
    "    \"TR\": 16,\n",
    "    \"PK\": 7,\n",
    "    \"LU\": 4,\n",
    "    \"IL\": 40,\n",
    "    \"CH\": 12,\n",
    "    \"MD\": 1,\n",
    "    \"SE\": 11,\n",
    "    \"VN\": 33,\n",
    "    \"VG\": 7,\n",
    "    \"GR\": 1,\n",
    "    \"DK\": 6,\n",
    "    \"RO\": 2,\n",
    "    \"UA\": 2,\n",
    "    None: 12,\n",
    "    \"IT\": 3,\n",
    "    \"LV\": 2,\n",
    "    \"BD\": 1,\n",
    "    \"EE\": 2,\n",
    "    \"PH\": 4,\n",
    "    \"NO\": 2,\n",
    "    \"BY\": 2,\n",
    "    \"CA\": 7,\n",
    "    \"CZ\": 1,\n",
    "    \"ES\": 8,\n",
    "    \"LT\": 2,\n",
    "    \"CR\": 1,\n",
    "    \"HU\": 1,\n",
    "    \"AG\": 1,\n",
    "    \"WS\": 1,\n",
    "    \"NZ\": 1,\n",
    "    \"MT\": 1,\n",
    "    \"RS\": 2,\n",
    "    \"PL\": 1}"
   ]
  },
  {
   "cell_type": "code",
   "execution_count": null,
   "id": "83e3d2bd",
   "metadata": {},
   "outputs": [],
   "source": []
  },
  {
   "cell_type": "code",
   "execution_count": null,
   "id": "3f87e1be",
   "metadata": {},
   "outputs": [],
   "source": [
    "data = []\n",
    "overallMap = {}\n",
    "\n",
    "\n",
    "overallMap = mergeDicts(mapVer, overallMap)\n",
    "overallMap = mergeDicts(mapGeneral, overallMap)\n",
    "overallMap = mergeDicts(devLocationGeneral, overallMap)\n"
   ]
  },
  {
   "cell_type": "code",
   "execution_count": null,
   "id": "c8940b62",
   "metadata": {},
   "outputs": [],
   "source": [
    "sortedMap = {k: v for k, v in sorted(overallMap.items(),reverse=True, key=lambda item: item[1])}"
   ]
  },
  {
   "cell_type": "code",
   "execution_count": null,
   "id": "e0d4ae8a",
   "metadata": {},
   "outputs": [],
   "source": [
    "for key in sortedMap.keys():\n",
    "    row = []\n",
    "    row.append(key)\n",
    "    row.append(mapVer.get(key,0))\n",
    "\n",
    "    row.append(mapGeneral.get(key,0))\n",
    "    row.append(devLocationGeneral.get(key,0))\n",
    "\n",
    "    data.append(row)"
   ]
  },
  {
   "cell_type": "code",
   "execution_count": null,
   "id": "959b26bc",
   "metadata": {},
   "outputs": [],
   "source": [
    "import pandas as pd\n",
    "df = pd.DataFrame(data, columns=['Country', 'IoT-VER' ,'IoT-2018', 'IoT-2021', 'IoT-2022','Dev IoT-2022' ,'GP-2022', 'Dev GP-2022'])"
   ]
  },
  {
   "cell_type": "code",
   "execution_count": null,
   "id": "e9a03bdd",
   "metadata": {},
   "outputs": [],
   "source": [
    "euCodes = [\"EU\",\"LI\",\"AT\", \"BE\", \"BG\", \"HR\", \"CY\", \"CZ\", \"DK\", \"EE\", \"FI\", \"FR\", \"DE\", \"GR\", \"HU\", \"IE\", \"IT\", \"LV\", \"LT\", \"LU\", \"MT\", \"NL\", \"PL\", \"PT\", \"RO\", \"SK\", \"SI\", \"ES\", \"SE\"]\n",
    "euDF = df.loc[df['Country'].isin(euCodes)]"
   ]
  },
  {
   "cell_type": "code",
   "execution_count": null,
   "id": "5510cb4d",
   "metadata": {},
   "outputs": [],
   "source": [
    "withoutEU = df.drop(df[df['Country'].isin(euCodes)].index)"
   ]
  },
  {
   "cell_type": "code",
   "execution_count": null,
   "id": "d72f75cf",
   "metadata": {},
   "outputs": [],
   "source": [
    "asianCountry = ['SG', 'HK', 'JP', 'KR', 'TW', 'VN', 'IN', 'PK', 'ID', 'PH', 'BD', 'MY', 'TH', 'IR']\n",
    "asianDF = df.loc[df['Country'].isin(asianCountry)]"
   ]
  },
  {
   "cell_type": "code",
   "execution_count": null,
   "id": "f9292ffe",
   "metadata": {},
   "outputs": [],
   "source": [
    "withouAsianAndEU = withoutEU.drop(withoutEU[withoutEU['Country'].isin(asianCountry)].index)"
   ]
  },
  {
   "cell_type": "code",
   "execution_count": null,
   "id": "c28a19dd",
   "metadata": {},
   "outputs": [],
   "source": [
    "otherCodes = [\"CL\",\"MK\",\"IM\",\"NG\",\"UG\",'CO','CA', None, 'TN','TR', 'MU','CH', 'ZA','TZ', 'AU', 'AE','ZA', 'SC', 'NO', 'IL', 'VG', 'BR', 'IS', 'PA', 'RS', 'UA', 'ID', 'BY','RS', 'NZ', 'BZ', 'PA', 'WS', 'CR', 'EG', 'AR', 'SA', 'MX', 'AZ', 'AG', 'MD']\n",
    "otherDF = df.loc[df['Country'].isin(otherCodes)]"
   ]
  },
  {
   "cell_type": "code",
   "execution_count": null,
   "id": "122bb51f",
   "metadata": {},
   "outputs": [],
   "source": [
    "withoutOthers = withouAsianAndEU.drop(withouAsianAndEU[withouAsianAndEU['Country'].isin(otherCodes)].index)"
   ]
  },
  {
   "cell_type": "code",
   "execution_count": null,
   "id": "5d804093",
   "metadata": {},
   "outputs": [],
   "source": [
    "def createRowFromDF(df, newKey):\n",
    "    row = {}\n",
    "    summed = df.sum()\n",
    "    row['Country'] = (newKey)\n",
    "    row['IoT-VER'] = summed['IoT-VER']\n",
    "\n",
    "    row['GP-2022'] = summed['GP-2022']\n",
    "    row['Dev GP-2022'] = summed['Dev GP-2022']\n",
    "\n",
    "    return row\n"
   ]
  },
  {
   "cell_type": "code",
   "execution_count": null,
   "id": "b99b4f2a",
   "metadata": {},
   "outputs": [],
   "source": [
    "otherRow = createRowFromDF(otherDF, 'other')\n",
    "euRow = createRowFromDF(euDF, 'EU')\n",
    "asiaRow = createRowFromDF(asianDF, 'Asia')"
   ]
  },
  {
   "cell_type": "code",
   "execution_count": null,
   "id": "3e48cd02",
   "metadata": {},
   "outputs": [],
   "source": [
    "overallDF = withoutOthers.append(otherRow, ignore_index=True).append(euRow, ignore_index=True).append(asiaRow, ignore_index=True)"
   ]
  },
  {
   "cell_type": "code",
   "execution_count": null,
   "id": "d911039b",
   "metadata": {},
   "outputs": [],
   "source": [
    "overallDF"
   ]
  },
  {
   "cell_type": "code",
   "execution_count": null,
   "id": "73e5dfc4",
   "metadata": {},
   "outputs": [],
   "source": [
    "overallDF = overallDF.set_index('Country')"
   ]
  },
  {
   "cell_type": "code",
   "execution_count": null,
   "id": "ce4fa561",
   "metadata": {},
   "outputs": [],
   "source": [
    "overallDF = overallDF.reindex(['US', 'CN', 'EU', 'Asia', 'GB', \"RU\", \"other\"])"
   ]
  },
  {
   "cell_type": "code",
   "execution_count": null,
   "id": "019e6709",
   "metadata": {},
   "outputs": [],
   "source": [
    "overallDF"
   ]
  },
  {
   "cell_type": "code",
   "execution_count": null,
   "id": "0ed356b6",
   "metadata": {},
   "outputs": [],
   "source": [
    "print(overallDF.to_latex())"
   ]
  },
  {
   "cell_type": "code",
   "execution_count": null,
   "id": "0c658a51",
   "metadata": {},
   "outputs": [],
   "source": [
    "overallPercentage = overallDF.div(overallDF.sum(axis=0), axis=1)"
   ]
  },
  {
   "cell_type": "code",
   "execution_count": null,
   "id": "88efa4f7",
   "metadata": {},
   "outputs": [],
   "source": [
    "overallPercentage.to_csv('countries_processed_ccs.csv')"
   ]
  },
  {
   "cell_type": "code",
   "execution_count": null,
   "id": "6001c6c1",
   "metadata": {},
   "outputs": [],
   "source": [
    "df.to_csv('countries_ccs.csv')"
   ]
  },
  {
   "cell_type": "code",
   "execution_count": null,
   "id": "88ca2aee",
   "metadata": {},
   "outputs": [],
   "source": [
    "withoutOthers"
   ]
  },
  {
   "cell_type": "code",
   "execution_count": null,
   "id": "069a5622",
   "metadata": {},
   "outputs": [],
   "source": [
    "df"
   ]
  },
  {
   "cell_type": "code",
   "execution_count": null,
   "id": "14150869",
   "metadata": {},
   "outputs": [],
   "source": [
    "overallPercentage"
   ]
  },
  {
   "cell_type": "code",
   "execution_count": null,
   "id": "2bd1622d",
   "metadata": {},
   "outputs": [],
   "source": [
    "overallPercentage = overallPercentage.style.format(\"{:.2%}\")"
   ]
  },
  {
   "cell_type": "code",
   "execution_count": null,
   "id": "cd244e05",
   "metadata": {},
   "outputs": [],
   "source": [
    "print(overallPercentage.to_latex())"
   ]
  },
  {
   "cell_type": "code",
   "execution_count": null,
   "id": "92b4d289",
   "metadata": {},
   "outputs": [],
   "source": [
    "overallPercentage\n"
   ]
  },
  {
   "cell_type": "code",
   "execution_count": null,
   "id": "100f87c1",
   "metadata": {},
   "outputs": [],
   "source": [
    "summed = overallDF.sum(axis=0)"
   ]
  },
  {
   "cell_type": "code",
   "execution_count": null,
   "id": "b34efa63",
   "metadata": {},
   "outputs": [],
   "source": [
    "overallDF"
   ]
  },
  {
   "cell_type": "code",
   "execution_count": null,
   "id": "8ca3c9e1",
   "metadata": {},
   "outputs": [],
   "source": [
    "data = []\n",
    "\n",
    "for row in (overallDF.index):\n",
    "    current = []\n",
    "    for column in overallDF.columns:\n",
    "\n",
    "        calc = int(overallDF.loc[row, column])/int(summed[column])\n",
    "        calc = calc * 100\n",
    "        #overallDF.at[row, column] = f\"{overallDF.loc[row, column]} ({calc}%)\"\n",
    "        current.append( f\"{overallDF.loc[row, column]:,} ({calc:.2f}%)\")\n",
    "\n",
    "    data.append(current)"
   ]
  },
  {
   "cell_type": "code",
   "execution_count": null,
   "id": "b834fe41",
   "metadata": {},
   "outputs": [],
   "source": [
    "df_final = pd.DataFrame(data, index=overallDF.index, columns=overallDF.columns)"
   ]
  },
  {
   "cell_type": "code",
   "execution_count": null,
   "id": "a1b305d7",
   "metadata": {},
   "outputs": [],
   "source": [
    "df_final"
   ]
  },
  {
   "cell_type": "code",
   "execution_count": null,
   "id": "f7db46c1",
   "metadata": {},
   "outputs": [],
   "source": [
    "print(df_final.to_latex())"
   ]
  },
  {
   "cell_type": "code",
   "execution_count": null,
   "id": "60940adc",
   "metadata": {},
   "outputs": [],
   "source": []
  }
 ],
 "metadata": {
  "kernelspec": {
   "display_name": "Python 3 (ipykernel)",
   "language": "python",
   "name": "python3"
  },
  "language_info": {
   "codemirror_mode": {
    "name": "ipython",
    "version": 3
   },
   "file_extension": ".py",
   "mimetype": "text/x-python",
   "name": "python",
   "nbconvert_exporter": "python",
   "pygments_lexer": "ipython3",
   "version": "3.10.10"
  }
 },
 "nbformat": 4,
 "nbformat_minor": 5
}
