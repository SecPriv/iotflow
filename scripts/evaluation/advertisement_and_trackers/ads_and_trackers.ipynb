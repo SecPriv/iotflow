{
 "cells": [
  {
   "cell_type": "code",
   "execution_count": null,
   "id": "199ab991",
   "metadata": {},
   "outputs": [],
   "source": [
    "import plotly.graph_objects as go\n",
    "import json\n",
    "import os\n",
    "import argparse\n",
    "import re\n",
    "import logging\n",
    "import  util.util as util\n",
    "import requests\n",
    "import pandas as pd\n",
    "import importlib\n",
    "\n",
    "from util.domainUtil import getSanitzedApps, generateTotalCountMapping, getDomainOrIP\n",
    "from util.domainCategorizationUtil import isAdCategory, isCdnCategory, isSocialNetworkCategory, isAdCategoryNew, isCdnCategoryNew, isSocialNetworkCategoryNew\n",
    "#importlib.reload(util.util)"
   ]
  },
  {
   "cell_type": "code",
   "execution_count": null,
   "id": "66f57cc8",
   "metadata": {
    "pycharm": {
     "name": "#%%\n"
    }
   },
   "outputs": [],
   "source": [
    "def getAllDataWithoutRequests(app):\n",
    "    result = set()\n",
    "    result.update(util.getUniqueDomainsFromJson(app.amqp))\n",
    "    result.update(util.getUniqueDomainsFromJson(app.coap))\n",
    "    result.update(util.getUniqueDomainsFromJson(app.endpoints))\n",
    "    result.update(util.getUniqueDomainsFromJson(app.mqtt))\n",
    "    result.update(util.getUniqueDomainsFromJson(app.xmpp))\n",
    "    result.update(util.getUniqueDomainsFromJson(app.udp))\n",
    "    result.update(util.getUniqueDomainsFromJson(app.webview))\n",
    "\n",
    "\n",
    "    return result\n",
    "\n",
    "\n",
    "def getAllDataFromDataset(dataset):\n",
    "    result = []\n",
    "    for a in dataset:\n",
    "        result.append(getAllDataWithoutRequests(a))\n",
    "\n",
    "    return result"
   ]
  },
  {
   "cell_type": "code",
   "execution_count": null,
   "id": "9aa33df0",
   "metadata": {},
   "outputs": [],
   "source": []
  },
  {
   "cell_type": "code",
   "execution_count": null,
   "id": "7b8c0d89",
   "metadata": {},
   "outputs": [],
   "source": []
  },
  {
   "cell_type": "code",
   "execution_count": null,
   "id": "ba03334f",
   "metadata": {},
   "outputs": [],
   "source": [
    "# TODO: set the path to load your data\n",
    "# The comparison makes only sense with the newest dataset I think, all others are less comparable\n",
    "input_dir_general = util.loadAllData(\"/\", True)\n",
    "input_dir_iot = util.loadAllData(\"/\")\n",
    "\n",
    "generalDataset = getAllDataFromDataset(input_dir_general)\n",
    "iotDataset = getAllDataFromDataset(input_dir_iot)\n"
   ]
  },
  {
   "cell_type": "code",
   "execution_count": null,
   "id": "81059fce",
   "metadata": {
    "pycharm": {
     "name": "#%%\n"
    }
   },
   "outputs": [],
   "source": [
    "%store generalDataset\n",
    "%store iotDataset"
   ]
  },
  {
   "cell_type": "code",
   "execution_count": null,
   "id": "d22e3f36",
   "metadata": {},
   "outputs": [],
   "source": [
    "%store -r generalDataset\n",
    "%store -r iotDataset"
   ]
  },
  {
   "cell_type": "code",
   "execution_count": null,
   "id": "73662315",
   "metadata": {},
   "outputs": [],
   "source": [
    "from util.domainUtil import getSanitzedApps, generateTotalCountMapping, getDomainOrIP\n",
    "from util.domainCategorizationUtil import isAdCategory, isCdnCategory, isSocialNetworkCategory\n",
    "\n",
    "\n",
    "def getDomainsFromSubDomainSet(subdomainSet):\n",
    "    result = set()\n",
    "    for d in subdomainSet:\n",
    "        result.add(getDomainOrIP(d))\n",
    "    return result\n",
    "\n",
    "\n",
    "def getDomainsFromBoth(iotSet, generalSet):\n",
    "    result = set()\n",
    "    for d in iotSet:\n",
    "        if d in generalSet:\n",
    "            result.add(getDomainOrIP(d))\n",
    "\n",
    "    return result\n",
    "\n",
    "def getAllDomainsFromApps(listApps):\n",
    "    result = set()\n",
    "    for d in listApps:\n",
    "        for i in d:\n",
    "            result.add(i)\n",
    "    return result\n",
    "\n",
    "\n",
    "def getNameForSubDomain(subDomain):\n",
    "    #domain = getDomainOrIP(subDomain)\n",
    "\n",
    "    if isAdCategory(subDomain):\n",
    "        return \"Advertisement and Trackers\"\n",
    "    elif isCdnCategory(subDomain):\n",
    "        return \"Content Distribution Networks\"\n",
    "    elif isSocialNetworkCategory(subDomain):\n",
    "        return \"Social Networks\"\n",
    "    else:\n",
    "        return subDomain\n",
    "\n",
    "\n",
    "\n"
   ]
  },
  {
   "cell_type": "code",
   "execution_count": null,
   "id": "8ab03def",
   "metadata": {},
   "outputs": [],
   "source": []
  },
  {
   "cell_type": "code",
   "execution_count": null,
   "id": "80c185e4",
   "metadata": {},
   "outputs": [],
   "source": [
    "#maybe change matching to subdomain basis"
   ]
  },
  {
   "cell_type": "code",
   "execution_count": null,
   "id": "aca48fbe",
   "metadata": {},
   "outputs": [],
   "source": [
    "%store -r generalDataset\n",
    "%store -r iotDataset\n",
    "\n",
    "iotSet = getDomainsFromSubDomainSet(getAllDomainsFromApps(iotDataset))\n",
    "generalSet = getDomainsFromSubDomainSet(getAllDomainsFromApps(generalDataset))\n",
    "\n",
    "both = getDomainsFromBoth(iotSet, generalSet)\n",
    "\n",
    "domainCategory = {}\n",
    "\n",
    "for d in iotSet.union(generalSet):\n",
    "    domain = getDomainOrIP(d)\n",
    "    domainCategory[domain] = getNameForSubDomain(d)\n",
    "\n",
    "%store domainCategory"
   ]
  },
  {
   "cell_type": "code",
   "execution_count": null,
   "id": "d6156d44",
   "metadata": {},
   "outputs": [],
   "source": [
    "domainCategory"
   ]
  },
  {
   "cell_type": "code",
   "execution_count": null,
   "id": "da2036b2",
   "metadata": {},
   "outputs": [],
   "source": [
    "iotSetSanatized = getSanitzedApps(iotDataset, False, True)\n",
    "generalSetSanitized = getSanitzedApps(generalDataset, False, True)\n",
    "\n",
    "%store iotSetSanatized\n",
    "%store generalSetSanitized\n",
    "#counts = generateTotalCountMapping(iotSetSanatized, {}, domainCategory)\n",
    "#counts = generateTotalCountMapping(generalSetSanitized, counts, domainCategory)"
   ]
  },
  {
   "cell_type": "code",
   "execution_count": null,
   "id": "2a73d88f",
   "metadata": {},
   "outputs": [],
   "source": [
    "def getExodusCategories():\n",
    "    result = {}\n",
    "    exodusList = json.loads(requests.get(\"https://reports.exodus-privacy.eu.org/api/trackers\").text)\n",
    "    for _,item in exodusList['trackers'].items():\n",
    "        currentSet = set()\n",
    "        for x in item['network_signature'].split('|'):\n",
    "            if len(x) == 0:\n",
    "                continue\n",
    "            x = x.replace('.*', '')\n",
    "            x = x.replace('\\\\', '')\n",
    "            if x.startswith('.'):\n",
    "                x = x[1:]\n",
    "\n",
    "            currentSet.add(x)\n",
    "        if len(currentSet) == 0:\n",
    "            continue\n",
    "        if len(item['categories']) == 0:\n",
    "            tmp = result.get('otherExodus', set())\n",
    "            for x in currentSet:\n",
    "                tmp.add(x)\n",
    "            result['otherExodus'] = tmp\n",
    "\n",
    "        for c in item['categories']:\n",
    "            tmp = result.get(c, set())\n",
    "            for x in currentSet:\n",
    "                tmp.add(x)\n",
    "            result[c] = tmp\n",
    "\n",
    "    return result"
   ]
  },
  {
   "cell_type": "code",
   "execution_count": null,
   "id": "5f6a064d",
   "metadata": {},
   "outputs": [],
   "source": [
    "exodusCategories = getExodusCategories()"
   ]
  },
  {
   "cell_type": "code",
   "execution_count": null,
   "id": "13bbe498",
   "metadata": {},
   "outputs": [],
   "source": [
    "iotRelated = {\"mob.com\", \"earthcam.com\", \"ikonkekit.com\", \"eye4.cn\", \"lgsmartplatform.com\", \"besmart-home.com\", \"everhome.cloud\", \"keenhome.io\", \"myskybell.com\", \"smarter.am\", \"hager-iot.com\", \"plc-smarthome.de\", \"leaksmart.com\", \"airpatrol.eu\", \"tp-link.com\", \"vesync.com\", \"airpatrol.eu\", \"samsungheartwise.com\", \"myfoscam.cn\", \"runkeeper.com\", \"iruniversalremote.com\", \"apsrvd.io\", \"remote-app-tv.com\", \"reolink.com\", \"neur.io\", \"futlight.com\", \"haikuhome.com\", \"ute-tech.com.cn\", \"xwemo.com\", \"myhager.com\", \"sec-smartswitch.com\", \"kalay.tw\", \"lgeaircon.com\", \"harmankardon.com\", \"getkuna.com\", \"withings.com\", \"prolink2u.com\", \"anymote.io\", \"asus-aicam.com\", \"tplinknbu.com\", \"lgmobiletv.com\", \"gemmy.com\", \"videoloft.com\", \"epson.net\", \"totwoo.com\", \"ambiclimate.com\", \"ecamzone.cc\", \"hostedcloudvideo.com\", \"chuango.cn\", \"swann.com\", \"hubbleconnected.com\", \"lgecloud.com\", \"yalelock.com\", \"apexisalarm.com\", \"alarm.com\", \"my-gogogate.com\", \"doorguard.com.au\", \"devismart.com\", \"tih.tw\", \"al8.co\", \"nucleuslife.io\", \"vphband.com\", \"vstarcam.cn\", \"subli-med.com\", \"zmodo.com\", \"wisenetlife.com\", \"libratone.com\", \"ihconfig.com\", \"rabootec.com\", \"miui.com\", \"nightowlconnect.com\", \"cloudwarm.net\", \"broadlink.com.cn\", \"keeprapid.com\", \"reolink.us\", \"lifesense.com\", \"simpledesign.ltd\", \"hager.fr\", \"simplisafe.co.uk\", \"iotdreamcatcher.net\", \"amazonalexa.com\", \"omguard.com\", \"xfinity.com\", \"beonhome.com\", \"yunjktech.com\", \"verizonwireless.com\", \"keeprapid.com\", \"commax.com\", \"audiopro.com\", \"abhijitvalluri.com\", \"net2point.com\", \"jimicloud.com\", \"zositech.com\", \"alcidae.com\", \"asuscomm.cn\", \"meari.com.cn\", \"kptncook.com\", \"augustint.com\", \"connectedfamilyhome.com\", \"yunyis.com\", \"getawair.com\", \"libratone.com.cn\", \"kalay.net.cn\", \"sengledcanada.com\", \"wifly-city.com\", \"sensicomfort.com\", \"blazeautomation.com\", \"neatorobotics.com\", \"ichano.com\", \"perimetersafe.com\", \"nightowlsp.com\", \"candy-hoover.com\", \"e-seenet.com\", \"ipcent.com\", \"wifiplug.co.uk\", \"mansaa.io\", \"asante.com\", \"mearicloud.com\", \"cloudant.com\", \"tendinsights.com\", \"incardoc.com\", \"shadeconnector.com\", \"tiktime.net\", \"bonlink.com.cn\", \"vstarcam.com\",\"bose.com\", \"tuyaeu.com\", \"divoom-gz.com\", \"huahuacaocao.com\", \"103.235.46.40\", \"nutspace.com\", \"wizconnected.com\", \"jusonsmart.com\", \"umsns.com\", \"wiz.world\", \"wizconnected.com\", \"bose.io\", \"lifx.api.kustomerapp.com\", \"gulaike.com\", \"mi-img.com\",'puwell.com', 'getqardio.com','gumplay.jp', 'chuango.com','manything.com','two-commas.com','203.195.160.110', 'tiqiaa.com', 'xiaomi.com',  'huawei.com', 'asus.com','logitech.com', 'samsungapps.com','lifx.com', 'philips.com','sony.com','mi.com','breezometer.com','palmerperformance.com', 'oppodigital.com','xiaoyi.com','ihaus.de','linquet.com','netvue.com','simplisafe.com','ikonke.com', 'mipcm.com', 'sony.co.jp', 'scinan.com', 'airtouch.com.au', 'pindora.fi', 'tado.com', 'tplinkmifi.net', 'hipcam.org','openhab.org','ttlock.com.cn',  'grundfos.com','mytenvis.com','huawei.health', 'goyourlife.com.cn',   'air-stream.com.au', 'pyronixcloud.com', 'dongha.cn',  'intesishome.com','gm.com',  'connected.baby', 'tutk.com', 'winkapp.com','gatelabs.co',  'yolanda.hk','wuudis.com','samsungsmartappliance.com','aylanetworks.com', 'heclouds.com','miwifi.com', 'almando.com','simplehuman.com',  'fitbit.com', 'home-connect.com','asuscomm.com', 'magichue.net','dropcam.com', 'domoticz.com','discovergy.com', 'clearblade.com','dronelogbook.com','ulikespk.com','longitude-watch.com','thieye.com','hom.ee','yalereallivingconnect.com', 'ihomeaudio.com',  'eero.com', 'mobihealthplus.com', 'sosocam.com','hpsmart.com','lokly.com', 'zmote.io','asuscloud.com', 'hpsmartstage.com',  'lge.com','awair.is', 'revolar.net', 'sensornetworks.co.za','allterco.com','thekeywe.com', 'm2mbackup.com', 'xm030.cn',  'traffictechservices.com','roku.com',  'oruibo.com', 'thingsview.net','hetangsmart.com', 'nightowldvr04.com','creative.com','polar.com', 'strava.com', 'nvdvr.cn','readyforsky.com', 'alarmdealer.com',  'ustream.tv','hp.com','philips-healthsuite.com.cn','myharmony.com','ifttt.com','amazfit.com','ogemray-server.com','umeye.com', 'xingcon.com','parrot.com', 'i-sens.co.kr','cloudrail.com',  'prestigio.com', 'amazon.com', 'sensiapi.io','bluedriver.com','birdytone.com', 'dev-myqnapcloud.com', 'doorbird.com',  'ifavine.com', 'usmeew.com', 'iotcplatform.com',  'doorbird.net', 'mindolife.com','actitens.com','triggi.com', 'hpsmartpie.com',  'eyez-on.com', 'linakcloud.com','mobvoi.com','dvr163.com', 'airdata.com', 'nightowlx.com', 'digixvideo.com',  'harman.com','tookok.cn', 'ezvizru.com', 'mydlink.com', 'kef.com','qnap.com.cn','huami.com','ichano.cn','beewi-home.com', 'cosa.com.tr', 'smarthome.com','linksys.com',  'autonat.com','alula.net', 'zipato.com', 'petcube.com','whistle.com', 'filtrete.com', 'dinsafer.com','ebikemotion.com', 'iquarius.com', 'nest.com', 'ictun.com','elinkthings.com','mddcloud.com','netesee.com','ikea.com', 'remoteble.com','skycentrics.com','chschs.com', 'mymili.com',  'y-cam.com','orvibo.com','sciener.com','egardia.com','amazon.co.uk', 'gazeeka.com.au',  'thingsview.co', 'bryant.com', 'goabode.com', 'vimtag.com', 'agaveha.com','myqnapcloud.com','trustsmartcloud.com','air.properties','zhiduodev.com','getdoorbird.com','aicare.net.cn','dooya.com', 'sengled.com','heyitech.com','allegrosmart.com', 'amazon.cn','action.new', 'hover1-app.com','routerlogin.net',  'routethis.co', 'childrenview.net', 'boschtt-documents.com','insteon.com', 'amazon.fr', 'gardena.com', 'vineconnected.com', 'asus.com.cn','flic.io',  'kiwi.ki','ibroadlink.com', 'sony.net', 'sfty.com', 'reco4life.com','enaikoon.de','yitechnology.com','midea.com','homescenario.com',  'sentrolcloud.com','hicloud.com',  'hicling.com','ikea.net','linksyssmartwifi.com','meethue.com', 'mypump.info', 'sonos.com', 'amazon.in','lifx.co','netgear.com', 'ipcam.so','mimoto.it','resideo.com','honeywell.com','tocaboca.com',  'yamaha.com',  'goolink.org', 'earin.com','doorbell.io', 'castify.tv', 'qnap.com', 'smart-me.com',  'm2mservices.com','nuki.io',   'b1automation.com', 'kankun-smartplug.com','ihomeaudiointl.com', 'mynuheat.com', 'wallflower.io', 'revogi.com',  'dlink.com',  'aztech.com','alarm.com', 'chipolo.net','eco-plugs.net',  'ora.vn','garagedoorbuddy.com','snsr.net',  'mobiteka.pl', 'iotworkshop.com', 'linkalock.com', 'myspotcam.com', 'wattwatchers.com.au', 'ecobee.com','commax.co.kr',  'sciener.cn',  'loco.hk', 'august.com', 'wattio.com', 'tivo.com', 'aplombtechbd.com',   'lgthinq.com', 'wink.com', 'ipc365.com', 'fivasim.com', 'eufylife.com',    'ticwear.com',   'alarmnet.com', 'guardingvision.com', 'rcti.es','xiaomi.net',  'amazon.co.jp','goyourlife.com','routethis.com',  'ablecloud.cn','skyward.io','ipcamlive.com', 'bluecats.com','jellyfishtur.cn','ezvizlife.com', 'remotexy.com', 'idevicesinc.com', 'linkplay.com',  'opple.com', 'koogeek.com','iwhop.com', 'logi.com', 'meross.com',  'appnimator.com', 'electricimp.com', 'getblueshift.com', 'mein-henry.de', 'ihomecontrol.de','tomtom.com','bn-link.com','artik.cloud', 'tenvis.com', 'samsung.com','miot-spec.org', 'philips-digital.com',  'ween.fr','chipolo.com', 'roc-connect.com', 'dy1000.com', 'securesmart.cn', 'smanos.com', 'mangocam.com', 'appmifile.com',  'sleepace.net', 'cranesportsconnect.com','trafficland.com',  'rialtocomfort.com',   'myfieldnet.com', 'energy-aware.com', 'wificam.org',  'ieiworld.com','myedimax.com', 'muzzley.com', 'u-blox.com','carrier.com','neolock.vn', 'securemote.com', 'sense-u.com','yeelight.com', 'epson.com', 'feetguider.com', 'netatmo.net', 'monitoreverywhere.com',  'netpie.io',  'inatronic.com',    'fitdigits.com', 'riversongapp.net', 'orbitbhyve.com',  'utc.com', 'videoexpertsgroup.com', 'cloudlinks.cn', 'sleepace.com', 'veepai.com',  'vicohome.io', 'mygeostar.com', 'netatmo.com'  }"
   ]
  },
  {
   "cell_type": "code",
   "execution_count": null,
   "id": "ebd293a1",
   "metadata": {},
   "outputs": [],
   "source": [
    "def isIotRelatedSubdomain(subDomain):\n",
    "    subdomainSplitted = subDomain.split(\".\")\n",
    "    for domain in iotRelated:\n",
    "        iotDomainSplitted = domain.split(\".\")\n",
    "        if len(subdomainSplitted) < len(iotDomainSplitted):\n",
    "            continue\n",
    "\n",
    "        matched = True\n",
    "        for i in range(0, len(iotDomainSplitted)):\n",
    "            if iotDomainSplitted[len(iotDomainSplitted) - i -1] != subdomainSplitted[len(subdomainSplitted) -i -1]:\n",
    "                matched = False\n",
    "                break\n",
    "\n",
    "        if matched:\n",
    "            return True\n",
    "\n",
    "\n",
    "    return False"
   ]
  },
  {
   "cell_type": "code",
   "execution_count": null,
   "id": "de8efc83",
   "metadata": {},
   "outputs": [],
   "source": [
    "def getClassification(subDomain):\n",
    "    if subDomain.endswith(\".\"):\n",
    "        return subDomain\n",
    "    for key,item in exodusCategories.items():\n",
    "        toReturn = key\n",
    "        if key == 'otherExodus' or key == 'Advertisement':\n",
    "            toReturn = \"Advertisement and Trackers\"\n",
    "        if key == \"Crash reporting\":\n",
    "            toReturn = 'Crash Reporting'\n",
    "\n",
    "        subdomainSplitted = subDomain.split(\".\")\n",
    "        for entry in item:\n",
    "            entrySplitted = entry.split(\".\")\n",
    "            if len(subdomainSplitted) >= len(entrySplitted):\n",
    "                matched = True\n",
    "                for i in range(0, len(entrySplitted)):\n",
    "                    if entrySplitted[len(entrySplitted) - i - 1] != subdomainSplitted[len(subdomainSplitted) -i -1]:\n",
    "                        matched = False\n",
    "                        break\n",
    "                if matched:\n",
    "                    return toReturn\n",
    "\n",
    "\n",
    "    if isCdnCategoryNew(subDomain):\n",
    "        return \"Content Distribution Networks\"\n",
    "    elif isAdCategoryNew(subDomain):\n",
    "        return \"Advertisement and Trackers\"\n",
    "    elif isSocialNetworkCategoryNew(subDomain):\n",
    "        return \"Social Networks\"\n",
    "    #elif isIotRelatedSubdomain(subDomain): # todo check\n",
    "    #    return \"IoT Related\"\n",
    "\n",
    "    return subDomain"
   ]
  },
  {
   "cell_type": "code",
   "execution_count": null,
   "id": "be93fb61",
   "metadata": {},
   "outputs": [],
   "source": [
    "domainCategory = {}\n",
    "\n",
    "for d in iotSet.union(generalSet):\n",
    "    domain = getDomainOrIP(d)\n",
    "    domainCategory[domain] = getClassification(d)\n",
    "\n",
    "%store domainCategory"
   ]
  },
  {
   "cell_type": "code",
   "execution_count": null,
   "id": "ef9f5dfa",
   "metadata": {},
   "outputs": [],
   "source": [
    "%store -r iotSetSanatized\n",
    "%store -r generalSetSanitized\n",
    "%store -r domainCategory\n",
    "\n",
    "countsIoT = generateTotalCountMapping(iotSetSanatized, {}, domainCategory)\n",
    "countsGeneral = generateTotalCountMapping(generalSetSanitized, {}, domainCategory)\n",
    "\n",
    "%store countsIoT\n",
    "%store countsGeneral"
   ]
  },
  {
   "cell_type": "code",
   "execution_count": null,
   "id": "8a001e97",
   "metadata": {},
   "outputs": [],
   "source": [
    "%store -r countsIoT\n",
    "%store -r countsGeneral"
   ]
  },
  {
   "cell_type": "code",
   "execution_count": null,
   "id": "32a50482",
   "metadata": {},
   "outputs": [],
   "source": [
    "%store -r domainCategory\n",
    "\n",
    "%store -r iotSetSanatized\n",
    "%store -r generalSetSanitized\n",
    "%store -r countsIoT\n",
    "%store -r countsGeneral"
   ]
  },
  {
   "cell_type": "code",
   "execution_count": null,
   "id": "c5c6b748",
   "metadata": {},
   "outputs": [],
   "source": []
  },
  {
   "cell_type": "code",
   "execution_count": null,
   "id": "c45cb291",
   "metadata": {},
   "outputs": [],
   "source": [
    "\n",
    "# Create a map from node to id\n",
    "\n",
    "# Value total counts from Map -> is a bit missleading because it is not representing the number of apps analyzed\n",
    "cutOff = 30\n",
    "allDomainMap = {}\n",
    "other = set()\n",
    "for x in set(countsIoT.keys()):\n",
    "    if x == 'found.at':\n",
    "        del countsIoT[x]\n",
    "        continue\n",
    "    #if countsIoT.get(x,0) < cutOff and countsGeneral.get(x,0) ==0:\n",
    "    #    countsIoT['Other IoT'] = countsIoT.get('Other IoT', 0) + countsIoT.get(x,0)\n",
    "    #    del countsIoT[x]\n",
    "    if '.' in x or (countsIoT.get(x,0) < cutOff and countsGeneral.get(x,0) < cutOff):\n",
    "        other.add(x)\n",
    "        countsIoT['Other'] = countsIoT.get('Other', 0) + countsIoT.get(x,0)\n",
    "        del countsIoT[x]\n",
    "\n",
    "\n",
    "for x in set(countsGeneral.keys()):\n",
    "    if x == 'found.at':\n",
    "        del countsGeneral[x]\n",
    "        continue\n",
    "    #if x in other:\n",
    "    #    countsGeneral['Other'] = countsGeneral.get('Other', 0) + countsGeneral.get(x,0)\n",
    "    #    del countsGeneral[x]\n",
    "    if '.' in x or (countsGeneral.get(x,0) < cutOff and countsIoT.get(x,0) < cutOff):\n",
    "        countsGeneral['Other'] = countsGeneral.get('Other', 0) + countsGeneral.get(x,0)\n",
    "        del countsGeneral[x]\n",
    "\n",
    "for x in countsIoT.keys():\n",
    "    allDomainMap[x] = countsIoT.get(x,0) + countsGeneral.get(x,0)\n",
    "\n",
    "\n",
    "for x in countsGeneral.keys():\n",
    "    allDomainMap[x] = countsIoT.get(x,0) + countsGeneral.get(x,0)\n",
    "\n",
    "#both = getDomainsFromBoth(countsIoT, countsGeneral)\n",
    "\n",
    "sortedDomains = sorted(allDomainMap.items(), key=lambda kv: kv[1], reverse=True)\n",
    "domainId = {}\n",
    "idDomain = {}\n",
    "i = 2\n",
    "for domain in sortedDomains:\n",
    "    domain = domain[0]\n",
    "    if domain.endswith(\".\"):\n",
    "        domain = domain[0:len(domain)-1]\n",
    "\n",
    "    domainId[domain] = i\n",
    "    idDomain[i] = domain\n",
    "    i = i + 1\n",
    "\n",
    "print(domainId)"
   ]
  },
  {
   "cell_type": "code",
   "execution_count": null,
   "id": "569cb525",
   "metadata": {},
   "outputs": [],
   "source": [
    "source = []\n",
    "target = []\n",
    "values = []\n",
    "labels = []\n",
    "y= [0.5,0.5]\n",
    "x= [0, 1]\n",
    "for key, value in countsIoT.items():\n",
    "    #if value < 25:\n",
    "    #    continue\n",
    "    source.append(0)\n",
    "    target.append(domainId[key])\n",
    "    values.append(value)\n",
    "\n",
    "\n",
    "for key, value in countsGeneral.items():\n",
    "    #if value < 25:\n",
    "    #    continue\n",
    "    target.append(domainId[key])\n",
    "    source.append(1)\n",
    "    values.append(value)\n",
    "\n",
    "\n",
    "\n",
    "labels.append(\"IoT-2022\")\n",
    "labels.append(\"GP-2022\")\n",
    "usedSize = 0\n",
    "for l in range(2,i):\n",
    "    labels.append(idDomain[l])\n",
    "    if countsGeneral.get(idDomain[l], 0) > 0 and countsIoT.get(idDomain[l], 0) >0:\n",
    "        x.append(0.5)\n",
    "    elif countsIoT.get(idDomain[l], 0) > 0:\n",
    "        x.append(0.25)\n",
    "    else:\n",
    "        x.append(0.75)\n",
    "    y.append(0.05*(l) + usedSize/30000 )\n",
    "    usedSize = usedSize + countsGeneral.get(idDomain[l], 0) + countsIoT.get(idDomain[l], 0)\n",
    "\n",
    "\n"
   ]
  },
  {
   "cell_type": "code",
   "execution_count": null,
   "id": "178064f8",
   "metadata": {
    "pycharm": {
     "name": "#%%\n"
    },
    "scrolled": false
   },
   "outputs": [],
   "source": [
    "import plotly.graph_objects as go\n",
    "\n",
    "link = dict(source = source, target = target, value = values)\n",
    "node = dict(label = labels,\n",
    "        x= x,\n",
    "        y= y)\n",
    "data = go.Sankey(link = link, node=node)\n",
    "# plot\n",
    "fig = go.Figure(data)\n",
    "fig.update_layout(font_size=16)\n",
    "\n",
    "fig.show()"
   ]
  },
  {
   "cell_type": "code",
   "execution_count": null,
   "id": "840625d0",
   "metadata": {},
   "outputs": [],
   "source": [
    "import time\n",
    "fig.write_image(\"sankey_comparison.pdf\")\n",
    "time.sleep(2)\n",
    "fig.write_image(\"sankey_comparison.pdf\")"
   ]
  },
  {
   "cell_type": "code",
   "execution_count": null,
   "id": "123b7493",
   "metadata": {},
   "outputs": [],
   "source": []
  },
  {
   "cell_type": "code",
   "execution_count": null,
   "id": "56b6383e",
   "metadata": {},
   "outputs": [],
   "source": [
    "countsGeneral"
   ]
  },
  {
   "cell_type": "code",
   "execution_count": null,
   "id": "bda3039c",
   "metadata": {},
   "outputs": [],
   "source": [
    "source = []\n",
    "target = []\n",
    "values = []\n",
    "labels = []\n",
    "\n",
    "for key, value in countsIoT.items():\n",
    "    if value < 20:\n",
    "        continue\n",
    "    source.append(0)\n",
    "    target.append(domainId[key])\n",
    "    values.append(value)\n",
    "\n",
    "\n",
    "for key, value in countsGeneral.items():\n",
    "    if value < 20:\n",
    "        continue\n",
    "    target.append(1)\n",
    "    source.append(domainId[key])\n",
    "    values.append(value)\n",
    "\n",
    "\n",
    "\n",
    "labels.append(\"IoT apps\")\n",
    "labels.append(\"General apps\")\n",
    "for l in range(2,i):\n",
    "    labels.append(idDomain[l])\n",
    "\n",
    "\n",
    "\n",
    "link = dict(source = source, target = target, value = values)\n",
    "node = dict(label = labels, x= x,\n",
    "        y= y)\n",
    "data = go.Sankey(link = link, node=node)\n",
    "# plot\n",
    "fig = go.Figure(data)\n",
    "fig.show()"
   ]
  },
  {
   "cell_type": "code",
   "execution_count": null,
   "id": "f083cc09",
   "metadata": {},
   "outputs": [],
   "source": [
    "sorted_x = sorted(countsIoT.items(), key=lambda kv: kv[1], reverse=True)"
   ]
  },
  {
   "cell_type": "code",
   "execution_count": null,
   "id": "170307a3",
   "metadata": {},
   "outputs": [],
   "source": [
    "for x in sorted_x:\n",
    "    print(x[0])\n"
   ]
  },
  {
   "cell_type": "code",
   "execution_count": null,
   "id": "c157d6e0",
   "metadata": {},
   "outputs": [],
   "source": [
    "countsIoT['Other']"
   ]
  },
  {
   "cell_type": "code",
   "execution_count": null,
   "id": "5a84ff87",
   "metadata": {},
   "outputs": [],
   "source": [
    "countsGeneral"
   ]
  },
  {
   "cell_type": "code",
   "execution_count": null,
   "id": "cb0a11fc",
   "metadata": {},
   "outputs": [],
   "source": [
    "other"
   ]
  },
  {
   "cell_type": "code",
   "execution_count": null,
   "id": "539d0936",
   "metadata": {},
   "outputs": [],
   "source": [
    "exodusCategories"
   ]
  },
  {
   "cell_type": "code",
   "execution_count": null,
   "id": "ca2897c1",
   "metadata": {},
   "outputs": [],
   "source": [
    "%store -r domainCategory\n",
    "\n"
   ]
  },
  {
   "cell_type": "code",
   "execution_count": null,
   "id": "30d52eda",
   "metadata": {},
   "outputs": [],
   "source": [
    "domainCategory"
   ]
  },
  {
   "cell_type": "code",
   "execution_count": null,
   "id": "aba8cf95",
   "metadata": {},
   "outputs": [],
   "source": [
    "%store -r countsIoT\n",
    "%store -r countsGeneral"
   ]
  },
  {
   "cell_type": "code",
   "execution_count": null,
   "id": "983f3d91",
   "metadata": {},
   "outputs": [],
   "source": [
    "countsGeneral"
   ]
  },
  {
   "cell_type": "code",
   "execution_count": null,
   "id": "9d1e9c40",
   "metadata": {},
   "outputs": [],
   "source": [
    "sorted(countsIoT.items(), key=lambda x: x[1], reverse=True)"
   ]
  },
  {
   "cell_type": "code",
   "execution_count": null,
   "id": "360c2701",
   "metadata": {},
   "outputs": [],
   "source": [
    "sorted(countsGeneral.items(), key=lambda x: x[1], reverse=True)"
   ]
  },
  {
   "cell_type": "code",
   "execution_count": null,
   "id": "1a8ce7f7",
   "metadata": {},
   "outputs": [],
   "source": [
    "len(countsIoT)"
   ]
  },
  {
   "cell_type": "code",
   "execution_count": null,
   "id": "5f1168cf",
   "metadata": {},
   "outputs": [],
   "source": [
    "len(countsGeneral)"
   ]
  },
  {
   "cell_type": "code",
   "execution_count": null,
   "id": "6ce1100f",
   "metadata": {},
   "outputs": [],
   "source": [
    "allDomains = set()\n",
    "\n",
    "for key in countsIoT.keys():\n",
    "    allDomains.add(key)\n",
    "\n",
    "for key in countsGeneral.keys():\n",
    "    allDomains.add(key)"
   ]
  },
  {
   "cell_type": "code",
   "execution_count": null,
   "id": "ac1d8d64",
   "metadata": {},
   "outputs": [],
   "source": [
    "def getAllAdAndTracker(appList, categories):\n",
    "    result = {}\n",
    "    for app in appList:\n",
    "        for key,value in app.items():\n",
    "            if categories.get(key, '') == 'Advertisement and Trackers':\n",
    "                result[key] = result.get(key, 0) + value\n",
    "    return result"
   ]
  },
  {
   "cell_type": "code",
   "execution_count": null,
   "id": "563e9fc2",
   "metadata": {},
   "outputs": [],
   "source": [
    "# TODO: set the path to your result folder\n",
    "# set the first argument to the base path of the result folder, second argument is th folder name, third argument a mapping file - that tells for apps in multiple sub datasets which app to include\n",
    "verified = util.get_verified_dataset(\"/\", \"/2023_04_06/\", \"/verified_dataset/result.json\")\n",
    "verifiedDataset = getAllDataFromDataset(verified)\n",
    "verifiedSet = getDomainsFromSubDomainSet(getAllDomainsFromApps(verifiedDataset))\n",
    "verifiedSetSanatizedSubdomains = getSanitzedApps(verifiedDataset, True, False)\n",
    "verifiedSetSanatized = getSanitzedApps(verifiedDataset, False, True)\n",
    "\n",
    "verifiedIoT = generateTotalCountMapping(verifiedSetSanatized, {}, domainCategory)\n",
    "adAndTrackerVerified = getAllAdAndTracker(verifiedSetSanatized, domainCategory)\n",
    "\n",
    "%store verifiedDataset\n",
    "%store verifiedSet\n",
    "%store verifiedSetSanatizedSubdomains\n",
    "%store verifiedSetSanatized\n",
    "%store verifiedIoT\n",
    "%store adAndTrackerVerified\n"
   ]
  },
  {
   "cell_type": "code",
   "execution_count": null,
   "id": "2e106265",
   "metadata": {},
   "outputs": [],
   "source": [
    "%store -r iotSetSanatized\n",
    "%store -r generalSetSanitized\n",
    "\n",
    "%store -r countsIoT\n",
    "%store -r countsGeneral\n",
    "\n",
    "%store -r domainCategory\n",
    "\n",
    "%store -r iotSetSanatized\n",
    "%store -r generalSetSanitized\n",
    "%store -r countsIoT\n",
    "%store -r countsGeneral"
   ]
  },
  {
   "cell_type": "code",
   "execution_count": null,
   "id": "562963df",
   "metadata": {},
   "outputs": [],
   "source": [
    "%store -r iotSetSanatized\n",
    "%store -r generalSetSanitized"
   ]
  },
  {
   "cell_type": "code",
   "execution_count": null,
   "id": "68ca655f",
   "metadata": {},
   "outputs": [],
   "source": [
    "%store -r verifiedDataset\n",
    "%store -r verifiedSet\n",
    "%store -r verifiedSetSanatizedSubdomains\n",
    "%store -r verifiedSetSanatized\n",
    "%store -r verifiedIoT\n",
    "%store -r adAndTrackerVerified"
   ]
  },
  {
   "cell_type": "code",
   "execution_count": null,
   "id": "9ec521e6",
   "metadata": {},
   "outputs": [],
   "source": [
    "adAndTrackerIoT = getAllAdAndTracker(iotSetSanatized, domainCategory)\n",
    "adAndTrackerGeneral = getAllAdAndTracker(generalSetSanitized, domainCategory)"
   ]
  },
  {
   "cell_type": "code",
   "execution_count": null,
   "id": "06da58fc",
   "metadata": {},
   "outputs": [],
   "source": [
    "def countTotalAd(adMap):\n",
    "    count = 0\n",
    "    for key, value in adMap.items():\n",
    "        count = count + value\n",
    "    return count"
   ]
  },
  {
   "cell_type": "code",
   "execution_count": null,
   "id": "edc4ebf3",
   "metadata": {},
   "outputs": [],
   "source": [
    "countTotalAd(adAndTrackerIoT)"
   ]
  },
  {
   "cell_type": "code",
   "execution_count": null,
   "id": "f576a9ad",
   "metadata": {},
   "outputs": [],
   "source": [
    "countTotalAd(adAndTrackerGeneral)"
   ]
  },
  {
   "cell_type": "code",
   "execution_count": null,
   "id": "e61689ea",
   "metadata": {},
   "outputs": [],
   "source": [
    "len(adAndTrackerIoT.keys() | (adAndTrackerGeneral.keys()))"
   ]
  },
  {
   "cell_type": "code",
   "execution_count": null,
   "id": "320138eb",
   "metadata": {},
   "outputs": [],
   "source": [
    "allDomains = adAndTrackerIoT.keys() | (adAndTrackerGeneral.keys())"
   ]
  },
  {
   "cell_type": "code",
   "execution_count": null,
   "id": "c1503b5c",
   "metadata": {},
   "outputs": [],
   "source": [
    "print(len(allDomains))"
   ]
  },
  {
   "cell_type": "code",
   "execution_count": null,
   "id": "e0b01c9e",
   "metadata": {},
   "outputs": [],
   "source": [
    "def numberContained(allAd, iot, general):\n",
    "    count = 0\n",
    "    both = set()\n",
    "    onlyIoT = set()\n",
    "    onlyGeneral = set()\n",
    "    for c in allAd:\n",
    "        if c in iot and c in general:\n",
    "            count = count + 1\n",
    "            both.add(c)\n",
    "        elif c in iot:\n",
    "            if \"google.com\" in c:\n",
    "                continue\n",
    "            onlyIoT.add(c)\n",
    "        else:\n",
    "            onlyGeneral.add(c)\n",
    "    return count, onlyIoT, onlyGeneral, both"
   ]
  },
  {
   "cell_type": "code",
   "execution_count": null,
   "id": "4f01d6a0",
   "metadata": {},
   "outputs": [],
   "source": [
    "countBoth, iotDomains, generalDomains, bothDomains = (numberContained(allDomains, adAndTrackerIoT.keys(),  adAndTrackerGeneral.keys()))"
   ]
  },
  {
   "cell_type": "code",
   "execution_count": null,
   "id": "f43c2b8b",
   "metadata": {},
   "outputs": [],
   "source": [
    "countBoth"
   ]
  },
  {
   "cell_type": "code",
   "execution_count": null,
   "id": "b0c1f584",
   "metadata": {},
   "outputs": [],
   "source": [
    "len(iotDomains)"
   ]
  },
  {
   "cell_type": "code",
   "execution_count": null,
   "id": "c4d37987",
   "metadata": {},
   "outputs": [],
   "source": [
    "len(generalDomains)"
   ]
  },
  {
   "cell_type": "code",
   "execution_count": null,
   "id": "b7ca0072",
   "metadata": {},
   "outputs": [],
   "source": [
    "len(bothDomains)"
   ]
  },
  {
   "cell_type": "code",
   "execution_count": null,
   "id": "647195a5",
   "metadata": {},
   "outputs": [],
   "source": [
    "def countValues(mapToCount, subset):\n",
    "    count = 0\n",
    "    for k,v in mapToCount.items():\n",
    "        if k in subset:\n",
    "            count = count + v\n",
    "    return count"
   ]
  },
  {
   "cell_type": "code",
   "execution_count": null,
   "id": "6d6b3bd0",
   "metadata": {},
   "outputs": [],
   "source": [
    "countValues(adAndTrackerIoT, iotDomains)"
   ]
  },
  {
   "cell_type": "code",
   "execution_count": null,
   "id": "8ee1232c",
   "metadata": {},
   "outputs": [],
   "source": [
    "countValues(adAndTrackerIoT, bothDomains)"
   ]
  },
  {
   "cell_type": "code",
   "execution_count": null,
   "id": "7d7841d8",
   "metadata": {},
   "outputs": [],
   "source": [
    "countValues(adAndTrackerGeneral, bothDomains)"
   ]
  },
  {
   "cell_type": "code",
   "execution_count": null,
   "id": "9ff29d74",
   "metadata": {},
   "outputs": [],
   "source": [
    "countValues(adAndTrackerGeneral, generalDomains)"
   ]
  },
  {
   "cell_type": "code",
   "execution_count": null,
   "id": "4c47a532",
   "metadata": {},
   "outputs": [],
   "source": []
  },
  {
   "cell_type": "code",
   "execution_count": null,
   "id": "c9d1901f",
   "metadata": {},
   "outputs": [],
   "source": [
    "%store -r iotSetSanatized\n",
    "%store -r generalSetSanitized\n",
    "%store -r domainCategory\n",
    "\n",
    "\n",
    "%store -r countsIoT\n",
    "%store -r countsGeneral"
   ]
  },
  {
   "cell_type": "code",
   "execution_count": null,
   "id": "80a59bc7",
   "metadata": {},
   "outputs": [],
   "source": [
    "iotSetSanatized"
   ]
  },
  {
   "cell_type": "code",
   "execution_count": null,
   "id": "703f198f",
   "metadata": {},
   "outputs": [],
   "source": [
    "countsIoT"
   ]
  },
  {
   "cell_type": "code",
   "execution_count": null,
   "id": "2d379505",
   "metadata": {},
   "outputs": [],
   "source": [
    "countsGeneral"
   ]
  },
  {
   "cell_type": "code",
   "execution_count": null,
   "id": "528bd7a3",
   "metadata": {},
   "outputs": [],
   "source": [
    "import plotly.graph_objects as go\n",
    "\n",
    "fig = go.Figure(data=[go.Sankey(\n",
    "    node = dict(\n",
    "      pad = 15,\n",
    "      thickness = 20,\n",
    "      line = dict(color = \"black\", width = 0.5),\n",
    "      label = [\"dynamic\", \"static\", \"Ad\", \"Ad both\", \"other\", \"other both\"],\n",
    "      color = \"blue\"\n",
    "    ),\n",
    "    link = dict(\n",
    "      source = [0, 1, 2, 0, 1, 4], # indices correspond to labels, eg A1, A2, A1, B1, ...\n",
    "      target = [2, 2, 3,4,4,5 ],\n",
    "      value = [2, 4, 3, 4,3,2]\n",
    "  ))])\n",
    "\n",
    "fig.update_layout(title_text=\"Basic Sankey Diagram\", font_size=10)\n",
    "fig.show()"
   ]
  },
  {
   "cell_type": "code",
   "execution_count": null,
   "id": "d259bc31",
   "metadata": {},
   "outputs": [],
   "source": [
    "import plotly.graph_objects as go\n",
    "\n",
    "fig = go.Figure(data=[go.Sankey(\n",
    "    node = dict(\n",
    "      pad = 15,\n",
    "      thickness = 20,\n",
    "      line = dict(color = \"black\", width = 0.5),\n",
    "      label = [\"dynamic\", \"static\", \"Ad\"],\n",
    "      color = \"blue\"\n",
    "    ),\n",
    "    link = dict(\n",
    "      source = [0, 0, 1, 1], # indices correspond to labels, eg A1, A2, A1, B1, ...\n",
    "      target = [2, 2, 2, 2],\n",
    "      value = [2, 4, 3, 1]\n",
    "  ))])\n",
    "\n",
    "fig.update_layout(title_text=\"Basic Sankey Diagram\", font_size=10)\n",
    "fig.show()"
   ]
  },
  {
   "cell_type": "code",
   "execution_count": null,
   "id": "5280d09e",
   "metadata": {},
   "outputs": [],
   "source": [
    "######## new"
   ]
  },
  {
   "cell_type": "code",
   "execution_count": null,
   "id": "798cb755",
   "metadata": {},
   "outputs": [],
   "source": [
    "iotSetSanatizedSubdomains = getSanitzedApps(iotDataset, True, False)\n",
    "generalSetSanitizedSubdomains = getSanitzedApps(generalDataset, True, False)"
   ]
  },
  {
   "cell_type": "code",
   "execution_count": null,
   "id": "407eece8",
   "metadata": {},
   "outputs": [],
   "source": [
    "%store iotSetSanatizedSubdomains\n",
    "%store generalSetSanitizedSubdomains\n"
   ]
  },
  {
   "cell_type": "code",
   "execution_count": null,
   "id": "b169acb6",
   "metadata": {},
   "outputs": [],
   "source": [
    "%store -r iotSetSanatizedSubdomains\n",
    "%store -r generalSetSanitizedSubdomains\n"
   ]
  },
  {
   "cell_type": "code",
   "execution_count": null,
   "id": "1d7efe4f",
   "metadata": {},
   "outputs": [],
   "source": [
    "def getDomainSet(dataset):\n",
    "    result = set()\n",
    "    for app in dataset:\n",
    "        for d in app:\n",
    "            result.add(d)\n",
    "    return result"
   ]
  },
  {
   "cell_type": "code",
   "execution_count": null,
   "id": "553515bf",
   "metadata": {},
   "outputs": [],
   "source": [
    "allSubDomains = getDomainSet(generalSetSanitizedSubdomains).union(getDomainSet(iotSetSanatizedSubdomains)).union(getDomainSet(verifiedSetSanatizedSubdomains))"
   ]
  },
  {
   "cell_type": "code",
   "execution_count": null,
   "id": "558b3f29",
   "metadata": {},
   "outputs": [],
   "source": [
    "classifiedMap = {}\n",
    "for d in allSubDomains:\n",
    "    classifiedMap[d] = getClassification(d)"
   ]
  },
  {
   "cell_type": "code",
   "execution_count": null,
   "id": "107f218a",
   "metadata": {},
   "outputs": [],
   "source": [
    "def generateCount(dataset):\n",
    "    result = {}\n",
    "    for app in dataset:\n",
    "        for subDomain in app:\n",
    "            result[subDomain] = result.get(subDomain, 0) + 1\n",
    "    return result"
   ]
  },
  {
   "cell_type": "code",
   "execution_count": null,
   "id": "753ee548",
   "metadata": {},
   "outputs": [],
   "source": [
    "categoryId = {}\n",
    "idCategory = {}\n",
    "current = 4\n",
    "for k,v in classifiedMap.items():\n",
    "    if \".\" not in v and v not in categoryId:\n",
    "        categoryId[v] =  current\n",
    "        idCategory[current] = v\n",
    "        current = current + 1"
   ]
  },
  {
   "cell_type": "code",
   "execution_count": null,
   "id": "224207bd",
   "metadata": {},
   "outputs": [],
   "source": [
    "verified_subdomainSet = getDomainSet(verifiedSetSanatizedSubdomains)\n"
   ]
  },
  {
   "cell_type": "code",
   "execution_count": null,
   "id": "6da1fb4c",
   "metadata": {},
   "outputs": [],
   "source": [
    "gp_subdomainSet = getDomainSet(generalSetSanitizedSubdomains)\n",
    "iot_subdomainSet = getDomainSet(iotSetSanatizedSubdomains)"
   ]
  },
  {
   "cell_type": "code",
   "execution_count": null,
   "id": "47543843",
   "metadata": {},
   "outputs": [],
   "source": [
    "countIoT = generateCount(iotSetSanatizedSubdomains)\n",
    "countGP = generateCount(generalSetSanitizedSubdomains)"
   ]
  },
  {
   "cell_type": "code",
   "execution_count": null,
   "id": "d4fd96d6",
   "metadata": {},
   "outputs": [],
   "source": [
    "source = []\n",
    "target = []\n",
    "values = []\n",
    "labels = []\n",
    "\n",
    "\n",
    "valueDict = {}\n",
    "\n",
    "\n",
    "for d in allSubDomains:\n",
    "    targetId = 0\n",
    "    if \".\" in classifiedMap[d]:\n",
    "        targetId = 3\n",
    "    else:\n",
    "        targetId = categoryId[classifiedMap[d]]\n",
    "\n",
    "\n",
    "\n",
    "    if d in gp_subdomainSet and d in iot_subdomainSet:\n",
    "        #source.append(1)\n",
    "        #target.append(targetId)\n",
    "        #values.append(1)\n",
    "        key = f\"1-{targetId}\"\n",
    "        valueDict[key] = valueDict.get(key, 0) + 1 #countIoT[d] + countGP[d]\n",
    "    elif d in gp_subdomainSet:\n",
    "        key = f\"0-{targetId}\"\n",
    "        valueDict[key] = valueDict.get(key, 0) + 1 #countGP[d]\n",
    "        #source.append(0)\n",
    "        #target.append(targetId)\n",
    "        #values.append(1)\n",
    "    else:\n",
    "        key = f\"2-{targetId}\"\n",
    "        valueDict[key] = valueDict.get(key, 0) + 1 #countIoT[d]\n",
    "        #source.append(2)\n",
    "        #target.append(targetId)\n",
    "        #values.append(1)\n",
    "\n",
    "for k,v in valueDict.items():\n",
    "    sourceValue = k.split('-')[0]\n",
    "    targetValue = k.split('-')[1]\n",
    "    source.append(sourceValue)\n",
    "    target.append(targetValue)\n",
    "    values.append(valueDict[k])\n",
    "\n",
    "\n",
    "labels.append(\"GP-2022\")\n",
    "labels.append(\"GP-2022 & IoT-2022\")\n",
    "labels.append(\"IoT-2022\")\n",
    "labels.append(\"Other\")\n",
    "\n",
    "for l in range(4,current):\n",
    "    labels.append(idCategory[l])\n",
    "\n",
    "\n",
    "\n",
    "link = dict(source = source, target = target, value = values)\n",
    "node = dict(label = labels)\n",
    "data = go.Sankey(link = link, node=node)\n",
    "# plot\n",
    "fig = go.Figure(data)\n",
    "fig.show()"
   ]
  },
  {
   "cell_type": "code",
   "execution_count": null,
   "id": "4b6e0d12",
   "metadata": {},
   "outputs": [],
   "source": [
    "source = []\n",
    "target = []\n",
    "values = []\n",
    "labels = []\n",
    "\n",
    "\n",
    "valueDict = {}\n",
    "\n",
    "\n",
    "for d in allSubDomains:\n",
    "    targetId = 0\n",
    "    if \".\" in classifiedMap[d]:\n",
    "        targetId = 3\n",
    "    else:\n",
    "        targetId = categoryId[classifiedMap[d]]\n",
    "\n",
    "\n",
    "\n",
    "    if d in gp_subdomainSet and d in iot_subdomainSet:\n",
    "        #source.append(1)\n",
    "        #target.append(targetId)\n",
    "        #values.append(1)\n",
    "        key = f\"1-{targetId}\"\n",
    "        valueDict[key] = valueDict.get(key, 0) + countIoT[d] + countGP[d]\n",
    "    elif d in gp_subdomainSet:\n",
    "        key = f\"0-{targetId}\"\n",
    "        valueDict[key] = valueDict.get(key, 0) + countGP[d]\n",
    "        #source.append(0)\n",
    "        #target.append(targetId)\n",
    "        #values.append(1)\n",
    "    else:\n",
    "        key = f\"2-{targetId}\"\n",
    "        valueDict[key] = valueDict.get(key, 0) + countIoT[d]\n",
    "        #source.append(2)\n",
    "        #target.append(targetId)\n",
    "        #values.append(1)\n",
    "\n",
    "for k,v in valueDict.items():\n",
    "    sourceValue = k.split('-')[0]\n",
    "    targetValue = k.split('-')[1]\n",
    "    source.append(sourceValue)\n",
    "    target.append(targetValue)\n",
    "    values.append(valueDict[k])\n",
    "\n",
    "\n",
    "labels.append(\"GP-2022\")\n",
    "labels.append(\"GP-2022 & IoT-2022\")\n",
    "labels.append(\"IoT-2022\")\n",
    "labels.append(\"Other\")\n",
    "\n",
    "for l in range(4,current):\n",
    "    labels.append(idCategory[l])\n",
    "\n",
    "\n",
    "\n",
    "link = dict(source = source, target = target, value = values)\n",
    "node = dict(label = labels)\n",
    "data = go.Sankey(link = link, node=node)\n",
    "# plot\n",
    "fig = go.Figure(data)\n",
    "fig.show()"
   ]
  },
  {
   "cell_type": "code",
   "execution_count": null,
   "id": "cca2691f",
   "metadata": {},
   "outputs": [],
   "source": [
    "import time\n",
    "fig.write_image(\"sankey_iot_gp_new.pdf\")\n",
    "time.sleep(2)\n",
    "fig.write_image(\"sankey_iot_gp_new.pdf\")\n"
   ]
  },
  {
   "cell_type": "code",
   "execution_count": null,
   "id": "f1cf6967",
   "metadata": {},
   "outputs": [],
   "source": [
    "## not overlapping kind of right"
   ]
  },
  {
   "cell_type": "code",
   "execution_count": null,
   "id": "638c4c29",
   "metadata": {},
   "outputs": [],
   "source": [
    "source = []\n",
    "target = []\n",
    "values = []\n",
    "labels = []\n",
    "\n",
    "\n",
    "valueDict = {}\n",
    "\n",
    "\n",
    "for d in allSubDomains:\n",
    "    targetId = 0\n",
    "    if \".\" in classifiedMap[d]:\n",
    "        targetId = 3\n",
    "    else:\n",
    "        targetId = categoryId[classifiedMap[d]]\n",
    "\n",
    "\n",
    "\n",
    "    if d in gp_subdomainSet:\n",
    "        key = f\"0-{targetId}\"\n",
    "        valueDict[key] = valueDict.get(key, 0) + countGP[d]\n",
    "        #source.append(0)\n",
    "        #target.append(targetId)\n",
    "        #values.append(1)\n",
    "\n",
    "    if d in iot_subdomainSet:\n",
    "        key = f\"2-{targetId}\"\n",
    "        valueDict[key] = valueDict.get(key, 0) + countIoT[d]\n",
    "        #source.append(2)\n",
    "        #target.append(targetId)\n",
    "        #values.append(1)\n",
    "\n",
    "for k,v in valueDict.items():\n",
    "    sourceValue = k.split('-')[0]\n",
    "    targetValue = k.split('-')[1]\n",
    "    source.append(sourceValue)\n",
    "    target.append(targetValue)\n",
    "    values.append(valueDict[k])\n",
    "\n",
    "\n",
    "labels.append(\"GP-2022\")\n",
    "labels.append(\"GP-2022 & IoT-2022\")\n",
    "labels.append(\"IoT-2022\")\n",
    "labels.append(\"Other\")\n",
    "\n",
    "for l in range(4,current):\n",
    "    labels.append(idCategory[l])\n",
    "\n",
    "\n",
    "\n",
    "link = dict(source = source, target = target, value = values)\n",
    "node = dict(label = labels)\n",
    "data = go.Sankey(link = link, node=node)\n",
    "# plot\n",
    "fig = go.Figure(data)\n",
    "fig.show()"
   ]
  },
  {
   "cell_type": "code",
   "execution_count": null,
   "id": "2b8d8fba",
   "metadata": {},
   "outputs": [],
   "source": [
    "for k,v in classifiedMap.items():\n",
    "    if '.' in v:\n",
    "        print(v)"
   ]
  },
  {
   "cell_type": "code",
   "execution_count": null,
   "id": "3149a35e",
   "metadata": {},
   "outputs": [],
   "source": [
    "\n",
    "def getAppClassificationDataset(dataset):\n",
    "    result = []\n",
    "    for current in dataset:\n",
    "        current_classification = {}\n",
    "        for d,v in current.items():\n",
    "            key = \"\"\n",
    "            if \".\" in classifiedMap[d]:\n",
    "                key = \"Other\"\n",
    "            elif \"Location\" == classifiedMap[d]:\n",
    "                key = \"Other\"\n",
    "            elif \"Profiling\" == classifiedMap[d]:\n",
    "                key = \"Advertisement and Trackers\"\n",
    "            else:\n",
    "                key = classifiedMap[d]\n",
    "\n",
    "            current_classification[key] = current_classification.get(key, 0) + 1\n",
    "\n",
    "        result.append(current_classification)\n",
    "    return result\n",
    "\n"
   ]
  },
  {
   "cell_type": "code",
   "execution_count": null,
   "id": "66ade776",
   "metadata": {},
   "outputs": [],
   "source": [
    "iot_app_classification = getAppClassificationDataset(iotSetSanatizedSubdomains)\n",
    "gp_app_classifictaion = getAppClassificationDataset(generalSetSanitizedSubdomains)\n"
   ]
  },
  {
   "cell_type": "code",
   "execution_count": null,
   "id": "10143779",
   "metadata": {},
   "outputs": [],
   "source": [
    "def countApps(dataset):\n",
    "    result = {}\n",
    "    for app in dataset:\n",
    "        for k,v in app.items():\n",
    "            result[k] = result.get(k, 0) + 1\n",
    "\n",
    "    return result"
   ]
  },
  {
   "cell_type": "code",
   "execution_count": null,
   "id": "27e846f9",
   "metadata": {},
   "outputs": [],
   "source": [
    "app_count_iot = countApps(iot_app_classification)\n",
    "app_count_gp = countApps(gp_app_classifictaion)"
   ]
  },
  {
   "cell_type": "code",
   "execution_count": null,
   "id": "eabe7888",
   "metadata": {},
   "outputs": [],
   "source": [
    "app_count_gp"
   ]
  },
  {
   "cell_type": "code",
   "execution_count": null,
   "id": "a1eb98c0",
   "metadata": {},
   "outputs": [],
   "source": [
    "gp = {}\n",
    "iot = {}\n",
    "shared_domains = {}\n",
    "verified = {}\n",
    "shared_domains_verified = {}\n",
    "\n",
    "\n",
    "for d in allSubDomains:\n",
    "    key = \"\"\n",
    "    if \".\" in classifiedMap[d]:\n",
    "        key = \"Other\"\n",
    "    elif \"Location\" == classifiedMap[d]:\n",
    "        key = \"Other\"\n",
    "    elif \"Profiling\" == classifiedMap[d] or \"Identification\" in classifiedMap[d]:\n",
    "        key = \"Advertisement and Trackers\"\n",
    "    else:\n",
    "        key = classifiedMap[d]\n",
    "\n",
    "\n",
    "    if d in verified_subdomainSet:\n",
    "        verified[key] = verified.get(key, 0) + 1\n",
    "\n",
    "\n",
    "    if d in gp_subdomainSet and d in verified_subdomainSet:\n",
    "        shared_domains_verified[key] = shared_domains_verified.get(key, 0) + 1 #countIoT[d]\n",
    "\n",
    "\n",
    "    if d in gp_subdomainSet and d in iot_subdomainSet:\n",
    "        shared_domains[key] = shared_domains.get(key, 0) + 1 #countIoT[d]\n",
    "    if d in gp_subdomainSet:\n",
    "        gp[key] = gp.get(key, 0) + 1 #countGP[d]\n",
    "        #source.append(0)\n",
    "        #target.append(targetId)\n",
    "        #values.append(1)\n",
    "    if d in iot_subdomainSet:\n",
    "        iot[key] = iot.get(key, 0) + 1 #countIoT[d]"
   ]
  },
  {
   "cell_type": "code",
   "execution_count": null,
   "id": "9bed3da2",
   "metadata": {},
   "outputs": [],
   "source": [
    "allKeys = set()\n",
    "for key in gp.keys():\n",
    "    allKeys.add(key)\n",
    "\n",
    "for key in iot.keys():\n",
    "    allKeys.add(key)\n",
    "\n",
    "for key in shared_domains:\n",
    "    allKeys.add(key)\n",
    "\n",
    "for key in shared_domains_verified:\n",
    "    allKeys.add(key)\n",
    "\n",
    "for key in verified:\n",
    "    allKeys.add(key)"
   ]
  },
  {
   "cell_type": "code",
   "execution_count": null,
   "id": "c0ad19e6",
   "metadata": {},
   "outputs": [],
   "source": [
    "def get_classification_per_app_dataset(dataset):\n",
    "    result = {}\n",
    "    for key in allKeys:\n",
    "        result[key] = []\n",
    "    for app in dataset:\n",
    "        for key in allKeys:\n",
    "            result[key].append(app.get(key, 0))\n",
    "    return result"
   ]
  },
  {
   "cell_type": "code",
   "execution_count": null,
   "id": "0e157649",
   "metadata": {},
   "outputs": [],
   "source": [
    "# Import statistics Library\n",
    "import statistics"
   ]
  },
  {
   "cell_type": "code",
   "execution_count": null,
   "id": "d69222fe",
   "metadata": {},
   "outputs": [],
   "source": [
    "iot_app_classified_prepared = get_classification_per_app_dataset(iot_app_classification)\n",
    "gp_app_classified_prepared = get_classification_per_app_dataset(gp_app_classifictaion)"
   ]
  },
  {
   "cell_type": "code",
   "execution_count": null,
   "id": "512dd45c",
   "metadata": {},
   "outputs": [],
   "source": [
    "verified_app_classifictaion = getAppClassificationDataset(verifiedSetSanatizedSubdomains)\n",
    "\n",
    "verified_app_classified_prepared = get_classification_per_app_dataset(verified_app_classifictaion)"
   ]
  },
  {
   "cell_type": "code",
   "execution_count": null,
   "id": "7225229d",
   "metadata": {},
   "outputs": [],
   "source": [
    "app_count_verified = countApps(verified_app_classifictaion)"
   ]
  },
  {
   "cell_type": "code",
   "execution_count": null,
   "id": "3df41315",
   "metadata": {},
   "outputs": [],
   "source": [
    "tableDict_verified = {}\n",
    "for key in allKeys:\n",
    "    verified_string =f\"{round(statistics.mean(verified_app_classified_prepared[key]), 2)} ({round(statistics.stdev(verified_app_classified_prepared[key]), 2)})\"\n",
    "\n",
    "    gp_string = f\"{round(statistics.mean(gp_app_classified_prepared[key]), 2)} ({round(statistics.stdev(gp_app_classified_prepared[key]), 2)})\"\n",
    "    iot_string =f\"{round(statistics.mean(iot_app_classified_prepared[key]), 2)} ({round(statistics.stdev(iot_app_classified_prepared[key]), 2)})\"\n",
    "    tableDict_verified[key] = [app_count_verified.get(key, 0) ,app_count_gp.get(key,0), app_count_iot.get(key, 0),verified.get(key,0) ,gp.get(key, 0), iot.get(key, 0), shared_domains.get(key, 0), shared_domains_verified.get(key, 0), max(verified_app_classified_prepared[key]) ,max(gp_app_classified_prepared[key]), max(iot_app_classified_prepared[key]),verified_string, gp_string, iot_string]\n",
    "\n",
    "index_verified = [\"IoT-VER\", \"GP-2022\", \"IoT-2022\", \"IoT-VER FQDNs\",\"GP-2022 FQDNs\", \"IoT-2022 FQDNs\", \"Shared Domains\", \"Shared Domains-VER\", \"max-IoT-VER\" ,\"max-GP\", \"max-IoT\", \"Avg (Std) VER\", \"Avg (Std) GP\", \"Avg (Std) IoT\"]"
   ]
  },
  {
   "cell_type": "code",
   "execution_count": null,
   "id": "db0fc9fe",
   "metadata": {},
   "outputs": [],
   "source": [
    "df_verified = pd.DataFrame(tableDict_verified, index = index_verified)\n",
    "\n",
    "print(df_verified.to_latex())"
   ]
  },
  {
   "cell_type": "code",
   "execution_count": null,
   "id": "0873f919",
   "metadata": {},
   "outputs": [],
   "source": [
    "df_verified"
   ]
  },
  {
   "cell_type": "code",
   "execution_count": null,
   "id": "30d2a92b",
   "metadata": {},
   "outputs": [],
   "source": [
    "df_verified = df_verified.reindex(columns=sorted(df_verified.columns))"
   ]
  },
  {
   "cell_type": "code",
   "execution_count": null,
   "id": "e3ab8611",
   "metadata": {},
   "outputs": [],
   "source": [
    "sortedVerifiedColumns = sorted(df_verified.columns)\n"
   ]
  },
  {
   "cell_type": "code",
   "execution_count": null,
   "id": "20c465a7",
   "metadata": {},
   "outputs": [],
   "source": [
    "#sortedVerifiedColumns[4] = 'Social Networks'\n",
    "#sortedVerifiedColumns[5] = 'Other'\n"
   ]
  },
  {
   "cell_type": "code",
   "execution_count": null,
   "id": "5abd7718",
   "metadata": {},
   "outputs": [],
   "source": [
    "#df_verified = df_verified.reindex(columns=sortedVerifiedColumns)\n",
    "#df_verified.iloc[1]"
   ]
  },
  {
   "cell_type": "code",
   "execution_count": null,
   "id": "38b10db6",
   "metadata": {},
   "outputs": [],
   "source": [
    "formatted_GP = (df_verified.iloc[1]*100/947).apply(\"{0:.2f}%\".format)\n",
    "formatted_IoT = (df_verified.iloc[2]*100/1260).apply(\"{0:.2f}%\".format)\n",
    "formatted_verified = (df_verified.iloc[0]*100/9889).apply(\"{0:.2f}%\".format)\n",
    "\n",
    "formatted_verified_row = []\n",
    "\n",
    "for name,value in df_verified.iloc[0].items():\n",
    "    formatted_verified_row.append(f\"{value} ({formatted_verified[name]})\")\n",
    "\n",
    "\n",
    "formatted_iot_row = []\n",
    "\n",
    "for name,value in df_verified.iloc[2].items():\n",
    "    formatted_iot_row.append(f\"{value} ({formatted_IoT[name]})\")\n",
    "\n",
    "formatted_gp_row = []\n",
    "\n",
    "for name,value in df_verified.iloc[1].items():\n",
    "    formatted_gp_row.append(f\"{value} ({formatted_GP[name]})\")\n",
    "\n",
    "df_verified.iloc[0] = formatted_verified_row\n",
    "\n",
    "df_verified.iloc[2] = formatted_iot_row\n",
    "\n",
    "df_verified.iloc[1] = formatted_gp_row\n",
    "\n",
    "df_verified.transpose()\n",
    "\n",
    "print(df_verified.to_latex())\n",
    "print(df_verified.transpose().to_latex())\n",
    "\n",
    "df_verified = df_verified.drop(['max-GP', 'max-IoT', \"max-IoT-VER\"])\n",
    "\n",
    "df_verified = df_verified.reindex([\"IoT-VER FQDNs\",\"GP-2022 FQDNs\",\"IoT-2022 FQDNs\", \"Shared Domains\", \"Shared Domains-VER\",\"IoT-VER\" ,\"GP-2022\",\"IoT-2022\", \"Avg (Std) VER\",\"Avg (Std) GP\",\"Avg (Std) IoT\"])\n",
    "\n",
    "\n"
   ]
  },
  {
   "cell_type": "code",
   "execution_count": null,
   "id": "1733a7e2",
   "metadata": {},
   "outputs": [],
   "source": [
    "print(df_verified.transpose().to_latex())"
   ]
  },
  {
   "cell_type": "code",
   "execution_count": null,
   "id": "34cb7a2b",
   "metadata": {},
   "outputs": [],
   "source": [
    "df_verified.transpose()"
   ]
  },
  {
   "cell_type": "code",
   "execution_count": null,
   "id": "1c353ce7",
   "metadata": {},
   "outputs": [],
   "source": []
  },
  {
   "cell_type": "code",
   "execution_count": null,
   "id": "7965345b",
   "metadata": {},
   "outputs": [],
   "source": []
  },
  {
   "cell_type": "code",
   "execution_count": null,
   "id": "4ed2424a",
   "metadata": {},
   "outputs": [],
   "source": []
  },
  {
   "cell_type": "code",
   "execution_count": null,
   "id": "3da08fe8",
   "metadata": {},
   "outputs": [],
   "source": [
    "tableDict = {}\n",
    "for key in allKeys:\n",
    "    gp_string = f\"{round(statistics.mean(gp_app_classified_prepared[key]), 2)} ({round(statistics.stdev(gp_app_classified_prepared[key]), 2)})\"\n",
    "    iot_string =f\"{round(statistics.mean(iot_app_classified_prepared[key]), 2)} ({round(statistics.stdev(iot_app_classified_prepared[key]), 2)})\"\n",
    "    tableDict[key] = [app_count_gp.get(key,0), app_count_iot.get(key, 0), gp.get(key, 0), iot.get(key, 0), shared_domains.get(key, 0), max(gp_app_classified_prepared[key]), max(iot_app_classified_prepared[key]),gp_string, iot_string]\n",
    "\n",
    "index = [\"GP-2022\", \"IoT-2022\", \"GP-2022 FQDNs\", \"IoT-2022 FQDNs\", \"Shared Domains\",\"max-GP\", \"max-IoT\", \"Avg (Std) GP\", \"Avg (Std) IoT\"]"
   ]
  },
  {
   "cell_type": "code",
   "execution_count": null,
   "id": "34902348",
   "metadata": {},
   "outputs": [],
   "source": [
    "df = pd.DataFrame(tableDict, index = index)\n",
    "\n",
    "print (df.to_latex())"
   ]
  },
  {
   "cell_type": "code",
   "execution_count": null,
   "id": "e0d87bc4",
   "metadata": {},
   "outputs": [],
   "source": [
    "df"
   ]
  },
  {
   "cell_type": "code",
   "execution_count": null,
   "id": "514341bf",
   "metadata": {},
   "outputs": [],
   "source": [
    "df = df.reindex(columns=sorted(df.columns))"
   ]
  },
  {
   "cell_type": "code",
   "execution_count": null,
   "id": "146088c1",
   "metadata": {},
   "outputs": [],
   "source": [
    "sortedColumns = sorted(df.columns)"
   ]
  },
  {
   "cell_type": "code",
   "execution_count": null,
   "id": "5bee38a0",
   "metadata": {},
   "outputs": [],
   "source": [
    "sortedColumns[4] = 'Social Networks'\n",
    "sortedColumns[5] = 'Other'"
   ]
  },
  {
   "cell_type": "code",
   "execution_count": null,
   "id": "b53a968c",
   "metadata": {},
   "outputs": [],
   "source": [
    "df = df.reindex(columns=sortedColumns)"
   ]
  },
  {
   "cell_type": "code",
   "execution_count": null,
   "id": "9c1b0e66",
   "metadata": {},
   "outputs": [],
   "source": [
    "df.iloc[1]"
   ]
  },
  {
   "cell_type": "code",
   "execution_count": null,
   "id": "ab68deef",
   "metadata": {},
   "outputs": [],
   "source": [
    "df"
   ]
  },
  {
   "cell_type": "code",
   "execution_count": null,
   "id": "29bad366",
   "metadata": {},
   "outputs": [],
   "source": [
    "formatted_GP = (df.iloc[0]*100/947).apply(\"{0:.2f}%\".format)"
   ]
  },
  {
   "cell_type": "code",
   "execution_count": null,
   "id": "f9a111c6",
   "metadata": {},
   "outputs": [],
   "source": [
    "formatted_IoT = (df.iloc[1]*100/1260).apply(\"{0:.2f}%\".format)"
   ]
  },
  {
   "cell_type": "code",
   "execution_count": null,
   "id": "685d2726",
   "metadata": {},
   "outputs": [],
   "source": [
    "formatted_iot_row = []\n",
    "\n",
    "for name,value in df.iloc[1].items():\n",
    "    formatted_iot_row.append(f\"{value} ({formatted_IoT[name]})\")"
   ]
  },
  {
   "cell_type": "code",
   "execution_count": null,
   "id": "c55f80a0",
   "metadata": {},
   "outputs": [],
   "source": [
    "formatted_gp_row = []\n",
    "\n",
    "for name,value in df.iloc[0].items():\n",
    "    formatted_gp_row.append(f\"{value} ({formatted_GP[name]})\")"
   ]
  },
  {
   "cell_type": "code",
   "execution_count": null,
   "id": "a9ebe274",
   "metadata": {},
   "outputs": [],
   "source": [
    "df.iloc[1] = formatted_iot_row"
   ]
  },
  {
   "cell_type": "code",
   "execution_count": null,
   "id": "16999d7b",
   "metadata": {},
   "outputs": [],
   "source": [
    "df.iloc[0] = formatted_gp_row"
   ]
  },
  {
   "cell_type": "code",
   "execution_count": null,
   "id": "f7e92f29",
   "metadata": {},
   "outputs": [],
   "source": [
    "df.transpose()"
   ]
  },
  {
   "cell_type": "code",
   "execution_count": null,
   "id": "9292418c",
   "metadata": {},
   "outputs": [],
   "source": [
    "print(df.to_latex())"
   ]
  },
  {
   "cell_type": "code",
   "execution_count": null,
   "id": "fa5cd760",
   "metadata": {},
   "outputs": [],
   "source": [
    "print(df.transpose().to_latex())"
   ]
  },
  {
   "cell_type": "code",
   "execution_count": null,
   "id": "0224c90d",
   "metadata": {},
   "outputs": [],
   "source": [
    "df = df.drop(['max-GP', 'max-IoT'])"
   ]
  },
  {
   "cell_type": "code",
   "execution_count": null,
   "id": "831f7290",
   "metadata": {},
   "outputs": [],
   "source": [
    "df"
   ]
  },
  {
   "cell_type": "code",
   "execution_count": null,
   "id": "220783c7",
   "metadata": {},
   "outputs": [],
   "source": [
    "print(df.transpose().to_latex())"
   ]
  },
  {
   "cell_type": "code",
   "execution_count": null,
   "id": "bbbee469",
   "metadata": {},
   "outputs": [],
   "source": [
    "df = df.reindex([\"GP-2022 FQDNs\",\"IoT-2022 FQDNs\", \"Shared Domains\",\"GP-2022\",\"IoT-2022\", \"Avg (Std) GP\",\"Avg (Std) IoT\"])"
   ]
  },
  {
   "cell_type": "code",
   "execution_count": null,
   "id": "e4edac9d",
   "metadata": {},
   "outputs": [],
   "source": [
    "print(df.transpose().to_latex())"
   ]
  },
  {
   "cell_type": "code",
   "execution_count": null,
   "id": "924ad931",
   "metadata": {},
   "outputs": [],
   "source": [
    "df"
   ]
  },
  {
   "cell_type": "code",
   "execution_count": null,
   "id": "176db634",
   "metadata": {},
   "outputs": [],
   "source": [
    "df.transpose()"
   ]
  },
  {
   "cell_type": "code",
   "execution_count": null,
   "id": "74556cf8",
   "metadata": {},
   "outputs": [],
   "source": []
  }
 ],
 "metadata": {
  "kernelspec": {
   "display_name": "Python 3 (ipykernel)",
   "language": "python",
   "name": "python3"
  },
  "language_info": {
   "codemirror_mode": {
    "name": "ipython",
    "version": 3
   },
   "file_extension": ".py",
   "mimetype": "text/x-python",
   "name": "python",
   "nbconvert_exporter": "python",
   "pygments_lexer": "ipython3",
   "version": "3.10.10"
  }
 },
 "nbformat": 4,
 "nbformat_minor": 5
}
