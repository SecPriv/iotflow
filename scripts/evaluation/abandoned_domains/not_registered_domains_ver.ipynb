{
 "cells": [
  {
   "cell_type": "code",
   "execution_count": null,
   "id": "81bacd28",
   "metadata": {},
   "outputs": [],
   "source": [
    "import whois\n",
    "import time\n",
    "import util.util as util\n",
    "import socket\n",
    "import whois\n",
    "from tld import get_tld\n"
   ]
  },
  {
   "cell_type": "code",
   "execution_count": null,
   "id": "1a401bb7",
   "metadata": {},
   "outputs": [],
   "source": [
    "# TODO: set the path to your result folder\n",
    "# set the first argument to the base path of the result folder, second argument is th folder name, third argument a mapping file - that tells for apps in multiple sub datasets which app to include\n",
    "verified = util.get_verified_dataset(\"/\", \"/2023_04_06/\", \"/verified_dataset/result.json\")"
   ]
  },
  {
   "cell_type": "code",
   "execution_count": null,
   "id": "f4f0ee30",
   "metadata": {},
   "outputs": [],
   "source": [
    "def getAllDataWithoutRequests(app):\n",
    "    result = set()\n",
    "    result.update(util.getUniqueDomainsFromJson(app.amqp))\n",
    "    result.update(util.getUniqueDomainsFromJson(app.coap))\n",
    "    result.update(util.getUniqueDomainsFromJson(app.endpoints))\n",
    "    result.update(util.getUniqueDomainsFromJson(app.mqtt))\n",
    "    result.update(util.getUniqueDomainsFromJson(app.xmpp))\n",
    "    return result\n"
   ]
  },
  {
   "cell_type": "code",
   "execution_count": null,
   "id": "34f7f7db",
   "metadata": {},
   "outputs": [],
   "source": [
    "apps = []\n",
    "for a in verified:\n",
    "    apps.append(util.domainsWithoutLocal(getAllDataWithoutRequests(a)))"
   ]
  },
  {
   "cell_type": "code",
   "execution_count": null,
   "id": "97937d42",
   "metadata": {},
   "outputs": [],
   "source": [
    "getAllDataWithoutRequests(appAnalysis[3])"
   ]
  },
  {
   "cell_type": "code",
   "execution_count": null,
   "id": "f1ab863d",
   "metadata": {},
   "outputs": [],
   "source": [
    "def notResolving(hostname):\n",
    "    try:\n",
    "        return socket.gethostbyname(hostname) == None\n",
    "    except UnicodeError as e:\n",
    "        return True\n",
    "    except socket.gaierror as e:\n",
    "        return True"
   ]
  },
  {
   "cell_type": "code",
   "execution_count": null,
   "id": "5136ad61",
   "metadata": {},
   "outputs": [],
   "source": [
    "allDomains = set()\n",
    "for a in apps:\n",
    "    for d in a:\n",
    "        allDomains.add(d)"
   ]
  },
  {
   "cell_type": "code",
   "execution_count": null,
   "id": "e3cd23e1",
   "metadata": {},
   "outputs": [],
   "source": [
    "notResolvingDomains = set()\n",
    "for d in allDomains:\n",
    "    if notResolving(d):\n",
    "        notResolvingDomains.add(d)"
   ]
  },
  {
   "cell_type": "code",
   "execution_count": null,
   "id": "4cf6f0fc",
   "metadata": {},
   "outputs": [],
   "source": [
    "filteredDomains = set()\n",
    "likelyInvalid = [\"GROUP\", \"zip\", None, \"name\", \"android\", \"mp\"]\n",
    "for d in notResolvingDomains:\n",
    "    if any(ele.isupper() for ele in d) or d[0] == '.' or d[0].isdigit():\n",
    "        continue\n",
    "    if get_tld(d, fix_protocol=True, fail_silently=True) not in likelyInvalid:\n",
    "        filteredDomains.add(d)\n"
   ]
  },
  {
   "cell_type": "code",
   "execution_count": null,
   "id": "bbfa252f",
   "metadata": {},
   "outputs": [],
   "source": [
    "def isNotAvailable(domain):\n",
    "    try:\n",
    "        w = whois.whois(domain)\n",
    "        if w.domain_name == None:\n",
    "            return True\n",
    "            #print(w)\n",
    "    except whois.parser.PywhoisError:\n",
    "        #print(\"Exception:\")\n",
    "        return True\n",
    "        #time.sleep(5)\n",
    "    return False\n"
   ]
  },
  {
   "cell_type": "code",
   "execution_count": null,
   "id": "6fa6be60",
   "metadata": {},
   "outputs": [],
   "source": [
    "result = set()\n",
    "for d in filteredDomains:\n",
    "    if isNotAvailable(d):\n",
    "        result.add(d)\n",
    "\n"
   ]
  },
  {
   "cell_type": "code",
   "execution_count": null,
   "id": "264ee805",
   "metadata": {},
   "outputs": [],
   "source": [
    "result"
   ]
  },
  {
   "cell_type": "code",
   "execution_count": null,
   "id": "788d5f41",
   "metadata": {},
   "outputs": [],
   "source": [
    "len(result)"
   ]
  },
  {
   "cell_type": "code",
   "execution_count": null,
   "id": "0d52052d",
   "metadata": {},
   "outputs": [],
   "source": []
  },
  {
   "cell_type": "code",
   "execution_count": null,
   "id": "3415aa54",
   "metadata": {},
   "outputs": [],
   "source": []
  }
 ],
 "metadata": {
  "kernelspec": {
   "display_name": "Python 3 (ipykernel)",
   "language": "python",
   "name": "python3"
  },
  "language_info": {
   "codemirror_mode": {
    "name": "ipython",
    "version": 3
   },
   "file_extension": ".py",
   "mimetype": "text/x-python",
   "name": "python",
   "nbconvert_exporter": "python",
   "pygments_lexer": "ipython3",
   "version": "3.10.10"
  }
 },
 "nbformat": 4,
 "nbformat_minor": 5
}
