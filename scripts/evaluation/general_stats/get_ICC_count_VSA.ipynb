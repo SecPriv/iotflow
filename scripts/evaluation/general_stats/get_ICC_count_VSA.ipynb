{
 "cells": [
  {
   "cell_type": "code",
   "execution_count": null,
   "id": "a5f0e66a",
   "metadata": {},
   "outputs": [],
   "source": [
    "#Intent_GetExtra\n",
    "#Bundle_GetExtra\n",
    "#SharedPreferences_Get\n",
    "#SQLiteDatabase_Get"
   ]
  },
  {
   "cell_type": "code",
   "execution_count": null,
   "id": "97a0f4eb",
   "metadata": {},
   "outputs": [],
   "source": [
    "# Table with Number of apps domains, subdomains reconstructed, validated subdomains, subdomains and domains per app\n",
    "import importlib\n",
    "import util.util as util\n",
    "\n",
    "#import util.util\n",
    "#importlib.reload(util.util)\n",
    "import util.domainUtil as domainUtil"
   ]
  },
  {
   "cell_type": "code",
   "execution_count": null,
   "id": "b8d779fe",
   "metadata": {},
   "outputs": [],
   "source": [
    "# TODO: set the path to your result folder\n",
    "# set the first argument to the base path of the result folder, second argument is th folder name, third argument a mapping file - that tells for apps in multiple sub datasets which app to include\n",
    "\n",
    "verified = util.get_verified_dataset(\"/\", \"/2023_04_06/\", \"/verified_dataset/result.json\")"
   ]
  },
  {
   "cell_type": "code",
   "execution_count": null,
   "id": "023030f5",
   "metadata": {},
   "outputs": [],
   "source": []
  },
  {
   "cell_type": "code",
   "execution_count": null,
   "id": "196c9feb",
   "metadata": {},
   "outputs": [],
   "source": [
    "# TODO: set the path to load your data\n",
    "generalDataset = util.loadAllData(\"/gp_2022/\", True)\n"
   ]
  },
  {
   "cell_type": "code",
   "execution_count": null,
   "id": "bdb8d13f",
   "metadata": {},
   "outputs": [],
   "source": [
    "def hasICCValue(data):\n",
    "    total_value_points = 0\n",
    "    icc_in_value_point = 0\n",
    "\n",
    "    if 'ValuePoints' not in data:\n",
    "        return total_value_points, icc_in_value_point\n",
    "    total_value_points = len(data['ValuePoints'])\n",
    "    for valuePoint in data['ValuePoints']:\n",
    "        valueSet = None\n",
    "\n",
    "        has_icc = False\n",
    "        if not 'ValueSet' in valuePoint:\n",
    "            continue\n",
    "\n",
    "\n",
    "        for valueSet in valuePoint['ValueSet']:\n",
    "            if len(valueSet) == 0:\n",
    "                continue\n",
    "\n",
    "            for key in valueSet.keys():\n",
    "                for value in valueSet[key]:\n",
    "                    if has_icc:\n",
    "                        continue\n",
    "\n",
    "                    if \"Intent_GetExtra\" in value or \"Bundle_GetExtra\" in value or \"SharedPreferences_Get\" in value or \"SQLiteDatabase_Get\" in value:\n",
    "                        icc_in_value_point = icc_in_value_point + 1\n",
    "                        has_icc = True\n",
    "\n",
    "\n",
    "    return total_value_points, icc_in_value_point\n"
   ]
  },
  {
   "cell_type": "code",
   "execution_count": null,
   "id": "7d5eb7c5",
   "metadata": {},
   "outputs": [],
   "source": [
    "def analyze_app_for_icc(app):\n",
    "    total_vp = 0\n",
    "    icc_in_vp = 0\n",
    "    total, icc = hasICCValue(app.amqp)\n",
    "    total_vp = total_vp + total\n",
    "    icc_in_vp = icc_in_vp + icc\n",
    "\n",
    "    total, icc =hasICCValue(app.coap)\n",
    "    total_vp = total_vp + total\n",
    "    icc_in_vp = icc_in_vp + icc\n",
    "\n",
    "    total, icc =hasICCValue(app.endpoints)\n",
    "    total_vp = total_vp + total\n",
    "    icc_in_vp = icc_in_vp + icc\n",
    "\n",
    "    total, icc = hasICCValue(app.mqtt)\n",
    "    total_vp = total_vp + total\n",
    "    icc_in_vp = icc_in_vp + icc\n",
    "\n",
    "\n",
    "    total, icc =hasICCValue(app.xmpp)\n",
    "    total_vp = total_vp + total\n",
    "    icc_in_vp = icc_in_vp + icc\n",
    "\n",
    "    total, icc =hasICCValue(app.udp)\n",
    "    total_vp = total_vp + total\n",
    "    icc_in_vp = icc_in_vp + icc\n",
    "\n",
    "    total, icc =hasICCValue(app.webview)\n",
    "    total_vp = total_vp + total\n",
    "    icc_in_vp = icc_in_vp + icc\n",
    "\n",
    "    total, icc =hasICCValue(app.requests)\n",
    "    total_vp = total_vp + total\n",
    "    icc_in_vp = icc_in_vp + icc\n",
    "    return total_vp, icc_in_vp"
   ]
  },
  {
   "cell_type": "code",
   "execution_count": null,
   "id": "f39420aa",
   "metadata": {},
   "outputs": [],
   "source": [
    "def analyze_dataset(dataset):\n",
    "    result = []\n",
    "    for app in dataset:\n",
    "        result.append(analyze_app_for_icc(app))\n",
    "    return result"
   ]
  },
  {
   "cell_type": "code",
   "execution_count": null,
   "id": "12cfb9ab",
   "metadata": {},
   "outputs": [],
   "source": []
  },
  {
   "cell_type": "code",
   "execution_count": null,
   "id": "52dacbe2",
   "metadata": {},
   "outputs": [],
   "source": []
  },
  {
   "cell_type": "code",
   "execution_count": null,
   "id": "1b3deaf2",
   "metadata": {},
   "outputs": [],
   "source": [
    "gp_2022 = analyze_dataset(generalDataset)"
   ]
  },
  {
   "cell_type": "code",
   "execution_count": null,
   "id": "5a6442ff",
   "metadata": {},
   "outputs": [],
   "source": [
    "iot_ver = analyze_dataset(verified)"
   ]
  },
  {
   "cell_type": "code",
   "execution_count": null,
   "id": "61fedf93",
   "metadata": {},
   "outputs": [],
   "source": [
    "def number_of_apps(dataset):\n",
    "    count = 0\n",
    "    for data in dataset:\n",
    "        if data[1] > 0:\n",
    "            count = count + 1\n",
    "\n",
    "    return count"
   ]
  },
  {
   "cell_type": "code",
   "execution_count": null,
   "id": "d54f7569",
   "metadata": {},
   "outputs": [],
   "source": []
  },
  {
   "cell_type": "code",
   "execution_count": null,
   "id": "911affe6",
   "metadata": {},
   "outputs": [],
   "source": [
    "def value_point_percentage(dataset):\n",
    "    icc = 0\n",
    "    total = 0\n",
    "    for data in dataset:\n",
    "        icc = icc + data[1]\n",
    "        total = total + data[0]\n",
    "    return icc/total"
   ]
  },
  {
   "cell_type": "code",
   "execution_count": null,
   "id": "2b26bb56",
   "metadata": {},
   "outputs": [],
   "source": []
  },
  {
   "cell_type": "code",
   "execution_count": null,
   "id": "49932884",
   "metadata": {},
   "outputs": [],
   "source": []
  },
  {
   "cell_type": "code",
   "execution_count": null,
   "id": "ea85a3f4",
   "metadata": {},
   "outputs": [],
   "source": []
  },
  {
   "cell_type": "code",
   "execution_count": null,
   "id": "a03ecdb9",
   "metadata": {},
   "outputs": [],
   "source": [
    "value_point_percentage(gp_2022) * 100"
   ]
  },
  {
   "cell_type": "code",
   "execution_count": null,
   "id": "fbd9e65b",
   "metadata": {},
   "outputs": [],
   "source": [
    "value_point_percentage(iot_ver) * 100"
   ]
  },
  {
   "cell_type": "code",
   "execution_count": null,
   "id": "2e35afb7",
   "metadata": {},
   "outputs": [],
   "source": []
  },
  {
   "cell_type": "code",
   "execution_count": null,
   "id": "e193072d",
   "metadata": {},
   "outputs": [],
   "source": []
  }
 ],
 "metadata": {
  "kernelspec": {
   "display_name": "Python 3 (ipykernel)",
   "language": "python",
   "name": "python3"
  },
  "language_info": {
   "codemirror_mode": {
    "name": "ipython",
    "version": 3
   },
   "file_extension": ".py",
   "mimetype": "text/x-python",
   "name": "python",
   "nbconvert_exporter": "python",
   "pygments_lexer": "ipython3",
   "version": "3.10.10"
  }
 },
 "nbformat": 4,
 "nbformat_minor": 5
}
