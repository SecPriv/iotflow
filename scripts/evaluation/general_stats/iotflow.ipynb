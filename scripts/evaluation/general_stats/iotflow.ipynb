{
 "cells": [
  {
   "cell_type": "code",
   "execution_count": null,
   "id": "3659afa0",
   "metadata": {},
   "outputs": [],
   "source": [
    "# Table with Number of apps domains, subdomains reconstructed, validated subdomains, subdomains and domains per app\n",
    "import importlib\n",
    "\n",
    "from typing import List\n",
    "\n",
    "import util.util as util\n",
    "\n",
    "#import util.util\n",
    "#importlib.reload(util.util)\n",
    "import util.domainUtil as domainUtil"
   ]
  },
  {
   "cell_type": "code",
   "execution_count": null,
   "id": "81f9c543",
   "metadata": {},
   "outputs": [],
   "source": [
    "# TODO: set the path to your result folder\n",
    "# set the first argument to the base path of the result folder, second argument is th folder name, third argument a mapping file - that tells for apps in multiple sub datasets which app to include\n",
    "\n",
    "verified = util.get_verified_dataset(\"//\", \"/2023_04_06/\", \"/verified_dataset/result.json\")\n"
   ]
  },
  {
   "cell_type": "code",
   "execution_count": null,
   "id": "1c2c33a3",
   "metadata": {},
   "outputs": [],
   "source": [
    "# TODO: set the path to load your data\n",
    "generalDataset = util.loadAllData(\"/gp_2022/\", True)\n"
   ]
  },
  {
   "cell_type": "code",
   "execution_count": null,
   "id": "ce9e4788",
   "metadata": {},
   "outputs": [],
   "source": [
    "class CompleteData:\n",
    "    def __init__(self, iotScope: util.AppAnalysis, dataset_path: str):\n",
    "        self.iotScope = iotScope\n",
    "        app = iotScope.app.replace(\".json\", \".xml\")\n",
    "\n",
    "        if \"neupane\" in iotScope.path:\n",
    "            dataset_path = f\"{dataset_path}/neupane\"\n",
    "        elif \"iotspotter\" in iotScope.path:\n",
    "            dataset_path = f\"{dataset_path}/iotspotter\"\n",
    "        elif \"iotprofiler\" in iotScope.path:\n",
    "            dataset_path = f\"{dataset_path}/iotprofiler\"\n",
    "\n",
    "        self.bl_to_icc = f\"{dataset_path}/bl_to_icc_or_sink/{app}\"\n",
    "        self.bl_from_icc = f\"{dataset_path}/bl_from_icc_to_sink/{app}\"\n",
    "\n",
    "        self.gen_to_icc = f\"{dataset_path}/general_to_icc_or_sink/{app}\"\n",
    "        self.gen_from_icc = f\"{dataset_path}/general_from_icc_to_sink/{app}\"\n",
    "        self.local_to_icc = f\"{dataset_path}/local_to_icc_or_sink/{app}\"\n",
    "        self.local_from_icc = f\"{dataset_path}/local_from_icc_to_sink/{app}\"\n",
    "        self.cr_both_apache = f\"{dataset_path}/both/web_apache/{app}\"\n",
    "        self.cr_both_okhttp3 = f\"{dataset_path}/both/web_okhttp3/{app}\"\n",
    "        self.cr_both_udp = f\"{dataset_path}/both/web_udp_data/{app}\"\n",
    "\n",
    "        self.cr_sc_amqp = f\"{dataset_path}/source_connection/amqp_rabbitmq/{app}\"\n",
    "        self.cr_sc_coap = f\"{dataset_path}/source_connection/coap_californium/{app}\"\n",
    "        self.cr_sc_aws = f\"{dataset_path}/source_connection/mqtt_aws/{app}\"\n",
    "        self.cr_sc_fusesource = f\"{dataset_path}/source_connection/mqtt_fusesource/{app}\"\n",
    "        self.cr_sc_paho = f\"{dataset_path}/source_connection/mqtt_paho/{app}\"\n",
    "        self.cr_sc_tuya = f\"{dataset_path}/source_connection/mqtt_tuya/{app}\"\n",
    "        self.cr_sc_java = f\"{dataset_path}/source_connection/web_java/{app}\"\n",
    "\n",
    "        self.cr_sic_amqp = f\"{dataset_path}/sink_connection/amqp_rabbitmq/{app}\"\n",
    "        self.cr_sic_coap = f\"{dataset_path}/sink_connection/coap_californium/{app}\"\n",
    "        self.cr_sic_aws = f\"{dataset_path}/sink_connection/mqtt_aws/{app}\"\n",
    "        self.cr_sic_fusesource = f\"{dataset_path}/sink_connection//mqtt_fusesource/{app}\"\n",
    "        self.cr_sic_paho = f\"{dataset_path}/sink_connection/mqtt_paho/{app}\"\n",
    "        self.cr_sic_tuya = f\"{dataset_path}/sink_connection/mqtt_tuya/{app}\"\n",
    "        self.cr_sic_java = f\"{dataset_path}/sink_connection/web_java/{app}\""
   ]
  },
  {
   "cell_type": "code",
   "execution_count": null,
   "id": "19d0931d",
   "metadata": {},
   "outputs": [],
   "source": [
    "def get_complete_runs(dataset, path):\n",
    "    result = []\n",
    "    for app in dataset:\n",
    "        result.append(CompleteData(app, path))\n",
    "\n",
    "    return result"
   ]
  },
  {
   "cell_type": "code",
   "execution_count": null,
   "id": "426f389c",
   "metadata": {},
   "outputs": [],
   "source": []
  },
  {
   "cell_type": "code",
   "execution_count": null,
   "id": "6351f8ba",
   "metadata": {},
   "outputs": [],
   "source": [
    "import statistics\n",
    "\n",
    "def getRunTime(jsonData):\n",
    "    initTime = 0\n",
    "    solveTime = 0\n",
    "    totalTime = 0\n",
    "\n",
    "    if 'initTime' in jsonData:\n",
    "        initTime = int(jsonData['initTime'])/1000\n",
    "\n",
    "    if 'solveTime' in jsonData:\n",
    "        solveTime = int(jsonData['solveTime'])/1000\n",
    "\n",
    "    if initTime > -1 and solveTime > -1:\n",
    "        totalTime = initTime + solveTime\n",
    "\n",
    "    return initTime, solveTime, totalTime\n",
    "\n",
    "def runtimeStats(jsonFiles):\n",
    "    totalRunTime = []\n",
    "    initTime = []\n",
    "    solveTime = []\n",
    "    for j in jsonFiles:\n",
    "        init, solve, total = getRunTime(j)\n",
    "        if total > 0:\n",
    "            totalRunTime.append(total)\n",
    "        else:\n",
    "            totalRunTime.append(0)\n",
    "        if solve > 0:\n",
    "            solveTime.append(solve)\n",
    "        else:\n",
    "            solveTime.append(0)\n",
    "        if init > 0:\n",
    "            initTime.append(init)\n",
    "        else:\n",
    "            initTime.append(0)\n",
    "    return totalRunTime, initTime, solveTime\n",
    "\n",
    "def get_vsa_time_app(app):\n",
    "    amqpInitTime, amqpSolveTime, amqpRunTime = getRunTime(app.amqp)\n",
    "    mqttInitTime,mqttSolveTime,mqttRunTime = getRunTime(app.mqtt)\n",
    "    coapInitTime,coapSolveTime,coapRunTime = getRunTime(app.coap)\n",
    "    endpointsInitTime,endpointsSolveTime,endpointsRunTime = getRunTime(app.endpoints)\n",
    "    xmppInitTime,xmppSolveTime,xmppRunTime = getRunTime(app.xmpp)\n",
    "    sourcesInitTime,sourcesSolveTime,sourcesRunTime = getRunTime(app.sources)\n",
    "    requestsInitTime,requestsSolveTime,requestsRunTime = getRunTime(app.sinks)\n",
    "    udpInitTime,udpSolveTime,udpRunTime = getRunTime(app.udp)\n",
    "    webviewInitTime,webviewSolveTime,webviewRunTime = getRunTime(app.webview)\n",
    "    cryptoInitTime,cryptoSolveTime,cryptoRunTime = getRunTime(app.crypto)\n",
    "\n",
    "\n",
    "    initTime = (amqpInitTime + mqttInitTime + coapInitTime + endpointsInitTime + xmppInitTime + sourcesInitTime + requestsInitTime + udpInitTime + webviewInitTime + cryptoInitTime)\n",
    "    solveTime = (amqpSolveTime + mqttSolveTime + coapSolveTime + endpointsSolveTime + xmppSolveTime + sourcesSolveTime + requestsSolveTime + udpSolveTime + webviewSolveTime + cryptoSolveTime)\n",
    "    runTime =(amqpRunTime + mqttRunTime + coapRunTime + endpointsRunTime + xmppRunTime + sourcesRunTime + requestsRunTime + udpRunTime + webviewRunTime + cryptoRunTime)\n",
    "\n",
    "\n",
    "    return initTime, solveTime, runTime\n",
    "\n"
   ]
  },
  {
   "cell_type": "code",
   "execution_count": null,
   "id": "e167f878",
   "metadata": {},
   "outputs": [],
   "source": [
    "from xml.etree.ElementTree import Element, tostring, parse, ParseError\n",
    "import os\n",
    "import statistics\n",
    "\n",
    "\n",
    "def get_flowdroid_stats_app(app: str):\n",
    "    call_graph_construction: int = 0\n",
    "    taint_propagation: int = 0\n",
    "    path_reconstruction: int = 0\n",
    "    total_runtime: int = 0\n",
    "    max_memory: int = 0\n",
    "    termination_state: str = None\n",
    "    no_taint_propagation = True\n",
    "\n",
    "    try:\n",
    "\n",
    "        xml_data: Element = parse(f\"{app}\").getroot()\n",
    "        state = xml_data.get(\"TerminationState\")\n",
    "        if state is not None:\n",
    "            termination_state = state\n",
    "            #print(termination_state)\n",
    "        #else:\n",
    "        #    print(xml_data)\n",
    "\n",
    "        performance_data = xml_data.find(\"PerformanceData\")\n",
    "        if performance_data is not None:\n",
    "            for performance_entry in performance_data.findall(\"PerformanceEntry\"):\n",
    "                if performance_entry.get(\"Name\") == \"CallgraphConstructionSeconds\":\n",
    "                    call_graph_construction = (int(performance_entry.get(\"Value\")))\n",
    "                elif performance_entry.get(\"Name\") == \"TaintPropagationSeconds\":\n",
    "                    taint_propagation = (int(performance_entry.get(\"Value\")))\n",
    "                    no_taint_propagation = False\n",
    "                elif performance_entry.get(\"Name\") == \"PathReconstructionSeconds\":\n",
    "                    path_reconstruction = (int(performance_entry.get(\"Value\")))\n",
    "                    no_taint_propagation = False\n",
    "                elif performance_entry.get(\"Name\") == \"TotalRuntimeSeconds\":\n",
    "                    total_runtime = (int(performance_entry.get(\"Value\")))\n",
    "                elif performance_entry.get(\"Name\") == \"MaxMemoryConsumption\":\n",
    "                    max_memory = (int(performance_entry.get(\"Value\")))\n",
    "    except ParseError:\n",
    "        pass\n",
    "    except FileNotFoundError:\n",
    "        pass\n",
    "\n",
    "    if no_taint_propagation:\n",
    "        # if there is no taint propagation there was no source -> we skipped such analysis at some point to avoid the callgraph contstruction\n",
    "        # for a fair comparison we also set them to 0\n",
    "        return 0, 0, 0, 0, 0, termination_state\n",
    "\n",
    "    return call_graph_construction, taint_propagation, path_reconstruction, total_runtime, max_memory, termination_state\n",
    "\n",
    "\n",
    "def used_timeout(app):\n",
    "    return get_flowdroid_stats_app(app.bl_to_icc)[5] == \"DataFlowTimeout\" or  get_flowdroid_stats_app(app.bl_from_icc)[5] == \"DataFlowTimeout\" or  get_flowdroid_stats_app(app.gen_to_icc)[5] == \"DataFlowTimeout\" or  get_flowdroid_stats_app(app.gen_from_icc)[5] == \"DataFlowTimeout\" or   get_flowdroid_stats_app(app.local_to_icc)[5] == \"DataFlowTimeout\" or get_flowdroid_stats_app(app.local_from_icc)[5] == \"DataFlowTimeout\"  or get_flowdroid_stats_app(app.cr_both_udp)[5] == \"DataFlowTimeout\" or get_flowdroid_stats_app(app.cr_both_okhttp3)[5] == \"DataFlowTimeout\" or   get_flowdroid_stats_app(app.cr_both_apache)[5] == \"DataFlowTimeout\" or  get_flowdroid_stats_app(app.cr_sc_java)[5] == \"DataFlowTimeout\" or    get_flowdroid_stats_app(app.cr_sc_amqp)[5] == \"DataFlowTimeout\" or get_flowdroid_stats_app(app.cr_sc_coap)[5] == \"DataFlowTimeout\" or     get_flowdroid_stats_app(app.cr_sc_paho)[5] == \"DataFlowTimeout\" or get_flowdroid_stats_app(app.cr_sc_aws)[5] == \"DataFlowTimeout\" or     get_flowdroid_stats_app(app.cr_sc_tuya)[5] == \"DataFlowTimeout\" or get_flowdroid_stats_app(app.cr_sc_fusesource)[5] == \"DataFlowTimeout\" or  get_flowdroid_stats_app(app.cr_sic_java)[5] == \"DataFlowTimeout\" or get_flowdroid_stats_app(app.cr_sic_amqp)[5] == \"DataFlowTimeout\" or get_flowdroid_stats_app(app.cr_sic_coap)[5] == \"DataFlowTimeout\" or   get_flowdroid_stats_app(app.cr_sic_paho)[5] == \"DataFlowTimeout\" or      get_flowdroid_stats_app(app.cr_sic_aws)[5] == \"DataFlowTimeout\" or    get_flowdroid_stats_app(app.cr_sic_tuya)[5] == \"DataFlowTimeout\" or      get_flowdroid_stats_app(app.cr_sic_fusesource)[5] == \"DataFlowTimeout\"\n",
    "\n",
    "\n",
    "def used_call_graph_timeout(app, timeout_trashhold):\n",
    "    return get_flowdroid_stats_app(app.bl_to_icc)[0] > timeout_trashhold or  get_flowdroid_stats_app(app.bl_from_icc)[0]  > timeout_trashhold or  get_flowdroid_stats_app(app.gen_to_icc)[0]  > timeout_trashhold or  get_flowdroid_stats_app(app.gen_from_icc)[0]  > timeout_trashhold or   get_flowdroid_stats_app(app.local_to_icc)[0]  > timeout_trashhold or get_flowdroid_stats_app(app.local_from_icc)[0]  > timeout_trashhold  or get_flowdroid_stats_app(app.cr_both_udp)[0]  > timeout_trashhold or get_flowdroid_stats_app(app.cr_both_okhttp3)[0]  > timeout_trashhold or   get_flowdroid_stats_app(app.cr_both_apache)[0]  > timeout_trashhold or  get_flowdroid_stats_app(app.cr_sc_java)[0]  > timeout_trashhold or    get_flowdroid_stats_app(app.cr_sc_amqp)[0]  > timeout_trashhold or get_flowdroid_stats_app(app.cr_sc_coap)[0]  > timeout_trashhold or     get_flowdroid_stats_app(app.cr_sc_paho)[0]  > timeout_trashhold or get_flowdroid_stats_app(app.cr_sc_aws)[0]  > timeout_trashhold or     get_flowdroid_stats_app(app.cr_sc_tuya)[0]  > timeout_trashhold or get_flowdroid_stats_app(app.cr_sc_fusesource)[0]  > timeout_trashhold or  get_flowdroid_stats_app(app.cr_sic_java)[0]  > timeout_trashhold or get_flowdroid_stats_app(app.cr_sic_amqp)[0]  > timeout_trashhold or get_flowdroid_stats_app(app.cr_sic_coap)[0]  > timeout_trashhold or   get_flowdroid_stats_app(app.cr_sic_paho)[0]  > timeout_trashhold or      get_flowdroid_stats_app(app.cr_sic_aws)[0]  > timeout_trashhold or    get_flowdroid_stats_app(app.cr_sic_tuya)[0]  > timeout_trashhold or      get_flowdroid_stats_app(app.cr_sic_fusesource)[0]  > timeout_trashhold\n",
    "\n",
    "def get_app_flowdroid_stats(app):\n",
    "    total = 0\n",
    "    total = total + get_flowdroid_stats_app(app.bl_to_icc)[3]\n",
    "    total = total + get_flowdroid_stats_app(app.bl_from_icc)[3]\n",
    "    total = total + get_flowdroid_stats_app(app.gen_to_icc)[3]\n",
    "    total = total + get_flowdroid_stats_app(app.gen_from_icc)[3]\n",
    "    total = total + get_flowdroid_stats_app(app.local_to_icc)[3]\n",
    "    total = total + get_flowdroid_stats_app(app.local_from_icc)[3]\n",
    "    total = total + get_flowdroid_stats_app(app.cr_both_udp)[3]\n",
    "    total = total + get_flowdroid_stats_app(app.cr_both_okhttp3)[3]\n",
    "    total = total + get_flowdroid_stats_app(app.cr_both_apache)[3]\n",
    "\n",
    "\n",
    "    total = total + get_flowdroid_stats_app(app.cr_sc_java)[3]\n",
    "    total = total + get_flowdroid_stats_app(app.cr_sc_amqp)[3]\n",
    "    total = total + get_flowdroid_stats_app(app.cr_sc_coap)[3]\n",
    "    total = total + get_flowdroid_stats_app(app.cr_sc_paho)[3]\n",
    "    total = total + get_flowdroid_stats_app(app.cr_sc_aws)[3]\n",
    "    total = total + get_flowdroid_stats_app(app.cr_sc_tuya)[3]\n",
    "    total = total + get_flowdroid_stats_app(app.cr_sc_fusesource)[3]\n",
    "\n",
    "    total = total + get_flowdroid_stats_app(app.cr_sic_java)[3]\n",
    "    total = total + get_flowdroid_stats_app(app.cr_sic_amqp)[3]\n",
    "    total = total + get_flowdroid_stats_app(app.cr_sic_coap)[3]\n",
    "    total = total + get_flowdroid_stats_app(app.cr_sic_paho)[3]\n",
    "    total = total + get_flowdroid_stats_app(app.cr_sic_aws)[3]\n",
    "    total = total + get_flowdroid_stats_app(app.cr_sic_tuya)[3]\n",
    "    total = total + get_flowdroid_stats_app(app.cr_sic_fusesource)[3]\n",
    "\n",
    "\n",
    "\n",
    "    return total\n",
    "\n",
    "\n",
    "def get_flowdroid_stats_folder_(dataset: List[str], base_path: str, ending: str):\n",
    "    call_graph_construction: List[int] = []\n",
    "    taint_propagation: List[int] = []\n",
    "    path_reconstruction: List[int] = []\n",
    "    total_runtime: List[int] = []\n",
    "    max_memory: List[int] = []\n",
    "    termination_state: List[str] = []\n",
    "\n",
    "    for app in dataset:\n",
    "        if app.endswith(ending):\n",
    "            call_graph_construction_app, taint_propagation_app, path_reconstruction_app, total_runtime_app, max_memory_app, termination_state_app =get_flowdroid_stats_app(f\"{base_path}/{app}\")\n",
    "            call_graph_construction.append(call_graph_construction_app)\n",
    "            taint_propagation.append(taint_propagation_app)\n",
    "            path_reconstruction.append(path_reconstruction_app)\n",
    "            total_runtime.append(total_runtime_app)\n",
    "            max_memory.append(max_memory_app)\n",
    "            termination_state.append(termination_state_app)\n",
    "\n",
    "    return call_graph_construction, taint_propagation, path_reconstruction, total_runtime, max_memory\n",
    "\n",
    "\n",
    "def get_stats(info_list):\n",
    "    return max(info_list), min(info_list), statistics.median(info_list) ,  statistics.stdev(info_list), statistics.mean(info_list)\n",
    "\n"
   ]
  },
  {
   "cell_type": "code",
   "execution_count": null,
   "id": "3a899375",
   "metadata": {},
   "outputs": [],
   "source": [
    "def get_stats_dataset(dataset):\n",
    "    time_flowdroid = []\n",
    "    time_vsa = []\n",
    "    time_total = []\n",
    "    for app in dataset:\n",
    "        #print((app.bl_to_icc))\n",
    "        fd = get_app_flowdroid_stats(app)\n",
    "        vsa = get_vsa_time_app(app.iotScope)[2]\n",
    "        #print(fd)\n",
    "        #print(vsa)\n",
    "        time_flowdroid.append(fd)\n",
    "        time_vsa.append(vsa)\n",
    "        time_total.append(vsa + fd)\n",
    "\n",
    "    return time_flowdroid, time_vsa, time_total"
   ]
  },
  {
   "cell_type": "code",
   "execution_count": null,
   "id": "9404ea39",
   "metadata": {},
   "outputs": [],
   "source": [
    "#flowdroid, vsa, total"
   ]
  },
  {
   "cell_type": "code",
   "execution_count": null,
   "id": "f4c9c0c1",
   "metadata": {},
   "outputs": [],
   "source": [
    "verified_complete =  get_complete_runs(verified, \"/iotflow/\")"
   ]
  },
  {
   "cell_type": "code",
   "execution_count": null,
   "id": "c2fc0c94",
   "metadata": {},
   "outputs": [],
   "source": [
    "gp_2022_complete =  get_complete_runs(generalDataset, \"/iotflow/gp_2022\")"
   ]
  },
  {
   "cell_type": "code",
   "execution_count": null,
   "id": "d4203346",
   "metadata": {},
   "outputs": [],
   "source": [
    "gp_stats = get_stats_dataset(gp_2022_complete)\n",
    "verified_stats = get_stats_dataset(verified_complete)"
   ]
  },
  {
   "cell_type": "code",
   "execution_count": null,
   "id": "1586771d",
   "metadata": {},
   "outputs": [],
   "source": [
    "gp_stats_flowdroid = get_stats(gp_stats[0])\n",
    "gp_stats_vsa = get_stats(gp_stats[1])\n",
    "gp_stats_total = get_stats(gp_stats[2])"
   ]
  },
  {
   "cell_type": "code",
   "execution_count": null,
   "id": "b2fd9295",
   "metadata": {},
   "outputs": [],
   "source": [
    "ver_stats_flowdroid = get_stats(verified_stats[0])\n",
    "ver_stats_vsa = get_stats(verified_stats[1])\n",
    "ver_stats_total = get_stats(verified_stats[2])"
   ]
  },
  {
   "cell_type": "code",
   "execution_count": null,
   "id": "eacff214",
   "metadata": {},
   "outputs": [],
   "source": []
  },
  {
   "cell_type": "code",
   "execution_count": null,
   "id": "75cdc056",
   "metadata": {},
   "outputs": [],
   "source": []
  },
  {
   "cell_type": "code",
   "execution_count": null,
   "id": "b9de07fd",
   "metadata": {},
   "outputs": [],
   "source": []
  },
  {
   "cell_type": "code",
   "execution_count": null,
   "id": "0c325950",
   "metadata": {},
   "outputs": [],
   "source": []
  },
  {
   "cell_type": "code",
   "execution_count": null,
   "id": "cc93fc65",
   "metadata": {},
   "outputs": [],
   "source": []
  },
  {
   "cell_type": "code",
   "execution_count": null,
   "id": "90ef3a9d",
   "metadata": {},
   "outputs": [],
   "source": []
  },
  {
   "cell_type": "code",
   "execution_count": null,
   "id": "f4fa6f72",
   "metadata": {},
   "outputs": [],
   "source": []
  },
  {
   "cell_type": "code",
   "execution_count": null,
   "id": "35806672",
   "metadata": {},
   "outputs": [],
   "source": []
  },
  {
   "cell_type": "code",
   "execution_count": null,
   "id": "bae72cec",
   "metadata": {},
   "outputs": [],
   "source": []
  },
  {
   "cell_type": "code",
   "execution_count": null,
   "id": "fab3af23",
   "metadata": {},
   "outputs": [],
   "source": []
  },
  {
   "cell_type": "code",
   "execution_count": null,
   "id": "f64961da",
   "metadata": {},
   "outputs": [],
   "source": []
  },
  {
   "cell_type": "code",
   "execution_count": null,
   "id": "698ccaa3",
   "metadata": {},
   "outputs": [],
   "source": []
  },
  {
   "cell_type": "code",
   "execution_count": null,
   "id": "d30196f0",
   "metadata": {},
   "outputs": [],
   "source": []
  },
  {
   "cell_type": "code",
   "execution_count": null,
   "id": "c16e24fa",
   "metadata": {},
   "outputs": [],
   "source": []
  },
  {
   "cell_type": "code",
   "execution_count": null,
   "id": "050b0bd6",
   "metadata": {},
   "outputs": [],
   "source": []
  },
  {
   "cell_type": "code",
   "execution_count": null,
   "id": "bb611386",
   "metadata": {},
   "outputs": [],
   "source": []
  },
  {
   "cell_type": "code",
   "execution_count": null,
   "id": "15b2f67b",
   "metadata": {},
   "outputs": [],
   "source": []
  },
  {
   "cell_type": "code",
   "execution_count": null,
   "id": "1fa15c0a",
   "metadata": {},
   "outputs": [],
   "source": []
  },
  {
   "cell_type": "code",
   "execution_count": null,
   "id": "72e6cfa2",
   "metadata": {},
   "outputs": [],
   "source": [
    "# max(info_list), min(info_list), statistics.median(info_list) ,  statistics.stdev(info_list), statistics.mean(info_list)\n"
   ]
  },
  {
   "cell_type": "code",
   "execution_count": null,
   "id": "90119e9b",
   "metadata": {},
   "outputs": [],
   "source": []
  },
  {
   "cell_type": "code",
   "execution_count": null,
   "id": "57a48638",
   "metadata": {},
   "outputs": [],
   "source": [
    "def seconds_to_minutes(time_in_s):\n",
    "    return str(int(time_in_s/60)) + \":\" + str(int((time_in_s/60 - int(time_in_s/60))* 60))"
   ]
  },
  {
   "cell_type": "code",
   "execution_count": null,
   "id": "ab0f97af",
   "metadata": {},
   "outputs": [],
   "source": [
    "data = []\n",
    "\n",
    "\n",
    "\n",
    "# Table with Number of apps domains, subdomains reconstructed, validated subdomains, subdomains and domains per app\n",
    "row = ['IoT-VER',\"9,889\", seconds_to_minutes(ver_stats_vsa[2]) , seconds_to_minutes(ver_stats_vsa[4]), seconds_to_minutes(ver_stats_vsa[3]), seconds_to_minutes(ver_stats_flowdroid[2]) , seconds_to_minutes(ver_stats_flowdroid[4]), seconds_to_minutes(ver_stats_flowdroid[3]), seconds_to_minutes(ver_stats_total[2]) , seconds_to_minutes(ver_stats_total[4]), seconds_to_minutes(ver_stats_total[3])]\n",
    "data.append(row)\n",
    "\n",
    "row = ['General apps',\"947\", seconds_to_minutes(gp_stats_vsa[2]) , seconds_to_minutes(gp_stats_vsa[4]), seconds_to_minutes(gp_stats_vsa[3]), seconds_to_minutes(gp_stats_flowdroid[2]) , seconds_to_minutes(gp_stats_flowdroid[4]), seconds_to_minutes(gp_stats_flowdroid[3]), seconds_to_minutes(gp_stats_total[2]) , seconds_to_minutes(gp_stats_total[4]), seconds_to_minutes(gp_stats_total[3])]\n",
    "data.append(row)\n"
   ]
  },
  {
   "cell_type": "code",
   "execution_count": null,
   "id": "708f4bb0",
   "metadata": {},
   "outputs": [],
   "source": [
    "import pandas as pd\n",
    "df = pd.DataFrame(data, columns = ['Dataset', 'number_apps', 'Median-VSA', 'Avg-VSA', 'STD-VSA', 'Median-FD', 'Average-FD', 'STD-FD','Median-Total', 'Average-Total', \"STD-Total\"])\n"
   ]
  },
  {
   "cell_type": "code",
   "execution_count": null,
   "id": "9913dbed",
   "metadata": {},
   "outputs": [],
   "source": []
  },
  {
   "cell_type": "code",
   "execution_count": null,
   "id": "e3050bb0",
   "metadata": {},
   "outputs": [],
   "source": [
    "df = df.set_index('Dataset')"
   ]
  },
  {
   "cell_type": "code",
   "execution_count": null,
   "id": "0c145bae",
   "metadata": {},
   "outputs": [],
   "source": [
    " df = df.round(decimals=2)"
   ]
  },
  {
   "cell_type": "code",
   "execution_count": null,
   "id": "3642f5a5",
   "metadata": {},
   "outputs": [],
   "source": [
    "df"
   ]
  },
  {
   "cell_type": "code",
   "execution_count": null,
   "id": "746846d2",
   "metadata": {},
   "outputs": [],
   "source": [
    "print(df.to_latex())"
   ]
  },
  {
   "cell_type": "code",
   "execution_count": null,
   "id": "252b2cfe",
   "metadata": {},
   "outputs": [],
   "source": [
    "df.to_csv(\"runtime_stats_ccs.csv\")"
   ]
  },
  {
   "cell_type": "code",
   "execution_count": null,
   "id": "48d94991",
   "metadata": {},
   "outputs": [],
   "source": []
  },
  {
   "cell_type": "code",
   "execution_count": null,
   "id": "75f90727",
   "metadata": {},
   "outputs": [],
   "source": []
  },
  {
   "cell_type": "code",
   "execution_count": null,
   "id": "2251b5c2",
   "metadata": {},
   "outputs": [],
   "source": []
  },
  {
   "cell_type": "code",
   "execution_count": null,
   "id": "ef0685d4",
   "metadata": {},
   "outputs": [],
   "source": []
  },
  {
   "cell_type": "code",
   "execution_count": null,
   "id": "61bb5ae7",
   "metadata": {},
   "outputs": [],
   "source": []
  },
  {
   "cell_type": "code",
   "execution_count": null,
   "id": "369e7c12",
   "metadata": {},
   "outputs": [],
   "source": []
  },
  {
   "cell_type": "code",
   "execution_count": null,
   "id": "99a373cd",
   "metadata": {},
   "outputs": [],
   "source": []
  },
  {
   "cell_type": "code",
   "execution_count": null,
   "id": "11d546f1",
   "metadata": {},
   "outputs": [],
   "source": []
  },
  {
   "cell_type": "code",
   "execution_count": null,
   "id": "768ccac2",
   "metadata": {},
   "outputs": [],
   "source": []
  },
  {
   "cell_type": "code",
   "execution_count": null,
   "id": "2a231378",
   "metadata": {},
   "outputs": [],
   "source": []
  },
  {
   "cell_type": "code",
   "execution_count": null,
   "id": "940d8a88",
   "metadata": {},
   "outputs": [],
   "source": []
  },
  {
   "cell_type": "code",
   "execution_count": null,
   "id": "1a91f78d",
   "metadata": {},
   "outputs": [],
   "source": []
  },
  {
   "cell_type": "code",
   "execution_count": null,
   "id": "43691f30",
   "metadata": {},
   "outputs": [],
   "source": []
  },
  {
   "cell_type": "code",
   "execution_count": null,
   "id": "b52afafb",
   "metadata": {},
   "outputs": [],
   "source": []
  },
  {
   "cell_type": "code",
   "execution_count": null,
   "id": "fd02d2a7",
   "metadata": {},
   "outputs": [],
   "source": []
  },
  {
   "cell_type": "code",
   "execution_count": null,
   "id": "0cb63039",
   "metadata": {},
   "outputs": [],
   "source": []
  },
  {
   "cell_type": "code",
   "execution_count": null,
   "id": "075f8aa9",
   "metadata": {},
   "outputs": [],
   "source": []
  },
  {
   "cell_type": "code",
   "execution_count": null,
   "id": "34e33960",
   "metadata": {},
   "outputs": [],
   "source": []
  },
  {
   "cell_type": "code",
   "execution_count": null,
   "id": "981493d9",
   "metadata": {},
   "outputs": [],
   "source": [
    "def timeoutBackwardUsed(dataJson):\n",
    "    timeoutBackwardUsed = False\n",
    "    if dataJson != None and dataJson != \"\":\n",
    "        initTime = -1\n",
    "        timeoutbackward = -1\n",
    "\n",
    "        if 'initTime' in dataJson:\n",
    "            initTime = int(dataJson['initTime'])/1000 # -> also seconds if div 1k\n",
    "\n",
    "\n",
    "        if 'timeoutbackward' in dataJson:\n",
    "            timeoutbackward = int(dataJson['timeoutbackward']) # seconds = TIMEOUT_BACKWARDS\n",
    "        else:\n",
    "            timeoutbackward = 900\n",
    "\n",
    "\n",
    "        if initTime != -1 and timeoutbackward != -1:\n",
    "            if timeoutbackward - initTime < 0:\n",
    "                timeoutBackwardUsed = True\n",
    "\n",
    "\n",
    "\n",
    "\n",
    "    return timeoutBackwardUsed\n",
    "\n",
    "\n",
    "def timeoutForwardUsed(dataJson):\n",
    "    timeoutForwardUsed = False\n",
    "    if dataJson != None and dataJson != \"\":\n",
    "        solveTime = -1\n",
    "        timeoutforward = -1\n",
    "\n",
    "\n",
    "        if 'solveTime' in dataJson:\n",
    "            solveTime = int(dataJson['solveTime'])/1000 # -> also seconds if div 1k\n",
    "\n",
    "        if 'timeoutforward' in dataJson:\n",
    "            timeoutforward = int(dataJson['timeoutforward']) # seconds = TIMEOUT_BACKWARDS\n",
    "        else:\n",
    "            timeoutbackward = 1800\n",
    "\n",
    "        if timeoutforward != -1 and solveTime != -1:\n",
    "            #print(timeoutforward - solveTime)\n",
    "            if timeoutforward - solveTime < 0:\n",
    "                timeoutForwardUsed = True\n",
    "\n",
    "\n",
    "\n",
    "    return timeoutForwardUsed\n",
    "\n",
    "def getTimeouts(dataset):\n",
    "    backward = 0\n",
    "    forward = 0\n",
    "\n",
    "    for app in dataset:\n",
    "        if timeoutBackwardUsed(app.amqp) or timeoutBackwardUsed(app.mqtt) or timeoutBackwardUsed(app.coap) or timeoutBackwardUsed(app.endpoints) or timeoutBackwardUsed(app.xmpp) or timeoutBackwardUsed(app.crypto) or timeoutBackwardUsed(app.sources) or timeoutBackwardUsed(app.udp) or timeoutBackwardUsed(app.webview) or timeoutBackwardUsed(app.sinks):\n",
    "            backward = backward + 1\n",
    "\n",
    "        if timeoutForwardUsed(app.amqp) or timeoutForwardUsed(app.mqtt) or timeoutForwardUsed(app.coap) or timeoutForwardUsed(app.endpoints) or timeoutForwardUsed(app.xmpp) or timeoutForwardUsed(app.crypto) or timeoutForwardUsed(app.sources) or timeoutForwardUsed(app.udp) or timeoutForwardUsed(app.webview) or timeoutForwardUsed(app.sinks):\n",
    "            forward = forward + 1\n",
    "\n",
    "    return backward, forward\n",
    "\n"
   ]
  },
  {
   "cell_type": "code",
   "execution_count": null,
   "id": "95e10bdf",
   "metadata": {},
   "outputs": [],
   "source": [
    "gen_vsa_timeouts = getTimeouts(generalDataset)"
   ]
  },
  {
   "cell_type": "code",
   "execution_count": null,
   "id": "8cb87272",
   "metadata": {},
   "outputs": [],
   "source": [
    "ver_vsa_timeouts = getTimeouts(verified)"
   ]
  },
  {
   "cell_type": "code",
   "execution_count": null,
   "id": "842526f4",
   "metadata": {},
   "outputs": [],
   "source": [
    "\n",
    "def get_flowdoird_timeouts_dataset(dataset, trashhold):\n",
    "    cg = 0\n",
    "    df = 0\n",
    "    for app in dataset:\n",
    "        if used_timeout(app):\n",
    "            df = df + 1\n",
    "\n",
    "        if used_call_graph_timeout(app, trashhold):\n",
    "            cg = cg + 1\n",
    "\n",
    "\n",
    "\n",
    "    return cg, df"
   ]
  },
  {
   "cell_type": "code",
   "execution_count": null,
   "id": "7dd5d587",
   "metadata": {},
   "outputs": [],
   "source": [
    "gen_flow_analysis_timeouts = get_flowdoird_timeouts_dataset(gp_2022_complete, 450)"
   ]
  },
  {
   "cell_type": "code",
   "execution_count": null,
   "id": "e8fd1b79",
   "metadata": {},
   "outputs": [],
   "source": [
    "ver_flow_analysis_timeouts = get_flowdoird_timeouts_dataset(verified_complete, 450)"
   ]
  },
  {
   "cell_type": "code",
   "execution_count": null,
   "id": "471c17df",
   "metadata": {},
   "outputs": [],
   "source": [
    "print(gen_vsa_timeouts)\n",
    "print(f\"{gen_vsa_timeouts[0]/949*100:.2f} - {gen_vsa_timeouts[1]/949*100:.2f}\")\n",
    "print(gen_flow_analysis_timeouts)\n",
    "print(f\"{gen_flow_analysis_timeouts[0]/949*100:.2f} - {gen_flow_analysis_timeouts[1]/949*100:.2f}\")\n",
    "\n",
    "\n"
   ]
  },
  {
   "cell_type": "code",
   "execution_count": null,
   "id": "82a2999f",
   "metadata": {},
   "outputs": [],
   "source": [
    "print(ver_vsa_timeouts)\n",
    "print(f\"{ver_vsa_timeouts[0]/9889*100:.2f} - {ver_vsa_timeouts[1]/9889*100:.2f}\")\n",
    "print(ver_flow_analysis_timeouts)\n",
    "\n",
    "print(f\"{ver_flow_analysis_timeouts[0]/9889*100:.2f} - {ver_flow_analysis_timeouts[1]/9889*100:.2f}\")\n"
   ]
  },
  {
   "cell_type": "code",
   "execution_count": null,
   "id": "23ffe966",
   "metadata": {},
   "outputs": [],
   "source": [
    "print(gen_vsa_timeouts[1] + ver_vsa_timeouts[1])\n"
   ]
  },
  {
   "cell_type": "code",
   "execution_count": null,
   "id": "f193d6a0",
   "metadata": {},
   "outputs": [],
   "source": [
    "304/(9889+947) * 100\n",
    "\n"
   ]
  },
  {
   "cell_type": "code",
   "execution_count": null,
   "id": "97c33864",
   "metadata": {},
   "outputs": [],
   "source": [
    "11/(9889+947) * 100\n"
   ]
  },
  {
   "cell_type": "code",
   "execution_count": null,
   "id": "1d4791e1",
   "metadata": {},
   "outputs": [],
   "source": [
    "ver_flow_analysis_timeouts[0] + gen_flow_analysis_timeouts[0]"
   ]
  },
  {
   "cell_type": "code",
   "execution_count": null,
   "id": "5eb2400a",
   "metadata": {},
   "outputs": [],
   "source": [
    "2432/(9889+947) * 100"
   ]
  },
  {
   "cell_type": "code",
   "execution_count": null,
   "id": "8cfbf994",
   "metadata": {},
   "outputs": [],
   "source": [
    "ver_flow_analysis_timeouts[1] + gen_flow_analysis_timeouts[1]"
   ]
  },
  {
   "cell_type": "code",
   "execution_count": null,
   "id": "2f327481",
   "metadata": {},
   "outputs": [],
   "source": [
    "3004/(9889+947) * 100"
   ]
  },
  {
   "cell_type": "code",
   "execution_count": null,
   "id": "93e74603",
   "metadata": {},
   "outputs": [],
   "source": []
  }
 ],
 "metadata": {
  "kernelspec": {
   "display_name": "Python 3 (ipykernel)",
   "language": "python",
   "name": "python3"
  },
  "language_info": {
   "codemirror_mode": {
    "name": "ipython",
    "version": 3
   },
   "file_extension": ".py",
   "mimetype": "text/x-python",
   "name": "python",
   "nbconvert_exporter": "python",
   "pygments_lexer": "ipython3",
   "version": "3.10.10"
  }
 },
 "nbformat": 4,
 "nbformat_minor": 5
}
