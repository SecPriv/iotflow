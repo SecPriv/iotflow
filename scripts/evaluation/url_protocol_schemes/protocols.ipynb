{
 "cells": [
  {
   "cell_type": "code",
   "execution_count": null,
   "id": "1ea969cb",
   "metadata": {},
   "outputs": [],
   "source": [
    "import util.util as util\n",
    "import re\n",
    "import tldextract\n",
    "import re\n",
    "import importlib\n",
    "#importlib.reload(util.util)\n",
    "\n",
    "# Thoughts\n",
    "# parse Domains like done for the thesis\n",
    "# parse data from requests file\n",
    "# most interesting from requests, flags, headers and maybe trying to detect payload"
   ]
  },
  {
   "cell_type": "code",
   "execution_count": null,
   "id": "90f8bf5d",
   "metadata": {},
   "outputs": [],
   "source": [
    "# URI schemes: http://www.iana.org/assignments/uri-schemes/uri-schemes.xhtml\n",
    "validURISchemes = [\"aaa:\", \"aaas:\", \"about:\", \"acap:\", \"acct:\", \"acd:\", \"acr:\", \"adiumxtra:\", \"adt:\", \"afp:\", \"afs:\",\n",
    "                   \"aim:\", \"amss:\", \"android:\", \"appdata:\", \"apt:\", \"ar:\", \"ark:\", \"attachment:\", \"aw:\", \"barion:\",\n",
    "                   \"beshare:\", \"bitcoin:\", \"bitcoincash:\", \"blob:\", \"bolo:\", \"browserext:\", \"cabal:\", \"calculator:\",\n",
    "                   \"callto:\", \"cap:\", \"cast:\", \"casts:\", \"chrome:\", \"chrome-extension:\", \"cid:\", \"coap:\", \"coap+tcp:\",\n",
    "                   \"coap+ws:\", \"coaps:\", \"coaps+tcp:\", \"coaps+ws:\", \"com-eventbrite-attendee:\", \"content:\",\n",
    "                   \"content-type:\", \"crid:\", \"cvs:\", \"dab:\", \"dat:\", \"data:\", \"dav:\", \"diaspora:\", \"dict:\", \"did:\",\n",
    "                   \"dis:\", \"dlna-playcontainer:\", \"dlna-playsingle:\", \"dns:\", \"dntp:\", \"doi:\", \"dpp:\", \"drm:\", \"drop:\",\n",
    "                   \"dtmi:\", \"dtn:\", \"dvb:\", \"dvx:\", \"dweb:\", \"ed2k:\", \"elsi:\", \"embedded:\", \"ens:\", \"ethereum:\",\n",
    "                   \"example:\", \"facetime:\", \"fax:\", \"feed:\", \"feedready:\", \"fido:\", \"file:\", \"filesystem:\", \"finger:\",\n",
    "                   \"first-run-pen-experience:\", \"fish:\", \"fm:\", \"ftp:\", \"fuchsia-pkg:\", \"geo:\", \"gg:\", \"git:\",\n",
    "                   \"gizmoproject:\", \"go:\", \"gopher:\", \"graph:\", \"gtalk:\", \"h323:\", \"ham:\", \"hcap:\", \"hcp:\", \"http:\",\n",
    "                   \"https:\", \"hxxp:\", \"hxxps:\", \"hydrazone:\", \"hyper:\", \"iax:\", \"icap:\", \"icon:\", \"im:\", \"imap:\",\n",
    "                   \"info:\", \"iotdisco:\", \"ipfs:\", \"ipn:\", \"ipns:\", \"ipp:\", \"ipps:\", \"irc:\", \"irc6:\", \"ircs:\", \"iris:\",\n",
    "                   \"iris.beep:\", \"iris.lwz:\", \"iris.xpc:\", \"iris.xpcs:\", \"isostore:\", \"itms:\", \"jabber:\", \"jar:\",\n",
    "                   \"jms:\", \"keyparc:\", \"lastfm:\", \"lbry:\", \"ldap:\", \"ldaps:\", \"leaptofrogans:\", \"lorawan:\", \"lvlt:\",\n",
    "                   \"magnet:\", \"mailserver:\", \"mailto:\", \"maps:\", \"market:\", \"matrix:\", \"message:\",\n",
    "                   \"microsoft.windows.camera:\", \"microsoft.windows.camera.multipicker:\",\n",
    "                   \"microsoft.windows.camera.picker:\", \"mid:\", \"mms:\", \"modem:\", \"mongodb:\", \"moz:\", \"ms-access:\",\n",
    "                   \"ms-browser-extension:\", \"ms-calculator:\", \"ms-drive-to:\", \"ms-enrollment:\", \"ms-excel:\",\n",
    "                   \"ms-eyecontrolspeech:\", \"ms-gamebarservices:\", \"ms-gamingoverlay:\", \"ms-getoffice:\", \"ms-help:\",\n",
    "                   \"ms-infopath:\", \"ms-inputapp:\", \"ms-lockscreencomponent-config:\", \"ms-media-stream-id:\",\n",
    "                   \"ms-meetnow:\", \"ms-mixedrealitycapture:\", \"ms-mobileplans:\", \"ms-officeapp:\", \"ms-people:\",\n",
    "                   \"ms-project:\", \"ms-powerpoint:\", \"ms-publisher:\", \"ms-restoretabcompanion:\", \"ms-screenclip:\",\n",
    "                   \"ms-screensketch:\", \"ms-search:\", \"ms-search-repair:\", \"ms-secondary-screen-controller:\",\n",
    "                   \"ms-secondary-screen-setup:\", \"ms-settings:\", \"ms-settings-airplanemode:\", \"ms-settings-bluetooth:\",\n",
    "                   \"ms-settings-camera:\", \"ms-settings-cellular:\", \"ms-settings-cloudstorage:\",\n",
    "                   \"ms-settings-connectabledevices:\", \"ms-settings-displays-topology:\", \"ms-settings-emailandaccounts:\",\n",
    "                   \"ms-settings-language:\", \"ms-settings-location:\", \"ms-settings-lock:\",\n",
    "                   \"ms-settings-nfctransactions:\", \"ms-settings-notifications:\", \"ms-settings-power:\",\n",
    "                   \"ms-settings-privacy:\", \"ms-settings-proximity:\", \"ms-settings-screenrotation:\", \"ms-settings-wifi:\",\n",
    "                   \"ms-settings-workplace:\", \"ms-spd:\", \"ms-stickers:\", \"ms-sttoverlay:\", \"ms-transit-to:\",\n",
    "                   \"ms-useractivityset:\", \"ms-virtualtouchpad:\", \"ms-visio:\", \"ms-walk-to:\", \"ms-whiteboard:\",\n",
    "                   \"ms-whiteboard-cmd:\", \"ms-word:\", \"msnim:\", \"msrp:\", \"msrps:\", \"mss:\", \"mt:\", \"mtqp:\", \"mumble:\",\n",
    "                   \"mupdate:\", \"mvn:\", \"news:\", \"nfs:\", \"ni:\", \"nih:\", \"nntp:\", \"notes:\", \"num:\", \"ocf:\", \"oid:\",\n",
    "                   \"onenote:\", \"onenote-cmd:\", \"opaquelocktoken:\", \"openpgp4fpr:\", \"otpauth:\", \"pack:\", \"palm:\",\n",
    "                   \"paparazzi:\", \"payment:\", \"payto:\", \"pkcs11:\", \"platform:\", \"pop:\", \"pres:\", \"prospero:\", \"proxy:\",\n",
    "                   \"pwid:\", \"psyc:\", \"pttp:\", \"qb:\", \"query:\", \"quic-transport:\", \"redis:\", \"rediss:\", \"reload:\",\n",
    "                   \"res:\", \"resource:\", \"rmi:\", \"rsync:\", \"rtmfp:\", \"rtmp:\", \"rtsp:\", \"rtsps:\", \"rtspu:\", \"sarif:\",\n",
    "                   \"secondlife:\", \"secret-token:\", \"service:\", \"session:\", \"sftp:\", \"sgn:\", \"shc:\", \"shttp (OBSOLETE):\",\n",
    "                   \"sieve:\", \"simpleledger:\", \"simplex:\", \"sip:\", \"sips:\", \"skype:\", \"smb:\", \"smp:\", \"sms:\", \"smtp:\",\n",
    "                   \"snews:\", \"snmp:\", \"soap.beep:\", \"soap.beeps:\", \"soldat:\", \"spiffe:\", \"spotify:\", \"ssb:\", \"ssh:\",\n",
    "                   \"steam:\", \"stun:\", \"stuns:\", \"submit:\", \"svn:\", \"swh:\", \"swid:\", \"swidpath:\", \"tag:\", \"teamspeak:\",\n",
    "                   \"tel:\", \"teliaeid:\", \"telnet:\", \"tftp:\", \"things:\", \"thismessage:\", \"tip:\", \"tn3270:\", \"tool:\",\n",
    "                   \"turn:\", \"turns:\", \"tv:\", \"udp:\", \"unreal:\", \"urn:\", \"ut2004:\", \"uuid-in-package:\", \"v-event:\",\n",
    "                   \"vemmi:\", \"ventrilo:\", \"ves:\", \"videotex:\", \"vnc:\", \"view-source:\", \"vscode:\", \"vscode-insiders:\",\n",
    "                   \"vsls:\", \"wais:\", \"wcr:\", \"webcal:\", \"wifi:\", \"wpid:\", \"ws:\", \"wss:\", \"wtai:\", \"wyciwyg:\", \"xcon:\",\n",
    "                   \"xcon-userid:\", \"xfire:\", \"xmlrpc.beep:\", \"xmlrpc.beeps:\", \"xmpp:\", \"xri:\", \"ymsgr:\", \"z39.50:\",\n",
    "                   \"z39.50r:\", \"z39.50s:\"]\n",
    "\n",
    "\n",
    "localNetwork = re.compile(\n",
    "    \"(.*192\\.168\\.\\d\\d?\\d?\\.\\d\\d?\\d?.*)|(.*10\\.\\d\\d?\\d?\\.\\d\\d?\\d?\\.\\d\\d?\\d?.*)|(.*172\\.1[6-9]\\.\\d\\d?\\d?\\.\\d\\d?\\d?.*)|(.*172\\.2[0-9]\\.\\d\\d?\\d?\\.\\d\\d?\\d?.*)|(.*172\\.3[0-1]\\.\\d\\d?\\d?\\.\\d\\d?\\d?.*)|(.*[^:]fromUI\\.local[:\\/ ].*)\")\n",
    "\n",
    "def isRemote(v):\n",
    "    extracted = tldextract.extract(v)\n",
    "    return extracted.domain != None and extracted.suffix != None and extracted.domain != \"\" and extracted.suffix != \"\"\n",
    "\n",
    "\n",
    "def isLocalNetwork(d):\n",
    "    if localNetwork.match(d):\n",
    "        return True\n",
    "\n",
    "    return False\n",
    "\n",
    "\n",
    "def getProtocolsPerValuePoint(data, localRemote: bool = True, local: bool = False):\n",
    "    result = {}\n",
    "    if 'ValuePoints' not in data:\n",
    "        return result\n",
    "\n",
    "    for valuePoint in data['ValuePoints']:\n",
    "        valueSet = None\n",
    "        if not 'ValueSet' in valuePoint:\n",
    "            continue\n",
    "\n",
    "        schemesFound = set()\n",
    "        for valueSet in valuePoint['ValueSet']:\n",
    "\n",
    "            if len(valueSet) == 0:\n",
    "                continue\n",
    "\n",
    "            for key in valueSet.keys():\n",
    "                for value in valueSet[key]:\n",
    "                    for comma in value.split(\",\"):\n",
    "                        for v in comma.split('||'):\n",
    "                            v = v.lower()\n",
    "                            if not localRemote:\n",
    "                                if local and not (isLocalNetwork(v) or ('UsesPotentiallyUPnP' in valuePoint and not isRemote(v))):\n",
    "                                    continue\n",
    "                                elif not local and (isLocalNetwork(v) or ('UsesPotentiallyUPnP' in valuePoint and not isRemote(v))):\n",
    "                                    continue\n",
    "\n",
    "                            for scheme in validURISchemes:\n",
    "                                if scheme in v:\n",
    "                                    schemesFound.add(scheme)\n",
    "\n",
    "            for scheme in schemesFound:\n",
    "                 result[scheme] = result.get(scheme, 0) + 1\n",
    "\n",
    "\n",
    "    return result"
   ]
  },
  {
   "cell_type": "code",
   "execution_count": null,
   "id": "f1498f7a",
   "metadata": {},
   "outputs": [],
   "source": []
  },
  {
   "cell_type": "code",
   "execution_count": null,
   "id": "5c52db2f",
   "metadata": {},
   "outputs": [],
   "source": [
    "def getLocalAddresses(domains):\n",
    "    result = set()\n",
    "    for d in domains:\n",
    "        if util.isLocal(d):\n",
    "            if '.local' in d:\n",
    "                if 'UI.local':\n",
    "                    result.add('fromUI.local')\n",
    "            elif d.startswith('127.') or d.startswith('0.'):\n",
    "                continue\n",
    "            else:\n",
    "                result.add(d)\n",
    "\n",
    "    return result\n",
    "\n",
    "\n",
    "def hasValuePoints(jsonData, localRemote: bool = True, local: bool = False, protocol:bool = False):\n",
    "    if localRemote:\n",
    "        return 'ValuePoints' in jsonData and len(jsonData['ValuePoints']) > 0\n",
    "\n",
    "    domains = util.getUniqueDomainsFromJson(jsonData)\n",
    "    localAddresses = getLocalAddresses(domains)\n",
    "    if local:\n",
    "        return len(localAddresses) > 0\n",
    "\n",
    "    if protocol:\n",
    "        protocols = set()\n",
    "        for d in domains:\n",
    "            extracted = tldextract.extract(d)\n",
    "            if isRemote(d) or util.ip.match(d):\n",
    "                protocols.add(d)\n",
    "        domains = protocols\n",
    "\n",
    "    return len(domains) > 0 and len(domains) > len(localAddresses)\n",
    "\n",
    "\n",
    "def hasMQTT(app, localRemote: bool = True, local: bool = False):\n",
    "    return hasValuePoints(app.mqtt, localRemote, local, True)\n",
    "\n",
    "\n",
    "def hasAMQP(app, localRemote: bool = True, local: bool = False):\n",
    "    return hasValuePoints(app.amqp, localRemote, local, True)\n",
    "\n",
    "\n",
    "def hasCoap(app, localRemote: bool = True, local: bool = False):\n",
    "    return hasValuePoints(app.coap, localRemote, local, True)\n",
    "\n",
    "\n",
    "def hasXMPP(app, localRemote: bool = True, local: bool = False):\n",
    "    return hasValuePoints(app.xmpp, localRemote, local, True)\n"
   ]
  },
  {
   "cell_type": "code",
   "execution_count": null,
   "id": "85e5928d",
   "metadata": {},
   "outputs": [],
   "source": [
    "other = [\"other\", \"aaa:\", \"attachment:\", \"aw:\", \"bitcoin:\", \"chrome:\", \"cid:\", \"dab:\", \"dav:\", \"did:\", \"dns:\", \"ens:\", \"feed:\", \"finger:\", \"geo:\", \"mailto:\", \"market:\", \"nfs:\", \"pack:\", \"proxy:\", \"sip:\", \"spotify:\", \"submit:\", \"turn:\", \"udp:\", \"ves:\",  \"wifi:\",'cap:', 'tel:','session:', 'ni:', 'sms:','service:', 'res:', 'about:', 'info:', 'resource:', \"ldap:\",\"ssh:\",'data:', 'im:', 'icon:',  'content-type:', 'appdata:', 'platform:', 'content:', 'num:', 'mid:', 'mt:', 'go:', 'oid:', \"tag:\", \"ar:\"]\n",
    "\n",
    "def mergeDicts(dict1, dict2):\n",
    "    result = {}\n",
    "    dictKeys = set()\n",
    "    dictKeys.update(dict1.keys())\n",
    "    dictKeys.update(dict2.keys())\n",
    "    for key in dictKeys:\n",
    "        if key in other:\n",
    "            result[\"other\"] = dict1.get(\"other\", 0) + dict2.get(key, 0)\n",
    "        else:\n",
    "            result[key] = dict1.get(key, 0) + dict2.get(key, 0)\n",
    "    return result\n",
    "\n",
    "\n",
    "def countSchemeOccurences(dataset):\n",
    "    result = {}\n",
    "    for app in dataset:\n",
    "        hasOther = False\n",
    "        for key in app.keys():\n",
    "            if key in other:\n",
    "                hasOther = True\n",
    "            else:\n",
    "                result[key] = result.get(key, 0) + 1\n",
    "        if hasOther:\n",
    "            result[\"other\"] = result.get(\"other\", 0) + 1\n",
    "\n",
    "    return result\n",
    "\n",
    "\n",
    "def mergeAll(datasetResults):\n",
    "    result = {}\n",
    "    for uri in datasetResults:\n",
    "        result = mergeDicts(result, uri)\n",
    "    return result\n",
    "\n",
    "\n",
    "def getAllURIsApp(app, localRemote: bool = True, local: bool = False):\n",
    "    result = {}\n",
    "    result = mergeDicts(result, getProtocolsPerValuePoint(app.amqp, localRemote, local))\n",
    "    result = mergeDicts(result, getProtocolsPerValuePoint(app.coap, localRemote, local))\n",
    "    result = mergeDicts(result, getProtocolsPerValuePoint(app.endpoints, localRemote, local))\n",
    "    result = mergeDicts(result, getProtocolsPerValuePoint(app.mqtt, localRemote, local))\n",
    "    result = mergeDicts(result, getProtocolsPerValuePoint(app.xmpp, localRemote, local))\n",
    "    result = mergeDicts(result, getProtocolsPerValuePoint(app.udp, localRemote, local))\n",
    "    result = mergeDicts(result, getProtocolsPerValuePoint(app.webview, localRemote, local))\n",
    "\n",
    "    return result\n",
    "\n",
    "\n",
    "def getStatsApp(app, localRemote: bool = True, local: bool = False):\n",
    "    result = getAllURIsApp(app, localRemote, local)\n",
    "    if hasMQTT(app, localRemote, local):\n",
    "        result['MQTT'] = True\n",
    "    if hasAMQP(app,localRemote, local):\n",
    "        result['AMQP'] = True\n",
    "    if hasCoap(app,localRemote, local):\n",
    "        result['COAP'] = True\n",
    "    if hasXMPP(app,localRemote, local):\n",
    "        result['XMPP'] = True\n",
    "    return result\n"
   ]
  },
  {
   "cell_type": "code",
   "execution_count": null,
   "id": "e89dea98",
   "metadata": {},
   "outputs": [],
   "source": [
    "def getResultsDataset(dataset, localRemote: bool = True, local: bool = False):\n",
    "    result = []\n",
    "    for app in dataset:\n",
    "        result.append(getStatsApp(app, localRemote, local))\n",
    "\n",
    "    return result"
   ]
  },
  {
   "cell_type": "code",
   "execution_count": null,
   "id": "481d114a",
   "metadata": {},
   "outputs": [],
   "source": []
  },
  {
   "cell_type": "code",
   "execution_count": null,
   "id": "ba82b358",
   "metadata": {},
   "outputs": [],
   "source": []
  },
  {
   "cell_type": "code",
   "execution_count": null,
   "id": "e9cf5386",
   "metadata": {},
   "outputs": [],
   "source": []
  },
  {
   "cell_type": "code",
   "execution_count": null,
   "id": "2ad14ae8",
   "metadata": {},
   "outputs": [],
   "source": []
  },
  {
   "cell_type": "code",
   "execution_count": null,
   "id": "decde8e3",
   "metadata": {},
   "outputs": [],
   "source": []
  },
  {
   "cell_type": "code",
   "execution_count": null,
   "id": "f62144ac",
   "metadata": {},
   "outputs": [],
   "source": [
    "# TODO: set the path to your result folder\n",
    "# set the first argument to the base path of the result folder, second argument is th folder name, third argument a mapping file - that tells for apps in multiple sub datasets which app to include\n",
    "\n",
    "verDataset = util.get_verified_dataset(\"\", \"\", \"mapping.json\")\n",
    "resultsVer = getResultsDataset(verDataset)\n",
    "resultsVerLocal = getResultsDataset(verDataset, False, True)\n",
    "resultsVerRemote = getResultsDataset(verDataset, False, False)\n",
    "\n"
   ]
  },
  {
   "cell_type": "code",
   "execution_count": null,
   "id": "ea74bce9",
   "metadata": {},
   "outputs": [],
   "source": [
    "countedOccVer = countSchemeOccurences(resultsVer)\n",
    "mergedVer = mergeAll(resultsVer)\n",
    "\n"
   ]
  },
  {
   "cell_type": "code",
   "execution_count": null,
   "id": "715e19c1",
   "metadata": {},
   "outputs": [],
   "source": [
    "%store verDataset\n",
    "%store resultsVer\n",
    "%store resultsVerLocal\n",
    "%store resultsVerRemote"
   ]
  },
  {
   "cell_type": "code",
   "execution_count": null,
   "id": "225bbf49",
   "metadata": {},
   "outputs": [],
   "source": [
    "# TODO: set the path to load your data\n",
    "genDataset = util.loadAllData(\"\", True)\n"
   ]
  },
  {
   "cell_type": "code",
   "execution_count": null,
   "id": "4e957272",
   "metadata": {
    "pycharm": {
     "name": "#%%\n"
    }
   },
   "outputs": [],
   "source": [
    "resultsGen = getResultsDataset(genDataset)\n",
    "resultsGenLocal = getResultsDataset(genDataset, False, True)\n",
    "resultsGenRemote = getResultsDataset(genDataset, False, False)\n"
   ]
  },
  {
   "cell_type": "code",
   "execution_count": null,
   "id": "d9c14b90",
   "metadata": {},
   "outputs": [],
   "source": [
    "countedOccGen = countSchemeOccurences(resultsGen)\n",
    "mergedGen = mergeAll(resultsGen)\n"
   ]
  },
  {
   "cell_type": "code",
   "execution_count": null,
   "id": "f0966bc7",
   "metadata": {},
   "outputs": [],
   "source": []
  },
  {
   "cell_type": "code",
   "execution_count": null,
   "id": "1f7a89b8",
   "metadata": {},
   "outputs": [],
   "source": [
    "%store genDataset\n",
    "%store resultsGen\n",
    "%store resultsGenLocal\n",
    "%store resultsGenRemote\n"
   ]
  },
  {
   "cell_type": "code",
   "execution_count": null,
   "id": "8487b13d",
   "metadata": {},
   "outputs": [],
   "source": [
    "\n",
    "\n",
    "%store -r genDataset\n",
    "%store -r resultsGen\n",
    "%store -r resultsGenLocal\n",
    "%store -r resultsGenRemote\n",
    "\n",
    "\n",
    "%store  -r verDataset\n",
    "%store  -r resultsVer\n",
    "%store  -r resultsVerLocal\n",
    "%store  -r resultsVerRemote\n"
   ]
  },
  {
   "cell_type": "code",
   "execution_count": null,
   "id": "d117571f",
   "metadata": {},
   "outputs": [],
   "source": []
  },
  {
   "cell_type": "code",
   "execution_count": null,
   "id": "df444fa5",
   "metadata": {},
   "outputs": [],
   "source": [
    "mergedGenLocal = mergeAll(resultsGenLocal)\n",
    "mergedGenRemote = mergeAll(resultsGenRemote)\n",
    "\n",
    "countedGenLocal = countSchemeOccurences(resultsGenLocal)\n",
    "countedGenRemote = countSchemeOccurences(resultsGenRemote)\n"
   ]
  },
  {
   "cell_type": "code",
   "execution_count": null,
   "id": "4c0b7230",
   "metadata": {},
   "outputs": [],
   "source": [
    "mergedVerLocal = mergeAll(resultsVerLocal)\n",
    "mergedVerRemote = mergeAll(resultsVerRemote)\n"
   ]
  },
  {
   "cell_type": "code",
   "execution_count": null,
   "id": "3a5bb1d1",
   "metadata": {},
   "outputs": [],
   "source": [
    "\n",
    "countedVerLocal = countSchemeOccurences(resultsVerLocal)\n",
    "countedVerRemote = countSchemeOccurences(resultsVerRemote)"
   ]
  },
  {
   "cell_type": "code",
   "execution_count": null,
   "id": "fa6231a2",
   "metadata": {},
   "outputs": [],
   "source": [
    "countedGenLocal"
   ]
  },
  {
   "cell_type": "code",
   "execution_count": null,
   "id": "fdc29e6a",
   "metadata": {},
   "outputs": [],
   "source": [
    "import pandas as pd\n",
    "\n",
    "data = []\n",
    "keys = set()\n",
    "\n",
    "\n",
    "for x in countedGenLocal.keys():\n",
    "    keys.add(x)\n",
    "\n",
    "for x in countedVerLocal.keys():\n",
    "    keys.add(x)\n",
    "\n",
    "\n",
    "for x in countedGenRemote.keys():\n",
    "    keys.add(x)\n",
    "\n",
    "for x in countedVerRemote.keys():\n",
    "    keys.add(x)\n",
    "\n",
    "\n",
    "for key in keys:\n",
    "    row = []\n",
    "    row.append(key)\n",
    "\n",
    "    row.append(mergedVerLocal.get(key,0))\n",
    "    row.append(countedVerLocal.get(key,0))\n",
    "\n",
    "    row.append(mergedGenLocal.get(key,0))\n",
    "    row.append(countedGenLocal.get(key,0))\n",
    "\n",
    "\n",
    "    row.append(mergedVerRemote.get(key,0))\n",
    "    row.append(countedVerRemote.get(key,0))\n",
    "\n",
    "\n",
    "    row.append(mergedGenRemote.get(key,0))\n",
    "    row.append(countedGenRemote.get(key,0))\n",
    "\n",
    "\n",
    "\n",
    "    data.append(row)\n",
    "\n",
    "\n",
    "\n",
    "\n",
    "\n",
    "df = pd.DataFrame(data, columns = [\"scheme\",\"Amount IoT-VER local\", \"Apps IoT-VER local\", \"Amount GP-2022 local\", \"Apps GP-2022 local\" , \"Amount IoT-VER remote\", \"Apps IoT-VER remote\",\"Amount GP-2022 remote\", \"Apps GP-2022 remote\"])"
   ]
  },
  {
   "cell_type": "code",
   "execution_count": null,
   "id": "ca83b58b",
   "metadata": {},
   "outputs": [],
   "source": [
    "df"
   ]
  },
  {
   "cell_type": "code",
   "execution_count": null,
   "id": "2ca022f1",
   "metadata": {},
   "outputs": [],
   "source": [
    "df.to_csv('protocols_ccs.csv', index=False)"
   ]
  },
  {
   "cell_type": "code",
   "execution_count": null,
   "id": "cf43d167",
   "metadata": {},
   "outputs": [],
   "source": [
    "def getOcc(dataset):\n",
    "    result = 0\n",
    "    for app in dataset:\n",
    "        if len(app) > 0:\n",
    "            result = result + 1\n",
    "\n",
    "    return result"
   ]
  },
  {
   "cell_type": "code",
   "execution_count": null,
   "id": "6fdb2dae",
   "metadata": {},
   "outputs": [],
   "source": []
  },
  {
   "cell_type": "code",
   "execution_count": null,
   "id": "993c167a",
   "metadata": {},
   "outputs": [],
   "source": []
  },
  {
   "cell_type": "code",
   "execution_count": null,
   "id": "b9aecab8",
   "metadata": {},
   "outputs": [],
   "source": []
  },
  {
   "cell_type": "code",
   "execution_count": null,
   "id": "6174b9d9",
   "metadata": {},
   "outputs": [],
   "source": []
  },
  {
   "cell_type": "code",
   "execution_count": null,
   "id": "4ecab428",
   "metadata": {},
   "outputs": [],
   "source": []
  },
  {
   "cell_type": "code",
   "execution_count": null,
   "id": "7df0a5d2",
   "metadata": {},
   "outputs": [],
   "source": []
  },
  {
   "cell_type": "code",
   "execution_count": null,
   "id": "79ac0b28",
   "metadata": {},
   "outputs": [],
   "source": []
  },
  {
   "cell_type": "code",
   "execution_count": null,
   "id": "40a59668",
   "metadata": {},
   "outputs": [],
   "source": [
    "df = df.set_index('scheme')"
   ]
  },
  {
   "cell_type": "code",
   "execution_count": null,
   "id": "a4fa5f95",
   "metadata": {},
   "outputs": [],
   "source": [
    "toRemove = ['unknown', 'tip:', \"dweb:\", \"message:\", \"query:\", \"reload:\", 'COAP'] # 'android:', 'market:','irc:','wifi:', tooltip - tip\n"
   ]
  },
  {
   "cell_type": "code",
   "execution_count": null,
   "id": "b5d65fbf",
   "metadata": {},
   "outputs": [],
   "source": [
    "iotRelatedOther = [\"vnc:\", \"ipps:\", \"rtmp:\", 'palm:', 'pttp:', 'rtsp:', 'rtsps:', 'coap:', 'coaps:','cast:','ipp:','tv:','urn:', 'irc:',\"vnc:\", \"rtmp:\" ]"
   ]
  },
  {
   "cell_type": "code",
   "execution_count": null,
   "id": "9a93d6af",
   "metadata": {},
   "outputs": [],
   "source": [
    "dfToRemove = df.loc[df.index.isin(toRemove)]"
   ]
  },
  {
   "cell_type": "code",
   "execution_count": null,
   "id": "386c171f",
   "metadata": {},
   "outputs": [],
   "source": [
    "dfCleared = df.drop(df.loc[df.index.isin(toRemove)].index)"
   ]
  },
  {
   "cell_type": "code",
   "execution_count": null,
   "id": "766f817a",
   "metadata": {},
   "outputs": [],
   "source": [
    "#dfOther = df.loc[df.index.isin(other)]"
   ]
  },
  {
   "cell_type": "code",
   "execution_count": null,
   "id": "70c294db",
   "metadata": {},
   "outputs": [],
   "source": [
    "dfOtherIoT = df.loc[df.index.isin(iotRelatedOther)]"
   ]
  },
  {
   "cell_type": "code",
   "execution_count": null,
   "id": "43bf87f9",
   "metadata": {},
   "outputs": [],
   "source": [
    "#dfWithoutOther = dfCleared.drop(dfCleared.loc[dfCleared.index.isin(other)].index)\n",
    "dfWithoutOtherIoT = dfCleared.drop(dfCleared.loc[dfCleared.index.isin(iotRelatedOther)].index)"
   ]
  },
  {
   "cell_type": "code",
   "execution_count": null,
   "id": "139b4898",
   "metadata": {},
   "outputs": [],
   "source": [
    "dfWithoutOtherIoT"
   ]
  },
  {
   "cell_type": "code",
   "execution_count": null,
   "id": "fc2647ab",
   "metadata": {},
   "outputs": [],
   "source": [
    "dfOtherIoT"
   ]
  },
  {
   "cell_type": "code",
   "execution_count": null,
   "id": "179a8d5e",
   "metadata": {},
   "outputs": [],
   "source": []
  },
  {
   "cell_type": "code",
   "execution_count": null,
   "id": "43fe27f8",
   "metadata": {},
   "outputs": [],
   "source": [
    "dfOtherIoT.sum()"
   ]
  },
  {
   "cell_type": "code",
   "execution_count": null,
   "id": "633845f4",
   "metadata": {},
   "outputs": [],
   "source": [
    "dfWithoutOtherIoT.loc['IoT related'] = dfOtherIoT.sum()"
   ]
  },
  {
   "cell_type": "code",
   "execution_count": null,
   "id": "61af01e7",
   "metadata": {},
   "outputs": [],
   "source": []
  },
  {
   "cell_type": "code",
   "execution_count": null,
   "id": "b61805f1",
   "metadata": {},
   "outputs": [],
   "source": [
    "dfWithoutOtherIoT"
   ]
  },
  {
   "cell_type": "code",
   "execution_count": null,
   "id": "ad029878",
   "metadata": {},
   "outputs": [],
   "source": [
    "notToAdd = ['unknown', \"dweb:\", \"message:\", \"query:\", \"reload:\"] # 'android:', 'market:','irc:','wifi:',\n",
    "\n",
    "\n",
    "def isLocalCommunication(app):\n",
    "    localExceptions = [\"com.sinepulse.greenhouse.40.apk\", \"us.originally.rm_trial.2602.apk\", \"com.triplus.android.client.v2.zipato.1804101201.apk\", \"com.cairos.automation.14.apk\", \"air.SmartLog.android.1000109.apk\", \"com.skybell.app.222.apk\", \"com.ikea.tradfri.lighting.261.apk\", \"com.securenettech.smartlink6production.87.apk\", \"us.originally.rm_trial.apk\", \"com.triplus.android.client.v2.zipato.apk\", \"air.SmartLog.android.apk\", \"com.skybell.app.apk\", \"com.ikea.tradfri.lighting.apk\", \"com.securenettech.cove6production.apk\", \"us.originally.rm_trial.2602.apk\", \"com.cairos.automation.14.apk\", \"air.SmartLog.android.1000080.apk\", \"com.triplus.android.client.v2.zipato.1804101201.apk\", \"com.ikea.tradfri.lighting.30.apk\", \"co.candyhouse.sesame.152.apk\"]\n",
    "\n",
    "    for x in localExceptions:\n",
    "        if x in app.mqtt['pname']:\n",
    "            return True\n",
    "    return False\n",
    "\n",
    "def getNumAppsWithProtocols(results, dataset,local):\n",
    "    count = 0\n",
    "    for i in range(0, len(results)):\n",
    "        x = results[i]\n",
    "        for y in x.keys():\n",
    "            if(local and (y not in toRemove or isLocalCommunication(dataset[i]))) or (not local and y not in notToAdd):\n",
    "                count = count + 1\n",
    "                break\n",
    "#            else:\n",
    "#                print(y)\n",
    "    return count\n"
   ]
  },
  {
   "cell_type": "code",
   "execution_count": null,
   "id": "ad0efae6",
   "metadata": {},
   "outputs": [],
   "source": [
    "numAppsLocalGen = getNumAppsWithProtocols(resultsGenLocal,genDataset ,True)\n",
    "numAppsLocalVer = getNumAppsWithProtocols(resultsVerLocal,verDataset ,True)\n",
    "\n",
    "\n",
    "numAppsRemoteGen = getNumAppsWithProtocols(resultsGenRemote,genDataset ,False)\n",
    "numAppsRemoteVer = getNumAppsWithProtocols(resultsVerRemote,verDataset ,False)\n"
   ]
  },
  {
   "cell_type": "code",
   "execution_count": null,
   "id": "cc26369a",
   "metadata": {},
   "outputs": [],
   "source": []
  },
  {
   "cell_type": "code",
   "execution_count": null,
   "id": "726a9972",
   "metadata": {},
   "outputs": [],
   "source": []
  },
  {
   "cell_type": "code",
   "execution_count": null,
   "id": "e70b7e76",
   "metadata": {},
   "outputs": [],
   "source": []
  },
  {
   "cell_type": "code",
   "execution_count": null,
   "id": "25508c9e",
   "metadata": {},
   "outputs": [],
   "source": [
    "numAppsLocalGen"
   ]
  },
  {
   "cell_type": "code",
   "execution_count": null,
   "id": "bddcda0d",
   "metadata": {},
   "outputs": [],
   "source": [
    "numAppsLocalVer"
   ]
  },
  {
   "cell_type": "code",
   "execution_count": null,
   "id": "b57149f1",
   "metadata": {},
   "outputs": [],
   "source": []
  },
  {
   "cell_type": "code",
   "execution_count": null,
   "id": "02f14f20",
   "metadata": {},
   "outputs": [],
   "source": []
  },
  {
   "cell_type": "code",
   "execution_count": null,
   "id": "b5e5e629",
   "metadata": {},
   "outputs": [],
   "source": []
  },
  {
   "cell_type": "code",
   "execution_count": null,
   "id": "97207c9c",
   "metadata": {},
   "outputs": [],
   "source": [
    "numAppsRemoteGen"
   ]
  },
  {
   "cell_type": "code",
   "execution_count": null,
   "id": "390bad92",
   "metadata": {},
   "outputs": [],
   "source": [
    "numAppsRemoteVer"
   ]
  },
  {
   "cell_type": "code",
   "execution_count": null,
   "id": "9e184ef0",
   "metadata": {},
   "outputs": [],
   "source": [
    "dfWithoutOtherIoT['Apps GP-2022 local percentage'] = dfWithoutOtherIoT['Apps GP-2022 local'].divide(numAppsLocalGen)\n",
    "dfWithoutOtherIoT['Apps IoT-VER local percentage'] = dfWithoutOtherIoT['Apps IoT-VER local'].divide(numAppsLocalVer)\n",
    "\n",
    "\n",
    "dfWithoutOtherIoT['Apps GP-2022 remote percentage'] = dfWithoutOtherIoT['Apps GP-2022 remote'].divide(numAppsRemoteGen)\n",
    "dfWithoutOtherIoT['Apps IoT-VER remote percentage'] = dfWithoutOtherIoT['Apps IoT-VER remote'].divide(numAppsRemoteVer)\n"
   ]
  },
  {
   "cell_type": "code",
   "execution_count": null,
   "id": "d96b1312",
   "metadata": {},
   "outputs": [],
   "source": [
    "dfWithoutOtherIoT"
   ]
  },
  {
   "cell_type": "code",
   "execution_count": null,
   "id": "bce1e7b0",
   "metadata": {},
   "outputs": [],
   "source": [
    "dfWithoutOtherIoT.to_csv('protocols_processed_ccs.csv')"
   ]
  },
  {
   "cell_type": "code",
   "execution_count": null,
   "id": "87f05cd0",
   "metadata": {},
   "outputs": [],
   "source": []
  },
  {
   "cell_type": "code",
   "execution_count": null,
   "id": "032796a2",
   "metadata": {},
   "outputs": [],
   "source": [
    "dfOtherIoT['Apps GP-2022 local percentage'] = dfOtherIoT['Apps GP-2022 local'].divide(numAppsLocalGen)\n",
    "dfOtherIoT['Apps IoT-VER local percentage'] = dfOtherIoT['Apps IoT-VER local'].divide(numAppsLocalVer)\n",
    "\n",
    "\n",
    "dfOtherIoT['Apps GP-2022 remote percentage'] = dfOtherIoT['Apps GP-2022 remote'].divide(numAppsRemoteGen)\n",
    "dfOtherIoT['Apps IoT-VER remote percentage'] = dfOtherIoT['Apps IoT-VER remote'].divide(numAppsRemoteVer)\n",
    "\n",
    "dfOtherIoT.to_csv('protocolsIoT_ccs.csv')"
   ]
  },
  {
   "cell_type": "code",
   "execution_count": null,
   "id": "4006b4b7",
   "metadata": {},
   "outputs": [],
   "source": [
    "dfAll = dfWithoutOtherIoT.sort_index()"
   ]
  },
  {
   "cell_type": "code",
   "execution_count": null,
   "id": "ccd0b351",
   "metadata": {},
   "outputs": [],
   "source": [
    "dfWithoutOtherIoT"
   ]
  },
  {
   "cell_type": "code",
   "execution_count": null,
   "id": "1b35d1d8",
   "metadata": {},
   "outputs": [],
   "source": [
    "dfOtherIoT = dfOtherIoT.sort_index()"
   ]
  },
  {
   "cell_type": "code",
   "execution_count": null,
   "id": "b0b62660",
   "metadata": {},
   "outputs": [],
   "source": [
    "dfAll = pd.concat([dfAll,dfOtherIoT ])"
   ]
  },
  {
   "cell_type": "code",
   "execution_count": null,
   "id": "72408e36",
   "metadata": {},
   "outputs": [],
   "source": [
    "#dfAll = dfAll.style.format({'Apps 2018 local percentage': '{:.2%}','Apps August 2021 local percentage': '{:.2%}','Apps January 2022 local percentage': '{:.2%}', 'Apps 2018 remote percentage': '{:.2%}','Apps August 2021 remote percentage': '{:.2%}','Apps January 2022 remote percentage': '{:.2%}' })"
   ]
  },
  {
   "cell_type": "code",
   "execution_count": null,
   "id": "bb22865a",
   "metadata": {},
   "outputs": [],
   "source": [
    "dfAll['Apps GP-2022 local percentage'] = dfAll['Apps GP-2022 local percentage'].map(lambda n: '{:,.2%}'.format(n))\n",
    "dfAll['Apps IoT-VER local percentage'] = dfAll['Apps IoT-VER local percentage'].map(lambda n: '{:,.2%}'.format(n))\n",
    "\n",
    "\n",
    "dfAll['Apps GP-2022 remote percentage'] = dfAll['Apps GP-2022 remote percentage'].map(lambda n: '{:,.2%}'.format(n))\n",
    "dfAll['Apps IoT-VER remote percentage'] = dfAll['Apps IoT-VER remote percentage'].map(lambda n: '{:,.2%}'.format(n))\n"
   ]
  },
  {
   "cell_type": "code",
   "execution_count": null,
   "id": "023dcfe6",
   "metadata": {},
   "outputs": [],
   "source": [
    "indexes = []\n",
    "data = {}\n",
    "for index, row in dfAll.iterrows():\n",
    "    indexes.append(index)\n",
    "\n",
    "    g2022local =  data.get('GP-2022-local', [])\n",
    "    g2022local.append(f\"{row['Amount GP-2022 local']}-{row['Apps GP-2022 local']}({row['Apps GP-2022 local percentage']})\")\n",
    "    data['GP-2022-local'] = g2022local\n",
    "\n",
    "    verlocal =  data.get('IoT-VER-local', [])\n",
    "    verlocal.append(f\"{row['Amount IoT-VER local']}-{row['Apps IoT-VER local']}({row['Apps IoT-VER local percentage']})\")\n",
    "    data['IoT-VER-local'] = verlocal\n",
    "\n",
    "\n",
    "    g2022remote =  data.get('GP-2022-remote', [])\n",
    "    g2022remote.append(f\"{row['Amount GP-2022 remote']}-{row['Apps GP-2022 remote']}({row['Apps GP-2022 remote percentage']})\")\n",
    "    data['GP-2022-remote'] = g2022remote\n",
    "\n",
    "    verremote =  data.get('IoT-VER-remote', [])\n",
    "    verremote.append(f\"{row['Amount IoT-VER remote']}-{row['Apps IoT-VER remote']}({row['Apps IoT-VER remote percentage']})\")\n",
    "    data['IoT-VER-remote'] = verremote\n",
    "\n",
    "\n",
    " # Creates pandas DataFrame.\n",
    "\n"
   ]
  },
  {
   "cell_type": "code",
   "execution_count": null,
   "id": "7e4cbe03",
   "metadata": {},
   "outputs": [],
   "source": [
    "df = pd.DataFrame(data, index =indexes) #\n"
   ]
  },
  {
   "cell_type": "code",
   "execution_count": null,
   "id": "4e413021",
   "metadata": {},
   "outputs": [],
   "source": [
    "df.to_csv('protocols_summarized_ccs.csv')"
   ]
  },
  {
   "cell_type": "code",
   "execution_count": null,
   "id": "036f6aa0",
   "metadata": {},
   "outputs": [],
   "source": [
    "# NOTE, we used seperate files to analyze MQTT, XMPP, AMQP, COAP, and used those more precise results.\n",
    "# That also lead to small changes in percentage"
   ]
  },
  {
   "cell_type": "code",
   "execution_count": null,
   "id": "8e882198",
   "metadata": {},
   "outputs": [],
   "source": [
    "df"
   ]
  },
  {
   "cell_type": "code",
   "execution_count": null,
   "id": "78d97d78",
   "metadata": {},
   "outputs": [],
   "source": [
    "print(df.to_latex())"
   ]
  },
  {
   "cell_type": "code",
   "execution_count": null,
   "id": "40a77274",
   "metadata": {},
   "outputs": [],
   "source": [
    "len(data[\"IoT-VER-local\"])"
   ]
  },
  {
   "cell_type": "code",
   "execution_count": null,
   "id": "6179bdf1",
   "metadata": {},
   "outputs": [],
   "source": []
  },
  {
   "cell_type": "code",
   "execution_count": null,
   "id": "6347cc57",
   "metadata": {},
   "outputs": [],
   "source": [
    "len(data[\"GP-2022-remote\"])"
   ]
  },
  {
   "cell_type": "code",
   "execution_count": null,
   "id": "38313ef5",
   "metadata": {},
   "outputs": [],
   "source": []
  },
  {
   "cell_type": "code",
   "execution_count": null,
   "id": "7609fc13",
   "metadata": {},
   "outputs": [],
   "source": [
    "len(data[\"IoT-VER-local\"])"
   ]
  },
  {
   "cell_type": "code",
   "execution_count": null,
   "id": "3c26d9ab",
   "metadata": {},
   "outputs": [],
   "source": []
  },
  {
   "cell_type": "code",
   "execution_count": null,
   "id": "1df578d2",
   "metadata": {},
   "outputs": [],
   "source": [
    "resultsVerLocal"
   ]
  },
  {
   "cell_type": "code",
   "execution_count": null,
   "id": "5551d87f",
   "metadata": {},
   "outputs": [],
   "source": [
    "resultsVerRemote"
   ]
  },
  {
   "cell_type": "code",
   "execution_count": null,
   "id": "a6fad44f",
   "metadata": {},
   "outputs": [],
   "source": [
    "def group_other_iot(dataset, names=[]):\n",
    "    count = 0\n",
    "    for app in dataset:\n",
    "        add_other = False\n",
    "        for value in app.keys():\n",
    "            for v2 in names:\n",
    "                if value == v2:\n",
    "                    print(value)\n",
    "                    add_other = True\n",
    "\n",
    "        if add_other:\n",
    "            count += 1\n",
    "\n",
    "    return count\n"
   ]
  },
  {
   "cell_type": "code",
   "execution_count": null,
   "id": "117ce274",
   "metadata": {},
   "outputs": [],
   "source": [
    "group_other_iot(resultsVerRemote, [\"ipp:\", \"ipps:\", \"rtmp:\", \"vnc:\"])"
   ]
  },
  {
   "cell_type": "code",
   "execution_count": null,
   "id": "9c010bca",
   "metadata": {},
   "outputs": [],
   "source": [
    "IPP + IPPs + RMTP + VNC"
   ]
  },
  {
   "cell_type": "code",
   "execution_count": null,
   "id": "aad5aa69",
   "metadata": {},
   "outputs": [],
   "source": [
    "numAppsRemoteVer"
   ]
  },
  {
   "cell_type": "code",
   "execution_count": null,
   "id": "b11cba8c",
   "metadata": {},
   "outputs": [],
   "source": [
    "print(f\"{4/7114*100:.2f}\")"
   ]
  },
  {
   "cell_type": "code",
   "execution_count": null,
   "id": "b24e7f4a",
   "metadata": {},
   "outputs": [],
   "source": []
  },
  {
   "cell_type": "code",
   "execution_count": null,
   "id": "680ca24e",
   "metadata": {},
   "outputs": [],
   "source": []
  },
  {
   "cell_type": "code",
   "execution_count": null,
   "id": "9d69617f",
   "metadata": {},
   "outputs": [],
   "source": []
  },
  {
   "cell_type": "code",
   "execution_count": null,
   "id": "1604415a",
   "metadata": {},
   "outputs": [],
   "source": []
  },
  {
   "cell_type": "code",
   "execution_count": null,
   "id": "ea4fdec3",
   "metadata": {},
   "outputs": [],
   "source": []
  },
  {
   "cell_type": "code",
   "execution_count": null,
   "id": "de127480",
   "metadata": {},
   "outputs": [],
   "source": []
  },
  {
   "cell_type": "code",
   "execution_count": null,
   "id": "b471c786",
   "metadata": {},
   "outputs": [],
   "source": []
  },
  {
   "cell_type": "code",
   "execution_count": null,
   "id": "f3ab4d81",
   "metadata": {},
   "outputs": [],
   "source": []
  },
  {
   "cell_type": "code",
   "execution_count": null,
   "id": "962328c3",
   "metadata": {},
   "outputs": [],
   "source": []
  },
  {
   "cell_type": "code",
   "execution_count": null,
   "id": "d911eab0",
   "metadata": {},
   "outputs": [],
   "source": []
  },
  {
   "cell_type": "code",
   "execution_count": null,
   "id": "309c3eec",
   "metadata": {},
   "outputs": [],
   "source": []
  },
  {
   "cell_type": "code",
   "execution_count": null,
   "id": "c5032397",
   "metadata": {},
   "outputs": [],
   "source": []
  },
  {
   "cell_type": "code",
   "execution_count": null,
   "id": "71ea89fd",
   "metadata": {},
   "outputs": [],
   "source": []
  },
  {
   "cell_type": "code",
   "execution_count": null,
   "id": "fb412ab1",
   "metadata": {},
   "outputs": [],
   "source": []
  },
  {
   "cell_type": "code",
   "execution_count": null,
   "id": "c7a49291",
   "metadata": {},
   "outputs": [],
   "source": []
  },
  {
   "cell_type": "code",
   "execution_count": null,
   "id": "94d149e4",
   "metadata": {},
   "outputs": [],
   "source": []
  }
 ],
 "metadata": {
  "kernelspec": {
   "display_name": "Python 3 (ipykernel)",
   "language": "python",
   "name": "python3"
  },
  "language_info": {
   "codemirror_mode": {
    "name": "ipython",
    "version": 3
   },
   "file_extension": ".py",
   "mimetype": "text/x-python",
   "name": "python",
   "nbconvert_exporter": "python",
   "pygments_lexer": "ipython3",
   "version": "3.11.5"
  }
 },
 "nbformat": 4,
 "nbformat_minor": 5
}
