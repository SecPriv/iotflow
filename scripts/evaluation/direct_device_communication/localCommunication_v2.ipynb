{
 "cells": [
  {
   "cell_type": "code",
   "execution_count": null,
   "id": "b76f78da",
   "metadata": {},
   "outputs": [],
   "source": [
    "import util.util as util\n",
    "import re\n",
    "import importlib\n",
    "import os\n",
    "import json\n",
    "#importlib.reload(util.util)"
   ]
  },
  {
   "cell_type": "code",
   "execution_count": null,
   "id": "7aad9feb",
   "metadata": {},
   "outputs": [],
   "source": []
  },
  {
   "cell_type": "code",
   "execution_count": null,
   "id": "e6211602",
   "metadata": {
    "pycharm": {
     "is_executing": true
    }
   },
   "outputs": [],
   "source": [
    "# TODO: set the path to your result folder\n",
    "# set the first argument to the base path of the result folder, second argument is th folder name, third argument a mapping file - that tells for apps in multiple sub datasets which app to include\n",
    "\n",
    "verified_dataset = util.get_verified_dataset(\"//\", \"/2023_04_06/\", \"/verified_dataset/result.json\")\n"
   ]
  },
  {
   "cell_type": "code",
   "execution_count": null,
   "id": "05b7b180",
   "metadata": {
    "pycharm": {
     "is_executing": true
    }
   },
   "outputs": [],
   "source": [
    "# TODO: set the path to load your data\n",
    "genDataset = util.loadAllData(\"/gp_2022/\", True)"
   ]
  },
  {
   "cell_type": "code",
   "execution_count": null,
   "id": "c5c90773",
   "metadata": {
    "pycharm": {
     "is_executing": true
    }
   },
   "outputs": [],
   "source": []
  },
  {
   "cell_type": "code",
   "execution_count": null,
   "id": "af164cbb",
   "metadata": {
    "pycharm": {
     "is_executing": true
    }
   },
   "outputs": [],
   "source": []
  },
  {
   "cell_type": "code",
   "execution_count": null,
   "id": "2558d57c",
   "metadata": {
    "pycharm": {
     "is_executing": true
    }
   },
   "outputs": [],
   "source": []
  },
  {
   "cell_type": "code",
   "execution_count": null,
   "id": "b51d1c79",
   "metadata": {
    "pycharm": {
     "is_executing": true
    }
   },
   "outputs": [],
   "source": [
    "\n",
    "\n",
    "def getLocalAddresses(domains):\n",
    "    result = set()\n",
    "    for d in domains:\n",
    "        if util.isLocal(d):\n",
    "            if '.local' in d:\n",
    "                #print(d)\n",
    "                if 'fromui.local' in d:\n",
    "                    result.add('fromui.local')\n",
    "            #elif d.startswith('127.') or d.startswith('0.'):\n",
    "            #    continue\n",
    "            else:\n",
    "                result.add(d)\n",
    "\n",
    "    return result\n",
    "\n",
    "def getAllLocalAddresses(app):\n",
    "    result = set()\n",
    "    result.update(getLocalAddresses(util.getUniqueLocalCommunicationJson(app.amqp)))\n",
    "    result.update(getLocalAddresses(util.getUniqueLocalCommunicationJson(app.coap)))\n",
    "    result.update(getLocalAddresses(util.getUniqueLocalCommunicationJson(app.endpoints)))\n",
    "    result.update(getLocalAddresses(util.getUniqueLocalCommunicationJson(app.mqtt)))\n",
    "    result.update(getLocalAddresses(util.getUniqueLocalCommunicationJson(app.xmpp)))\n",
    "    result.update(getLocalAddresses(util.getUniqueLocalCommunicationJson(app.udp)))\n",
    "    result.update(getLocalAddresses(util.getUniqueLocalCommunicationJson(app.webview)))\n",
    "\n",
    "    return result\n"
   ]
  },
  {
   "cell_type": "code",
   "execution_count": null,
   "id": "b8b6eb21",
   "metadata": {
    "pycharm": {
     "is_executing": true
    }
   },
   "outputs": [],
   "source": []
  },
  {
   "cell_type": "code",
   "execution_count": null,
   "id": "e81bd2b6",
   "metadata": {
    "pycharm": {
     "is_executing": true
    }
   },
   "outputs": [],
   "source": [
    "def hasUPNP(jsonData):\n",
    "    if 'ValuePoints' in jsonData:\n",
    "        for vp in jsonData['ValuePoints']:\n",
    "            if 'UsesPotentiallyUPnP' in vp:\n",
    "                print(jsonData['pname'])\n",
    "                return True\n",
    "\n",
    "    return False\n",
    "\n",
    "def isAppUsingUPNP(app):\n",
    "    return hasUPNP(app.amqp) or hasUPNP(app.coap) or hasUPNP(app.endpoints) or hasUPNP(app.mqtt)  or hasUPNP(app.xmpp)\n",
    "\n",
    "#addresses = re.compile(\"224\\.0\\.0\\.|224\\.0\\.1\\.|224\\.0\\.2\\.| 224\\.1\\.| 224\\.3\\.| 224\\.4\\.| 225\\.| 226\\.| 227\\.| 228\\.| 229\\.| 230\\.| 231\\.| 232\\.|233\\.| 234\\.| 235\\.|236\\.| 237\\.| 238\\. | 239\\.| ffx0:| ffx1:| ffx2:|ffx3:|ffx4:|ffx5:|ffx6:|ffx7:|ffx8:|ffx9:|ffxa:|ffxb:|ffxc:|ffxd:|ffxe:| ff02:| ff0x:\")\n",
    "def doesAppContainMulticast(app):\n",
    "    details = ['255.255.255.255','224.0.0.','224.0.1.','224.0.2.', '224.1.', '224.3.', '224.4.', '225.', '226.', '227.', '228.', '229.', '230.', '231.', '232.','233.', '234.', '235.','236.', '237.', '238.' , '239.', 'ffx0:', 'ffx1:', 'ffx2:','ffx3:','ffx4:','ffx5:','ffx6:','ffx7:','ffx8:','ffx9:','ffxa:','ffxb:','ffxc:','ffxd:','ffxe:', 'ff02:', 'ff0x:']\n",
    "    result = set()\n",
    "    if 'ValuePoints' in app.udp:\n",
    "        for vp in app.udp['ValuePoints']:\n",
    "            for valueSet in vp['ValueSet']:\n",
    "                if not valueSet:\n",
    "                    continue\n",
    "                #print(valueSet)\n",
    "                valueSetString = str(valueSet)\n",
    "                valueSetString = valueSetString.lower()\n",
    "                for address in details:\n",
    "                    if address in valueSetString:\n",
    "                        ipExtract = re.findall( r'[0-9]+(?:\\.[0-9]+){3}', valueSetString)\n",
    "                        ipExtract2 = re.findall(r'(([0-9a-fA-F]{1,4}:){7,7}[0-9a-fA-F]{1,4}|([0-9a-fA-F]{1,4}:){1,7}:|([0-9a-fA-F]{1,4}:){1,6}:[0-9a-fA-F]{1,4}|([0-9a-fA-F]{1,4}:){1,5}(:[0-9a-fA-F]{1,4}){1,2}|([0-9a-fA-F]{1,4}:){1,4}(:[0-9a-fA-F]{1,4}){1,3}|([0-9a-fA-F]{1,4}:){1,3}(:[0-9a-fA-F]{1,4}){1,4}|([0-9a-fA-F]{1,4}:){1,2}(:[0-9a-fA-F]{1,4}){1,5}|[0-9a-fA-F]{1,4}:((:[0-9a-fA-F]{1,4}){1,6})|:((:[0-9a-fA-F]{1,4}){1,7}|:)|fe80:(:[0-9a-fA-F]{0,4}){0,4}%[0-9a-zA-Z]{1,}|::(ffff(:0{1,4}){0,1}:){0,1}((25[0-5]|(2[0-4]|1{0,1}[0-9]){0,1}[0-9])\\.){3,3}(25[0-5]|(2[0-4]|1{0,1}[0-9]){0,1}[0-9])|([0-9a-fA-F]{1,4}:){1,4}:((25[0-5]|(2[0-4]|1{0,1}[0-9]){0,1}[0-9])\\.){3,3}(25[0-5]|(2[0-4]|1{0,1}[0-9]){0,1}[0-9]))', valueSetString)\n",
    "                        if len(ipExtract) >0:\n",
    "                            for c in ipExtract:\n",
    "                                if '127.0.0.1' in c:\n",
    "                                    continue\n",
    "                                if  c.startswith(address):\n",
    "                                    print(c)\n",
    "                                    result.add(c)\n",
    "                        elif len(ipExtract2) > 0:\n",
    "                            if len(ipExtract2[0]) > 0:\n",
    "                                result.add(ipExtract2[0][0])\n",
    "\n",
    "                #for keys in valueSet.keys():\n",
    "                #    for key in keys:\n",
    "                #        for value in valueSet[key]:\n",
    "                #            if addresses.match(value):\n",
    "\n",
    "\n",
    "    return result\n",
    "\n",
    "\n",
    "\n",
    "def getStats(appsToAnalyze):\n",
    "    countAppsLocalAddresses = 0\n",
    "    countAppsUsingUPNP = 0\n",
    "    countAppsLocalIpOrUPNP = 0\n",
    "    countBroadcastAndMulticast = 0\n",
    "\n",
    "    localAddresses = []\n",
    "    for app in appsToAnalyze:\n",
    "        currentLocal = getAllLocalAddresses(app)\n",
    "        if len(currentLocal) > 0:\n",
    "            countAppsLocalAddresses = countAppsLocalAddresses + 1\n",
    "\n",
    "        currentUseUPNP = isAppUsingUPNP(app)\n",
    "        if currentUseUPNP:\n",
    "            countAppsUsingUPNP =  countAppsUsingUPNP + 1\n",
    "\n",
    "        multicast = doesAppContainMulticast(app)\n",
    "        if len(multicast) > 0:\n",
    "            countBroadcastAndMulticast = countBroadcastAndMulticast + 1\n",
    "\n",
    "        if currentUseUPNP or len(currentLocal) > 0 or len(multicast) > 0:\n",
    "            countAppsLocalIpOrUPNP = countAppsLocalIpOrUPNP + 1\n",
    "\n",
    "\n",
    "\n",
    "        currentSet = currentLocal.union(multicast)\n",
    "\n",
    "        localAddresses.append(currentSet)\n",
    "\n",
    "    return localAddresses, countAppsLocalIpOrUPNP, countAppsUsingUPNP, countAppsLocalAddresses,countBroadcastAndMulticast\n"
   ]
  },
  {
   "cell_type": "code",
   "execution_count": null,
   "id": "30a64013",
   "metadata": {},
   "outputs": [],
   "source": []
  },
  {
   "cell_type": "code",
   "execution_count": null,
   "id": "1554261b",
   "metadata": {
    "scrolled": true
   },
   "outputs": [],
   "source": []
  },
  {
   "cell_type": "code",
   "execution_count": null,
   "id": "d93e6913",
   "metadata": {},
   "outputs": [],
   "source": []
  },
  {
   "cell_type": "code",
   "execution_count": null,
   "id": "378922e7",
   "metadata": {},
   "outputs": [],
   "source": [
    "genLocalAddresses, genCountIpUpnp, genCountUPNP, genCountLocal,genCountBroadcast = getStats(genDataset)\n",
    "%store genLocalAddresses\n",
    "%store genCountIpUpnp\n",
    "%store genCountUPNP\n",
    "%store genCountLocal\n",
    "%store genCountBroadcast"
   ]
  },
  {
   "cell_type": "code",
   "execution_count": null,
   "id": "e253d5c6",
   "metadata": {
    "pycharm": {
     "is_executing": true
    }
   },
   "outputs": [],
   "source": [
    "verifiedLocalAddresses, verifiedCountIpUpnp, verifiedCountUPNP, verifiedCountLocal, verifiedCountBroadcast = getStats(verified_dataset)\n",
    "%store verifiedLocalAddresses\n",
    "%store verifiedCountIpUpnp\n",
    "%store verifiedCountUPNP\n",
    "%store verifiedCountLocal\n",
    "%store verifiedCountBroadcast\n"
   ]
  },
  {
   "cell_type": "code",
   "execution_count": null,
   "id": "12fdf0a3",
   "metadata": {
    "pycharm": {
     "is_executing": true
    }
   },
   "outputs": [],
   "source": [
    "\n",
    "\n",
    "def getLocalAddressCount(localAddresesFromApps):\n",
    "    result = {}\n",
    "    for app in localAddresesFromApps:\n",
    "        for l in app:\n",
    "            result[l] = result.get(l, 0) + 1\n",
    "    return result"
   ]
  },
  {
   "cell_type": "code",
   "execution_count": null,
   "id": "9b8d2175",
   "metadata": {
    "pycharm": {
     "is_executing": true
    }
   },
   "outputs": [],
   "source": []
  },
  {
   "cell_type": "code",
   "execution_count": null,
   "id": "cfad1beb",
   "metadata": {},
   "outputs": [],
   "source": [
    "%store -r genLocalAddresses\n",
    "%store -r genCountIpUpnp\n",
    "%store -r genCountUPNP\n",
    "%store -r genCountLocal\n",
    "%store -r genCountBroadcast\n"
   ]
  },
  {
   "cell_type": "code",
   "execution_count": null,
   "id": "552ea1c7",
   "metadata": {
    "pycharm": {
     "is_executing": true
    }
   },
   "outputs": [],
   "source": [
    "%store -r verifiedLocalAddresses\n",
    "%store  -r verifiedCountIpUpnp\n",
    "%store -r  verifiedCountUPNP\n",
    "%store -r  verifiedCountLocal\n",
    "%store -r  verifiedCountBroadcast"
   ]
  },
  {
   "cell_type": "code",
   "execution_count": null,
   "id": "990fac4c",
   "metadata": {},
   "outputs": [],
   "source": [
    "verifiedLocalAddresses"
   ]
  },
  {
   "cell_type": "code",
   "execution_count": null,
   "id": "4f8bc95f",
   "metadata": {},
   "outputs": [],
   "source": []
  },
  {
   "cell_type": "code",
   "execution_count": null,
   "id": "ca718ebb",
   "metadata": {},
   "outputs": [],
   "source": []
  },
  {
   "cell_type": "code",
   "execution_count": null,
   "id": "06adf379",
   "metadata": {},
   "outputs": [],
   "source": []
  },
  {
   "cell_type": "code",
   "execution_count": null,
   "id": "970e1412",
   "metadata": {},
   "outputs": [],
   "source": []
  },
  {
   "cell_type": "code",
   "execution_count": null,
   "id": "a9ef4bbf",
   "metadata": {
    "pycharm": {
     "is_executing": true
    }
   },
   "outputs": [],
   "source": [
    "\n",
    "genCount = getLocalAddressCount(genLocalAddresses)\n",
    "genCount['upnp'] = genCountUPNP\n",
    "\n",
    "\n",
    "verCount = getLocalAddressCount(verifiedLocalAddresses)\n",
    "verCount['upnp'] = verifiedCountUPNP"
   ]
  },
  {
   "cell_type": "code",
   "execution_count": null,
   "id": "dbb1146b",
   "metadata": {
    "pycharm": {
     "is_executing": true
    }
   },
   "outputs": [],
   "source": [
    "print(janCount)"
   ]
  },
  {
   "cell_type": "code",
   "execution_count": null,
   "id": "97ed6f0c",
   "metadata": {
    "pycharm": {
     "is_executing": true
    }
   },
   "outputs": [],
   "source": [
    "def addAll(result, toAdd):\n",
    "    for x in toAdd:\n",
    "        result.add(x)\n",
    "    return result\n",
    "\n",
    "allKeys = set()\n",
    "allKeys =addAll(allKeys, genCount.keys())\n",
    "allKeys =addAll(allKeys, verCount.keys())"
   ]
  },
  {
   "cell_type": "code",
   "execution_count": null,
   "id": "cb4573e2",
   "metadata": {
    "pycharm": {
     "is_executing": true
    }
   },
   "outputs": [],
   "source": [
    "import pandas as pd\n",
    "data = []\n",
    "\n",
    "for key in allKeys:\n",
    "    row = []\n",
    "    row.append(key)\n",
    "    row.append(genCount.get(key, 0))\n",
    "    row.append(verCount.get(key, 0))\n",
    "\n",
    "    data.append(row)\n",
    "\n",
    "\n",
    "df = pd.DataFrame(data, columns=['Address', \"GP-2022\", \"IoT-VER\"])"
   ]
  },
  {
   "cell_type": "code",
   "execution_count": null,
   "id": "bf2b1dd4",
   "metadata": {},
   "outputs": [],
   "source": [
    "df"
   ]
  },
  {
   "cell_type": "code",
   "execution_count": null,
   "id": "09a14811",
   "metadata": {},
   "outputs": [],
   "source": [
    "df.to_csv(\"all.csv\", index = False)"
   ]
  },
  {
   "cell_type": "code",
   "execution_count": null,
   "id": "0dd19912",
   "metadata": {},
   "outputs": [],
   "source": []
  },
  {
   "cell_type": "code",
   "execution_count": null,
   "id": "a6738ba2",
   "metadata": {
    "pycharm": {
     "is_executing": true
    }
   },
   "outputs": [],
   "source": []
  },
  {
   "cell_type": "code",
   "execution_count": null,
   "id": "97ab7d35",
   "metadata": {
    "pycharm": {
     "is_executing": true
    }
   },
   "outputs": [],
   "source": []
  },
  {
   "cell_type": "code",
   "execution_count": null,
   "id": "59481c1c",
   "metadata": {
    "pycharm": {
     "is_executing": true
    }
   },
   "outputs": [],
   "source": []
  },
  {
   "cell_type": "code",
   "execution_count": null,
   "id": "78f92560",
   "metadata": {},
   "outputs": [],
   "source": []
  },
  {
   "cell_type": "code",
   "execution_count": null,
   "id": "b1853a97",
   "metadata": {},
   "outputs": [],
   "source": []
  },
  {
   "cell_type": "code",
   "execution_count": null,
   "id": "50e178c9",
   "metadata": {},
   "outputs": [],
   "source": []
  },
  {
   "cell_type": "code",
   "execution_count": null,
   "id": "d812405c",
   "metadata": {},
   "outputs": [],
   "source": []
  },
  {
   "cell_type": "code",
   "execution_count": null,
   "id": "9e1dfdbb",
   "metadata": {
    "pycharm": {
     "is_executing": true
    }
   },
   "outputs": [],
   "source": []
  },
  {
   "cell_type": "code",
   "execution_count": null,
   "id": "2aa78b62",
   "metadata": {
    "pycharm": {
     "is_executing": true
    }
   },
   "outputs": [],
   "source": []
  },
  {
   "cell_type": "code",
   "execution_count": null,
   "id": "cf64609b",
   "metadata": {
    "pycharm": {
     "is_executing": true
    }
   },
   "outputs": [],
   "source": []
  },
  {
   "cell_type": "code",
   "execution_count": null,
   "id": "f951e707",
   "metadata": {},
   "outputs": [],
   "source": []
  },
  {
   "cell_type": "code",
   "execution_count": null,
   "id": "b4e03257",
   "metadata": {},
   "outputs": [],
   "source": []
  },
  {
   "cell_type": "code",
   "execution_count": null,
   "id": "20c57750",
   "metadata": {},
   "outputs": [],
   "source": []
  },
  {
   "cell_type": "code",
   "execution_count": null,
   "id": "08a20924",
   "metadata": {},
   "outputs": [],
   "source": []
  },
  {
   "cell_type": "code",
   "execution_count": null,
   "id": "bb8a84cf",
   "metadata": {},
   "outputs": [],
   "source": [
    "len(genDataset)"
   ]
  },
  {
   "cell_type": "code",
   "execution_count": null,
   "id": "6da18819",
   "metadata": {},
   "outputs": [],
   "source": []
  },
  {
   "cell_type": "code",
   "execution_count": null,
   "id": "e3827d3e",
   "metadata": {},
   "outputs": [],
   "source": [
    "def readAllPermissionFilesVerified(path, name, mapping):\n",
    "    result = []\n",
    "    paths = []\n",
    "    for app_name in os.listdir(f\"{path}\"):\n",
    "        permission_data = util.getJsonData(f\"{path}/{app_name}\")\n",
    "        app_name = app_name[0:len(app_name) - 5]\n",
    "        if app_name in mapping:\n",
    "            if mapping[app_name] == name:\n",
    "                result.append(permission_data)\n",
    "                paths.append(f\"{path}/{app_name}\")\n",
    "        else:\n",
    "            result.append(permission_data)\n",
    "            paths.append(f\"{path}/{app_name}\")\n",
    "\n",
    "\n",
    "    return result, paths"
   ]
  },
  {
   "cell_type": "code",
   "execution_count": null,
   "id": "e8d9e165",
   "metadata": {},
   "outputs": [],
   "source": [
    "def readAllPermissionFiles(path):\n",
    "    result = []\n",
    "    for app in os.listdir(f\"{path}\"):\n",
    "        result.append(util.getJsonData(f\"{path}/{app}\"))\n",
    "\n",
    "\n",
    "    return result"
   ]
  },
  {
   "cell_type": "code",
   "execution_count": null,
   "id": "f96ffd32",
   "metadata": {},
   "outputs": [],
   "source": [
    "def countPermissions(dataset):\n",
    "    result = {}\n",
    "    for app in dataset:\n",
    "        for permission in app:\n",
    "            result[permission] = result.get(permission, 0) + 1\n",
    "\n",
    "    return result"
   ]
  },
  {
   "cell_type": "code",
   "execution_count": null,
   "id": "945919b8",
   "metadata": {},
   "outputs": [],
   "source": [
    "genDatasetPermission = readAllPermissionFiles(\"//permission/gp_2022/permissions/\")\n"
   ]
  },
  {
   "cell_type": "code",
   "execution_count": null,
   "id": "63c566a8",
   "metadata": {},
   "outputs": [],
   "source": [
    "mapping_json = {}\n",
    "with open(\"//verified_dataset/result.json\", \"r\") as f:\n",
    "    mapping_json = json.load(f)"
   ]
  },
  {
   "cell_type": "code",
   "execution_count": null,
   "id": "db2a38ad",
   "metadata": {},
   "outputs": [],
   "source": [
    "neupaneDatasetPermission, neupane_permission_names = readAllPermissionFilesVerified(\"/permission/neupane/permissions/\", \"neupane\", mapping_json)\n",
    "iotspotterDatasetPermission, iotspotter_permission_names = readAllPermissionFilesVerified(\"/permission/iotspotter/permissions/\", \"iotspotter\", mapping_json)\n",
    "iotprofilerDatasetPermission, iotprofiler_permission_names = readAllPermissionFilesVerified(\"/permission/iotprofiler/permissions/\", \"iotprofiler\", mapping_json)"
   ]
  },
  {
   "cell_type": "code",
   "execution_count": null,
   "id": "8987cfa6",
   "metadata": {},
   "outputs": [],
   "source": [
    "verDatasetPermission = neupaneDatasetPermission + iotspotterDatasetPermission + iotprofilerDatasetPermission\n",
    "ver_permission_names = neupane_permission_names + iotspotter_permission_names + iotprofiler_permission_names"
   ]
  },
  {
   "cell_type": "code",
   "execution_count": null,
   "id": "023bbb36",
   "metadata": {},
   "outputs": [],
   "source": [
    "allPermissionGen = countPermissions(genDatasetPermission)\n",
    "\n",
    "allPermissionVER = countPermissions(verDatasetPermission)"
   ]
  },
  {
   "cell_type": "code",
   "execution_count": null,
   "id": "6102fa87",
   "metadata": {},
   "outputs": [],
   "source": [
    "permissionsToLookFor = [\"android.permission.BLUETOOTH\", \"android.permission.BLUETOOTH_ADMIN\", \"android.permission.BLUETOOTH_ADVERTISE\", \"android.permission.BLUETOOTH_CONNECT\", \"android.permission.BLUETOOTH_SCAN\", \"android.permission.INTERNET\", \"android.permission.NFC\", \"android.permission.NFC_PREFERRED_PAYMENT_INFO\", \"android.permission.NFC_TRANSACTION_EVENT\"]"
   ]
  },
  {
   "cell_type": "code",
   "execution_count": null,
   "id": "dd5b4267",
   "metadata": {},
   "outputs": [],
   "source": [
    "%store allPermissionGen\n",
    "%store allPermissionVER"
   ]
  },
  {
   "cell_type": "code",
   "execution_count": null,
   "id": "6279eaa9",
   "metadata": {},
   "outputs": [],
   "source": [
    "blPermission = [\"android.permission.BLUETOOTH\", \"android.permission.BLUETOOTH_ADMIN\", \"android.permission.BLUETOOTH_ADVERTISE\", \"android.permission.BLUETOOTH_CONNECT\", \"android.permission.BLUETOOTH_SCAN\"]\n",
    "def hasBl(dataset):\n",
    "    count = 0\n",
    "    for app in dataset:\n",
    "        for permission in app:\n",
    "            if permission in blPermission:\n",
    "                count = count + 1\n",
    "                break\n",
    "    return count"
   ]
  },
  {
   "cell_type": "code",
   "execution_count": null,
   "id": "fd4a3d33",
   "metadata": {},
   "outputs": [],
   "source": []
  },
  {
   "cell_type": "code",
   "execution_count": null,
   "id": "e0ff36c2",
   "metadata": {},
   "outputs": [],
   "source": []
  },
  {
   "cell_type": "code",
   "execution_count": null,
   "id": "436571a6",
   "metadata": {},
   "outputs": [],
   "source": [
    "formatted_df = format_table(df)"
   ]
  },
  {
   "cell_type": "code",
   "execution_count": null,
   "id": "4316f1ff",
   "metadata": {},
   "outputs": [],
   "source": [
    "formatted_df = formatted_df.sort_values(by=['Address'])"
   ]
  },
  {
   "cell_type": "code",
   "execution_count": null,
   "id": "eb4760fc",
   "metadata": {
    "pycharm": {
     "is_executing": true
    }
   },
   "outputs": [],
   "source": [
    "df.to_csv('localAddresses-save_ccs.csv', index=False)"
   ]
  },
  {
   "cell_type": "code",
   "execution_count": null,
   "id": "8fd4f104",
   "metadata": {},
   "outputs": [],
   "source": []
  },
  {
   "cell_type": "code",
   "execution_count": null,
   "id": "9be0675b",
   "metadata": {},
   "outputs": [],
   "source": [
    "\n",
    "%store -r allPermissionGen\n",
    "%store -r allPermissionVER"
   ]
  },
  {
   "cell_type": "code",
   "execution_count": null,
   "id": "5be370e9",
   "metadata": {},
   "outputs": [],
   "source": []
  },
  {
   "cell_type": "code",
   "execution_count": null,
   "id": "4ea02d66",
   "metadata": {},
   "outputs": [],
   "source": [
    "print(formatted_df.to_latex(index=False))\n"
   ]
  },
  {
   "cell_type": "code",
   "execution_count": null,
   "id": "e2783482",
   "metadata": {},
   "outputs": [],
   "source": []
  },
  {
   "cell_type": "code",
   "execution_count": null,
   "id": "557a5676",
   "metadata": {},
   "outputs": [],
   "source": [
    "len(verifiedLocalAddresses)"
   ]
  },
  {
   "cell_type": "code",
   "execution_count": null,
   "id": "abaa1f40",
   "metadata": {
    "pycharm": {
     "is_executing": true
    }
   },
   "outputs": [],
   "source": []
  },
  {
   "cell_type": "code",
   "execution_count": null,
   "id": "8dab7099",
   "metadata": {
    "pycharm": {
     "is_executing": true
    }
   },
   "outputs": [],
   "source": []
  },
  {
   "cell_type": "code",
   "execution_count": null,
   "id": "c52da07c",
   "metadata": {
    "pycharm": {
     "is_executing": true
    }
   },
   "outputs": [],
   "source": []
  },
  {
   "cell_type": "code",
   "execution_count": null,
   "id": "f61ff09d",
   "metadata": {
    "pycharm": {
     "is_executing": true
    }
   },
   "outputs": [],
   "source": [
    "len(genLocalAddresses)"
   ]
  },
  {
   "cell_type": "code",
   "execution_count": null,
   "id": "46b34738",
   "metadata": {
    "pycharm": {
     "is_executing": true
    }
   },
   "outputs": [],
   "source": []
  },
  {
   "cell_type": "code",
   "execution_count": null,
   "id": "0e79b7fd",
   "metadata": {
    "pycharm": {
     "is_executing": true
    }
   },
   "outputs": [],
   "source": []
  },
  {
   "cell_type": "code",
   "execution_count": null,
   "id": "7302c130",
   "metadata": {
    "pycharm": {
     "is_executing": true
    }
   },
   "outputs": [],
   "source": []
  },
  {
   "cell_type": "code",
   "execution_count": null,
   "id": "ed608bb0",
   "metadata": {
    "pycharm": {
     "is_executing": true
    }
   },
   "outputs": [],
   "source": [
    "genCountIpUpnp"
   ]
  },
  {
   "cell_type": "code",
   "execution_count": null,
   "id": "a7135c46",
   "metadata": {},
   "outputs": [],
   "source": [
    "verifiedCountIpUpnp"
   ]
  },
  {
   "cell_type": "code",
   "execution_count": null,
   "id": "7b8802b7",
   "metadata": {
    "pycharm": {
     "is_executing": true
    }
   },
   "outputs": [],
   "source": []
  },
  {
   "cell_type": "code",
   "execution_count": null,
   "id": "c95fd278",
   "metadata": {
    "pycharm": {
     "is_executing": true
    }
   },
   "outputs": [],
   "source": []
  },
  {
   "cell_type": "code",
   "execution_count": null,
   "id": "b7587a68",
   "metadata": {
    "pycharm": {
     "is_executing": true
    }
   },
   "outputs": [],
   "source": []
  },
  {
   "cell_type": "code",
   "execution_count": null,
   "id": "4839a53c",
   "metadata": {
    "pycharm": {
     "is_executing": true
    }
   },
   "outputs": [],
   "source": [
    "genCountLocal"
   ]
  },
  {
   "cell_type": "code",
   "execution_count": null,
   "id": "8cb0f4b4",
   "metadata": {},
   "outputs": [],
   "source": [
    "verifiedCountLocal"
   ]
  },
  {
   "cell_type": "code",
   "execution_count": null,
   "id": "1806619b",
   "metadata": {
    "pycharm": {
     "is_executing": true
    }
   },
   "outputs": [],
   "source": []
  },
  {
   "cell_type": "code",
   "execution_count": null,
   "id": "e6a6ac79",
   "metadata": {
    "pycharm": {
     "is_executing": true
    }
   },
   "outputs": [],
   "source": [
    "genCountBroadcast"
   ]
  },
  {
   "cell_type": "code",
   "execution_count": null,
   "id": "5d9c17d3",
   "metadata": {
    "pycharm": {
     "is_executing": true
    }
   },
   "outputs": [],
   "source": []
  },
  {
   "cell_type": "code",
   "execution_count": null,
   "id": "7e32f51e",
   "metadata": {
    "pycharm": {
     "is_executing": true
    }
   },
   "outputs": [],
   "source": []
  },
  {
   "cell_type": "code",
   "execution_count": null,
   "id": "db11f147",
   "metadata": {
    "pycharm": {
     "is_executing": true
    }
   },
   "outputs": [],
   "source": []
  },
  {
   "cell_type": "code",
   "execution_count": null,
   "id": "12df95f4",
   "metadata": {},
   "outputs": [],
   "source": [
    "verifiedCountBroadcast"
   ]
  },
  {
   "cell_type": "code",
   "execution_count": null,
   "id": "12ec98ea",
   "metadata": {
    "pycharm": {
     "is_executing": true
    }
   },
   "outputs": [],
   "source": [
    "countFromUIJan = 0\n",
    "appsWithUI = []\n",
    "for i in range(0,len(janLocalAddresses)):\n",
    "    x = janLocalAddresses[i]\n",
    "    if 'fromui.local' in x:\n",
    "        countFromUIJan = countFromUIJan + 1\n",
    "        appsWithUI.append(janDataset[i])"
   ]
  },
  {
   "cell_type": "code",
   "execution_count": null,
   "id": "890570d4",
   "metadata": {
    "pycharm": {
     "is_executing": true
    }
   },
   "outputs": [],
   "source": [
    "countFromUIJan"
   ]
  },
  {
   "cell_type": "code",
   "execution_count": null,
   "id": "311772e5",
   "metadata": {
    "pycharm": {
     "is_executing": true
    }
   },
   "outputs": [],
   "source": [
    "import random\n",
    "\n",
    "for i in range(0,len(appsWithUI)):\n",
    "    print(appsWithUI[random.randint(0,len(appsWithUI)-1)].amqp)"
   ]
  },
  {
   "cell_type": "code",
   "execution_count": null,
   "id": "ff09e178",
   "metadata": {
    "pycharm": {
     "is_executing": true
    }
   },
   "outputs": [],
   "source": []
  },
  {
   "cell_type": "code",
   "execution_count": null,
   "id": "d0e024cb",
   "metadata": {
    "pycharm": {
     "is_executing": true
    }
   },
   "outputs": [],
   "source": [
    "verifiedCountLocal/9889*100"
   ]
  },
  {
   "cell_type": "code",
   "execution_count": null,
   "id": "6f1e2526",
   "metadata": {
    "pycharm": {
     "is_executing": true
    }
   },
   "outputs": [],
   "source": [
    "genCountLocal/949*100"
   ]
  },
  {
   "cell_type": "code",
   "execution_count": null,
   "id": "ec28f72b",
   "metadata": {},
   "outputs": [],
   "source": [
    "verifiedCountLocal"
   ]
  },
  {
   "cell_type": "code",
   "execution_count": null,
   "id": "3d1a7f6b",
   "metadata": {},
   "outputs": [],
   "source": [
    "verifiedCountLocal"
   ]
  },
  {
   "cell_type": "code",
   "execution_count": null,
   "id": "30b51b08",
   "metadata": {},
   "outputs": [],
   "source": []
  },
  {
   "cell_type": "code",
   "execution_count": null,
   "id": "7d05424e",
   "metadata": {},
   "outputs": [],
   "source": [
    "countFromUIJan = 0\n",
    "appsWithUI = []\n",
    "for i in range(0,len(janLocalAddresses)):\n",
    "    x = janLocalAddresses[i]\n",
    "    if 'fromui.local' in x:\n",
    "        countFromUIJan = countFromUIJan + 1\n",
    "        appsWithUI.append(janDataset[i])"
   ]
  },
  {
   "cell_type": "code",
   "execution_count": null,
   "id": "acb4df03",
   "metadata": {},
   "outputs": [],
   "source": []
  },
  {
   "cell_type": "code",
   "execution_count": null,
   "id": "83cdafb4",
   "metadata": {},
   "outputs": [],
   "source": [
    "appsWithUpnp = []\n",
    "for i in range(0,len(janDataset)):\n",
    "    x = isAppUsingUPNP(janDataset[i])\n",
    "    if x:\n",
    "        appsWithUpnp.append(janDataset[i])"
   ]
  },
  {
   "cell_type": "code",
   "execution_count": null,
   "id": "5a5b3b51",
   "metadata": {},
   "outputs": [],
   "source": [
    "len(appsWithUpnp)"
   ]
  },
  {
   "cell_type": "code",
   "execution_count": null,
   "id": "ccf7ee6c",
   "metadata": {},
   "outputs": [],
   "source": [
    "import random\n",
    "randomUPNP = set()\n",
    "while len(randomUPNP) < 15:\n",
    "    randomUPNP.append(appsWithUpnp[random.randint(0,len(appsWithUpnp)-1)].amqp[\"pname\"])"
   ]
  },
  {
   "cell_type": "code",
   "execution_count": null,
   "id": "9631f65f",
   "metadata": {},
   "outputs": [],
   "source": [
    "randomUPNP"
   ]
  },
  {
   "cell_type": "code",
   "execution_count": null,
   "id": "82cea714",
   "metadata": {},
   "outputs": [],
   "source": []
  },
  {
   "cell_type": "code",
   "execution_count": null,
   "id": "7c4ff205",
   "metadata": {},
   "outputs": [],
   "source": []
  },
  {
   "cell_type": "code",
   "execution_count": null,
   "id": "69a223f0",
   "metadata": {},
   "outputs": [],
   "source": []
  },
  {
   "cell_type": "code",
   "execution_count": null,
   "id": "2d9fddba",
   "metadata": {},
   "outputs": [],
   "source": []
  },
  {
   "cell_type": "code",
   "execution_count": null,
   "id": "671a6b98",
   "metadata": {},
   "outputs": [],
   "source": [
    "import random"
   ]
  },
  {
   "cell_type": "code",
   "execution_count": null,
   "id": "1a07f5b7",
   "metadata": {},
   "outputs": [],
   "source": [
    "appsWithMulticast = []\n",
    "for i in range(0,len(verified_dataset)):\n",
    "    x = doesAppContainMulticast(verified_dataset[i])\n",
    "    if x:\n",
    "        appsWithMulticast.append(verified_dataset[i])"
   ]
  },
  {
   "cell_type": "code",
   "execution_count": null,
   "id": "a48a335e",
   "metadata": {},
   "outputs": [],
   "source": [
    "randomMulticast = set()\n",
    "while len(randomMulticast) < 10:\n",
    "    randomMulticast.add(appsWithMulticast[random.randint(0,len(appsWithMulticast)-1)].amqp[\"pname\"])"
   ]
  },
  {
   "cell_type": "code",
   "execution_count": null,
   "id": "90c110bc",
   "metadata": {},
   "outputs": [],
   "source": [
    "def doesAppHaveBL(app):\n",
    "    for permission in app:\n",
    "        if permission in blPermission:\n",
    "            return True\n",
    "    return False"
   ]
  },
  {
   "cell_type": "code",
   "execution_count": null,
   "id": "4318070c",
   "metadata": {},
   "outputs": [],
   "source": [
    "appsWithBL = []\n",
    "for i in range(0,len(verDatasetPermission)):\n",
    "    x = doesAppHaveBL(verDatasetPermission[i])\n",
    "    if x:\n",
    "        appsWithBL.append(ver_permission_names[i])"
   ]
  },
  {
   "cell_type": "code",
   "execution_count": null,
   "id": "70673c75",
   "metadata": {},
   "outputs": [],
   "source": [
    "randomBL = set()\n",
    "while len(randomBL) < 10:\n",
    "    randomBL.add(appsWithBL[random.randint(0,len(appsWithBL)-1)])"
   ]
  },
  {
   "cell_type": "code",
   "execution_count": null,
   "id": "22621edc",
   "metadata": {},
   "outputs": [],
   "source": [
    "appsWithUI = []\n",
    "apps_with_local_addresses = []\n",
    "for i in range(0,len(verifiedLocalAddresses)):\n",
    "    x = verifiedLocalAddresses[i]\n",
    "    if 'fromui.local' in x:\n",
    "        appsWithUI.append(verified_dataset[i])\n",
    "\n",
    "    else:\n",
    "        apps_with_local_addresses.append(verified_dataset[i])\n",
    "\n"
   ]
  },
  {
   "cell_type": "code",
   "execution_count": null,
   "id": "10127a3c",
   "metadata": {},
   "outputs": [],
   "source": [
    "randomUI = set()\n",
    "while len(randomUI) < 10:\n",
    "    randomUI.add(appsWithUI[random.randint(0,len(appsWithUI)-1)].amqp[\"pname\"])"
   ]
  },
  {
   "cell_type": "code",
   "execution_count": null,
   "id": "0e543760",
   "metadata": {},
   "outputs": [],
   "source": [
    "randomLocal = set()\n",
    "while len(randomLocal) < 10:\n",
    "    randomLocal.add(apps_with_local_addresses[random.randint(0,len(apps_with_local_addresses)-1)].amqp[\"pname\"])"
   ]
  },
  {
   "cell_type": "code",
   "execution_count": null,
   "id": "045825f3",
   "metadata": {},
   "outputs": [],
   "source": [
    "for app in randomMulticast:\n",
    "    print(app)"
   ]
  },
  {
   "cell_type": "code",
   "execution_count": null,
   "id": "2ae1b3d2",
   "metadata": {},
   "outputs": [],
   "source": [
    "for app in randomBL:\n",
    "    print(app)"
   ]
  },
  {
   "cell_type": "code",
   "execution_count": null,
   "id": "645e6463",
   "metadata": {},
   "outputs": [],
   "source": [
    "for app in randomUI:\n",
    "    print(app)"
   ]
  },
  {
   "cell_type": "code",
   "execution_count": null,
   "id": "2cd69475",
   "metadata": {},
   "outputs": [],
   "source": [
    "for app in randomLocal:\n",
    "    print(app)"
   ]
  },
  {
   "cell_type": "code",
   "execution_count": null,
   "id": "2540e28c",
   "metadata": {},
   "outputs": [],
   "source": [
    "verifiedLocalAddresses"
   ]
  },
  {
   "cell_type": "code",
   "execution_count": null,
   "id": "7af57553",
   "metadata": {},
   "outputs": [],
   "source": []
  },
  {
   "cell_type": "code",
   "execution_count": null,
   "id": "74ce2efd",
   "metadata": {},
   "outputs": [],
   "source": []
  },
  {
   "cell_type": "code",
   "execution_count": null,
   "id": "f1fd2b88",
   "metadata": {},
   "outputs": [],
   "source": []
  },
  {
   "cell_type": "code",
   "execution_count": null,
   "id": "1c477585",
   "metadata": {},
   "outputs": [],
   "source": []
  },
  {
   "cell_type": "code",
   "execution_count": null,
   "id": "f2da404b",
   "metadata": {},
   "outputs": [],
   "source": []
  },
  {
   "cell_type": "code",
   "execution_count": null,
   "id": "c90247f5",
   "metadata": {},
   "outputs": [],
   "source": []
  },
  {
   "cell_type": "code",
   "execution_count": null,
   "id": "7b1d5f9d",
   "metadata": {},
   "outputs": [],
   "source": []
  },
  {
   "cell_type": "code",
   "execution_count": null,
   "id": "aca37553",
   "metadata": {},
   "outputs": [],
   "source": []
  },
  {
   "cell_type": "code",
   "execution_count": null,
   "id": "8881843b",
   "metadata": {},
   "outputs": [],
   "source": []
  },
  {
   "cell_type": "code",
   "execution_count": null,
   "id": "21931e25",
   "metadata": {},
   "outputs": [],
   "source": []
  },
  {
   "cell_type": "code",
   "execution_count": null,
   "id": "d16e60f5",
   "metadata": {},
   "outputs": [],
   "source": []
  },
  {
   "cell_type": "code",
   "execution_count": null,
   "id": "302090bc",
   "metadata": {},
   "outputs": [],
   "source": []
  },
  {
   "cell_type": "code",
   "execution_count": null,
   "id": "5173690c",
   "metadata": {},
   "outputs": [],
   "source": []
  },
  {
   "cell_type": "code",
   "execution_count": null,
   "id": "0b44fdaf",
   "metadata": {},
   "outputs": [],
   "source": []
  },
  {
   "cell_type": "code",
   "execution_count": null,
   "id": "1696ffec",
   "metadata": {},
   "outputs": [],
   "source": [
    "def get_category_count_broadcast_multicast(dataset_addresses, addresses, except_addresses=[]):\n",
    "    count = 0\n",
    "    for app in dataset_addresses:\n",
    "        found = False\n",
    "        for add in app:\n",
    "            for look_for in addresses:\n",
    "                if add.startswith(look_for):\n",
    "                    tmp = True\n",
    "                    for not_address in except_addresses:\n",
    "                        if add.startswith(not_address):\n",
    "                            tmp = False\n",
    "\n",
    "                    if tmp: #avoid case where it previously found was already true\n",
    "                        found = True\n",
    "\n",
    "\n",
    "        if found:\n",
    "            count += 1\n",
    "    return count"
   ]
  },
  {
   "cell_type": "code",
   "execution_count": null,
   "id": "0d3f968e",
   "metadata": {},
   "outputs": [],
   "source": [
    "#    count = 0\n",
    "#    for app in dataset_addresses:\n",
    "#        found = False\n",
    "#        for add in app:\n",
    "#            if add.startswith(address) and add not in except_addresses:\n",
    "#                found = True\n",
    "\n",
    "\n",
    "#        if found:\n",
    "#            count += 1\n",
    "#    return count\n",
    "\n",
    "\n",
    "\n",
    "def get_category_count(dataset_addresses, address, except_addresses=[]):\n",
    "    if type(address) == type(\"\"):\n",
    "        address = [address]\n",
    "\n",
    "    return get_category_count_broadcast_multicast(dataset_addresses, address, except_addresses)\n",
    "\n",
    "\n",
    "\n",
    "def get_row(dataset1, dataset2, address, except_address = []):\n",
    "    return [get_category_count(dataset1, address, except_address), get_category_count(dataset2, address, except_address)]\n"
   ]
  },
  {
   "cell_type": "code",
   "execution_count": null,
   "id": "bd5c595b",
   "metadata": {},
   "outputs": [],
   "source": [
    "rows = []\n",
    "rows.append(get_row(verifiedLocalAddresses, genLocalAddresses, \"10.\", []) )\n",
    "\n",
    "rows.append(get_row(verifiedLocalAddresses, genLocalAddresses, \"10.0.0.172\", []) )\n",
    "rows.append(get_row(verifiedLocalAddresses, genLocalAddresses, \"10.0.0.200\", []) )\n",
    "rows.append(get_row(verifiedLocalAddresses, genLocalAddresses, \"10.0.2.2\", []) )\n",
    "rows.append(get_row(verifiedLocalAddresses, genLocalAddresses, \"10.\", [\"10.0.0.172\", \"10.0.0.200\", \"10.10.2.2\"]))\n",
    "\n",
    "\n",
    "\n",
    "rows.append(get_row(verifiedLocalAddresses, genLocalAddresses, \"172.\", []) )\n",
    "rows.append(get_row(verifiedLocalAddresses, genLocalAddresses, \"172.17.0.1\", []) )\n",
    "rows.append(get_row(verifiedLocalAddresses, genLocalAddresses, \"172.\", [\"172.17.0.1\"]) )\n",
    "\n",
    "\n",
    "\n",
    "\n",
    "rows.append(get_row(verifiedLocalAddresses, genLocalAddresses, \"192.168.\", []) )\n",
    "\n",
    "rows.append(get_row(verifiedLocalAddresses, genLocalAddresses, \"192.168.0.1\", []) )\n",
    "#rows.append(get_row(verifiedLocalAddresses, genLocalAddresses, \"192.168.0.\", [\"192.168.0.1\"]))\n",
    "rows.append(get_row(verifiedLocalAddresses, genLocalAddresses, \"192.168.1.1\", []) )\n",
    "rows.append(get_row(verifiedLocalAddresses, genLocalAddresses, \"192.168.1.3\", []) )\n",
    "#rows.append(get_row(verifiedLocalAddresses, genLocalAddresses, \"192.168.1.\", [\"192.168.1.1\", \"192.168.1.3\"]))\n",
    "rows.append(get_row(verifiedLocalAddresses, genLocalAddresses, \"192.168.4.1\", []) )\n",
    "\n",
    "# fixme add other\n",
    "rows.append(get_row(verifiedLocalAddresses, genLocalAddresses, \"192.168.\", [\"192.168.0.1\", \"192.168.1.1\", \"192.168.4.1,\" ]) )\n",
    "\n",
    "\n",
    "rows.append(get_row(verifiedLocalAddresses, genLocalAddresses, \"fe80:\", []) )\n",
    "\n",
    "# broadcast multicast issue\n",
    "rows.append(get_row(verifiedLocalAddresses, genLocalAddresses, [\"2\", \"f\"], [\"fe80:\", \"fromui.local\"]) )\n",
    "\n",
    "rows.append(get_row(verifiedLocalAddresses, genLocalAddresses, \"224.0.0.251\", []) )\n",
    "rows.append(get_row(verifiedLocalAddresses, genLocalAddresses, \"239.255.255.250\", []) )\n",
    "rows.append(get_row(verifiedLocalAddresses, genLocalAddresses, \"255.255.255.255\", []) )\n",
    "rows.append(get_row(verifiedLocalAddresses, genLocalAddresses, \"2\", [\"224.0.0.251\", \"239.255.255.250\",\"255.255.255.255\" ]) )\n",
    "rows.append(get_row(verifiedLocalAddresses, genLocalAddresses, \"f\", [\"fe80:\", \"fromui.local\"]) )\n",
    "\n",
    "rows.append(get_row(verifiedLocalAddresses, genLocalAddresses, \"fromui.local\", []) )\n",
    "\n",
    "\n",
    "rows.append([hasBl(verDatasetPermission), hasBl(genDatasetPermission)])\n"
   ]
  },
  {
   "cell_type": "code",
   "execution_count": null,
   "id": "2415fb29",
   "metadata": {},
   "outputs": [],
   "source": [
    "rows"
   ]
  },
  {
   "cell_type": "code",
   "execution_count": null,
   "id": "18856b95",
   "metadata": {},
   "outputs": [],
   "source": [
    "rows"
   ]
  },
  {
   "cell_type": "code",
   "execution_count": null,
   "id": "f3898a3e",
   "metadata": {},
   "outputs": [],
   "source": [
    "import pandas as pd\n",
    "\n",
    "\n",
    "df_iot_gp = pd.DataFrame(rows, index= [\"10.*.*.*\", \"10.0.0.172\", \"10.0.0.200\", \"10.10.2.2\", \"other\", \"172.16-31.*\",\"172.17.0.1\", \"other\" , \"192.168.*.*\", \"192.168.0.1\", \"192.168.1.1\", \"192.168.1.3\", \"192.168.4.1\", \"other\", \"fe80\", \"Broad-\\Multicast\", \"224.0.0.251\", \"239.255.255.250\", \"255.255.255.255\", \"IPv4 other\", \"IPv6 other\", \"fromUI.local\", \"Bluetooth\"  ], columns = [\"IoT-VER\", \"GP-2022\"])"
   ]
  },
  {
   "cell_type": "code",
   "execution_count": null,
   "id": "0e41ae6c",
   "metadata": {},
   "outputs": [],
   "source": [
    "def format_table_iot_gp(table):\n",
    "    gp_2022 = []\n",
    "    iot_ver = []\n",
    "    address = []\n",
    "    for row in table.iterrows():\n",
    "        address.append(row[0])\n",
    "        iot_ver.append(\"{} ({:.2f}%)\".format(row[1]['IoT-VER'],row[1]['IoT-VER']/9889*100))\n",
    "        gp_2022.append(\"{} ({:.2f}%)\".format(row[1]['GP-2022'],row[1]['GP-2022']/947*100))\n",
    "\n",
    "    return pd.DataFrame({\"Address\": address, \"IoT-VER\": iot_ver , \"GP-2022\": gp_2022})\n"
   ]
  },
  {
   "cell_type": "code",
   "execution_count": null,
   "id": "09235fe5",
   "metadata": {},
   "outputs": [],
   "source": [
    "formatted = format_table_iot_gp(df_iot_gp)"
   ]
  },
  {
   "cell_type": "code",
   "execution_count": null,
   "id": "7c25745a",
   "metadata": {},
   "outputs": [],
   "source": [
    "formatted"
   ]
  },
  {
   "cell_type": "code",
   "execution_count": null,
   "id": "9b6329a2",
   "metadata": {},
   "outputs": [],
   "source": [
    "print(formatted.to_latex(index=False))"
   ]
  },
  {
   "cell_type": "code",
   "execution_count": null,
   "id": "5b209051",
   "metadata": {},
   "outputs": [],
   "source": [
    "verCount = getLocalAddressCount(verifiedLocalAddresses)\n"
   ]
  },
  {
   "cell_type": "code",
   "execution_count": null,
   "id": "9298a930",
   "metadata": {},
   "outputs": [],
   "source": [
    "verCount"
   ]
  },
  {
   "cell_type": "code",
   "execution_count": null,
   "id": "c1d3728e",
   "metadata": {},
   "outputs": [],
   "source": [
    "dict(sorted(verCount.items(), key=lambda item: item[1], reverse=True))\n"
   ]
  },
  {
   "cell_type": "code",
   "execution_count": null,
   "id": "132d34b9",
   "metadata": {},
   "outputs": [],
   "source": []
  }
 ],
 "metadata": {
  "kernelspec": {
   "display_name": "Python 3 (ipykernel)",
   "language": "python",
   "name": "python3"
  },
  "language_info": {
   "codemirror_mode": {
    "name": "ipython",
    "version": 3
   },
   "file_extension": ".py",
   "mimetype": "text/x-python",
   "name": "python",
   "nbconvert_exporter": "python",
   "pygments_lexer": "ipython3",
   "version": "3.10.10"
  }
 },
 "nbformat": 4,
 "nbformat_minor": 5
}
