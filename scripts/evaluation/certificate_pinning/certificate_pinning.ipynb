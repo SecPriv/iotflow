{
 "cells": [
  {
   "cell_type": "code",
   "execution_count": null,
   "id": "9ef5bb80",
   "metadata": {},
   "outputs": [],
   "source": [
    "import csv\n",
    "import sys\n",
    "import json"
   ]
  },
  {
   "cell_type": "code",
   "execution_count": null,
   "id": "eba1b62a",
   "metadata": {},
   "outputs": [],
   "source": [
    "maxInt = sys.maxsize\n",
    "\n",
    "# workaround to load the csv file...https://stackoverflow.com/questions/15063936/csv-error-field-larger-than-field-limit-131072\n",
    "while True:\n",
    "    # decrease the maxInt value by factor 10\n",
    "    # as long as the OverflowError occurs.\n",
    "\n",
    "    try:\n",
    "        csv.field_size_limit(maxInt)\n",
    "        break\n",
    "    except OverflowError:\n",
    "        maxInt = int(maxInt/10)\n"
   ]
  },
  {
   "cell_type": "code",
   "execution_count": null,
   "id": "977c0b4b",
   "metadata": {},
   "outputs": [],
   "source": [
    "def load_nsc_csv(path, result = {}):\n",
    "    first = True\n",
    "    with open(path) as csvfile:\n",
    "        reader = csv.reader(csvfile, delimiter=',')\n",
    "        for row in reader:\n",
    "            if first or row[1] == \"\":\n",
    "                first = False\n",
    "                continue\n",
    "            analysis_object = result.get(row[1], {})\n",
    "            analysis_object[\"packageName\"] = row[1]\n",
    "            analysis_object[\"pinsNSC\"] = row[4]\n",
    "            analysis_object[\"pinPathsNSC\"] = row[5]\n",
    "            analysis_object[\"certsNSC\"] = row[6]\n",
    "            result[row[1]] = analysis_object\n",
    "\n",
    "    return result\n",
    "\n",
    "def load_string_csv(path, result = {}):\n",
    "    first = True\n",
    "\n",
    "    with open(path) as csvfile:\n",
    "        reader = csv.reader(csvfile, delimiter=',')\n",
    "        for row in reader:\n",
    "            if first or row[0] == \"\":\n",
    "                first = False\n",
    "                continue\n",
    "            analysis_object = result.get(row[0], {})\n",
    "            analysis_object[\"packageName\"] = row[0]\n",
    "            analysis_object[\"pinsString\"] = row[3]\n",
    "            analysis_object[\"pinPathsString\"] = row[4]\n",
    "            analysis_object[\"certsString\"] = row[5]\n",
    "            result[row[0]] = analysis_object\n",
    "\n",
    "\n",
    "    return result"
   ]
  },
  {
   "cell_type": "code",
   "execution_count": null,
   "id": "b4429c79",
   "metadata": {},
   "outputs": [],
   "source": [
    "\n",
    "gp_2022 = load_nsc_csv(\"certpinning/nsc/nsc_results_gp_2022.csv\", {})\n",
    "\n",
    "\n",
    "neupane = load_nsc_csv(\"certpinning/nsc/nsc_results_neupane.csv\", {})\n",
    "iotspotter = load_nsc_csv(\"certpinning/nsc/nsc_results_iotspotter.csv\", {})\n",
    "iotprofiler = load_nsc_csv(\"certpinning/nsc/nsc_results_iotprofiler.csv\", {})\n"
   ]
  },
  {
   "cell_type": "code",
   "execution_count": null,
   "id": "ec27f8ac",
   "metadata": {},
   "outputs": [],
   "source": [
    "gp_2022 = load_string_csv(\"certpinning/string_results/results_gp_2022.csv\",gp_2022)\n",
    "\n",
    "neupane = load_string_csv(\"certpinning/string_results/results_neupane.csv\", neupane)\n",
    "iotspotter = load_string_csv(\"certpinning/string_results/results_iotspotter.csv\", iotspotter)\n",
    "iotprofiler = load_string_csv(\"certpinning/string_results/results_iotprofiler.csv\", iotprofiler)\n"
   ]
  },
  {
   "cell_type": "code",
   "execution_count": null,
   "id": "f7f2683e",
   "metadata": {},
   "outputs": [],
   "source": [
    "len(gp_2022)"
   ]
  },
  {
   "cell_type": "code",
   "execution_count": null,
   "id": "ad515fbf",
   "metadata": {},
   "outputs": [],
   "source": [
    "def get_mapping(file):\n",
    "    with open(file) as f:\n",
    "        return json.load(f)"
   ]
  },
  {
   "cell_type": "code",
   "execution_count": null,
   "id": "c2ad9b6e",
   "metadata": {},
   "outputs": [],
   "source": [
    "mapping_verified = get_mapping(\"verified_dataset/result.json\")"
   ]
  },
  {
   "cell_type": "code",
   "execution_count": null,
   "id": "9891d690",
   "metadata": {},
   "outputs": [],
   "source": [
    "def get_only_latest(dataset, name, mapping):\n",
    "    result = {}\n",
    "    for k in dataset.keys():\n",
    "        if k in mapping_verified:\n",
    "            if mapping_verified[k] == name:\n",
    "                result[k] = dataset[k]\n",
    "        else:\n",
    "            result[k] = dataset[k]\n",
    "\n",
    "    return result\n",
    "\n",
    "\n"
   ]
  },
  {
   "cell_type": "code",
   "execution_count": null,
   "id": "01731914",
   "metadata": {},
   "outputs": [],
   "source": [
    "iotspotter_removed = get_only_latest(iotspotter, \"iotspotter\",mapping_verified)\n"
   ]
  },
  {
   "cell_type": "code",
   "execution_count": null,
   "id": "0d412b0a",
   "metadata": {},
   "outputs": [],
   "source": [
    "iotprofiler_removed = get_only_latest(iotprofiler, \"iotprofiler\",mapping_verified)\n"
   ]
  },
  {
   "cell_type": "code",
   "execution_count": null,
   "id": "8728942f",
   "metadata": {},
   "outputs": [],
   "source": [
    "neupane_removed = get_only_latest(neupane, \"neupane\",mapping_verified)\n"
   ]
  },
  {
   "cell_type": "code",
   "execution_count": null,
   "id": "f9825e49",
   "metadata": {},
   "outputs": [],
   "source": [
    "all_verified = iotspotter_removed | iotprofiler_removed | neupane_removed"
   ]
  },
  {
   "cell_type": "code",
   "execution_count": null,
   "id": "3e5045e3",
   "metadata": {},
   "outputs": [],
   "source": [
    "def remove_iot_apps_from_gp(gp_dict):\n",
    "    manual = [\"com.tuya.smartlife\", \"com.garmin.android.apps.connectmobile\", \"com.bshg.homeconnect.android.release\", \"com.huawei.health\", \"com.philips.ka.oneka.app\", \"com.google.android.apps.chromecast.app\", \"com.amazon.kindle\", \"jp.co.canon.bsd.ad.pixmaprint\", \"com.huami.watch.hmwatchmanager\", \"com.google.android.wearable.app\", \"com.sonos.acr2\", \"com.veryfit2hr.second\", \"com.amazon.dee.app\", \"com.aldi_project\", \"com.soomapps.screenmirroring\", \"com.irobot.home\", \"com.lgeha.nuts\", \"com.google.android.apps.fitness\", \"com.tuya.smart\", \"com.tonies.app\", \"com.hp.printercontrol\", \"com.garmin.connectiq\", \"com.crrepa.band.dafit\", \"jp.co.canon.android.printservice.plugin\", \"com.amazon.storm.lightning.client.aosp\", \"ir.remote.smg.tv\", \"com.vorwerk.cookidoo\", \"com.xiaomi.smarthome\", \"screen.mirroring.screenmirroring\", \"com.playstation.remoteplay\", \"jbl.stc.com\", \"com.tplink.iot\", \"com.strava\", \"com.hdvideoprojector.screenmirroring.castvideototv\", \"com.universal.tv.remote.control.all.tv.controller\", \"com.OnSoft.android.BluetoothChat\", \"plus.home_connect.android\", \"com.govee.home\", \"com.tplink.tether\", \"com.hp.android.printservice\", \"com.casttotv.screenmirroring.smarttv.castvideo\", \"soulapps.screen.mirroring.smart.view.tv.cast\", \"com.lscsmartconnection.smart\", \"at.a1.android.iapp\", \"epson.print\", \"com.sony.songpal.mdr\", \"com.hdvideoplayer.screencasting.simulator\", \"com.runtastic.android\", \"com.scee.psxandroid\", \"com.microsoft.xboxone.smartglass\"]\n",
    "    applist = ['com.OnSoft.android.BluetoothChat', 'com.amazon.storm.lightning.client.aosp', 'com.bshg.homeconnect.android.release', 'com.garmin.android.apps.connectmobile', 'com.google.android.apps.chromecast.app', 'com.google.android.apps.googleassistant', 'com.google.android.wearable.app', 'com.hp.android.printservice', 'com.huawei.health', 'com.irobot.home', 'com.lgeha.nuts', 'com.soundcloud.android', 'com.tplink.tether', 'com.tuya.smart', 'com.tuya.smartlife', 'com.xiaomi.hm.health', 'com.xiaomi.smarthome', 'epson.print', 'ir.remote.smg.tv', 'jp.co.canon.android.printservice.plugin']\n",
    "    all_apps = set()\n",
    "    all_apps.update(manual)\n",
    "    all_apps.update(applist)\n",
    "    for app in all_apps:\n",
    "        if app in gp_dict:\n",
    "            gp_dict.pop(app)\n",
    "\n",
    "    return gp_dict\n",
    "\n",
    "\n"
   ]
  },
  {
   "cell_type": "code",
   "execution_count": null,
   "id": "42444aad",
   "metadata": {},
   "outputs": [],
   "source": [
    "gp_dict = remove_iot_apps_from_gp(gp_2022)"
   ]
  },
  {
   "cell_type": "code",
   "execution_count": null,
   "id": "edd6f869",
   "metadata": {},
   "outputs": [],
   "source": [
    "def has_pin(object):\n",
    "    return has_nsc_pin(object) or has_string_pin(object)\n",
    "\n",
    "def has_nsc_pin(object):\n",
    "    return object.get(\"pinsNSC\", \"[]\") != \"[]\"\n",
    "\n",
    "def has_string_pin(object):\n",
    "    return  object.get(\"pinsString\", \"[]\") != \"[]\"\n",
    "\n",
    "\n",
    "\n",
    "def has_cert(object):\n",
    "    return has_string_cert(object) or has_nsc_cert(object)\n",
    "\n",
    "\n",
    "def has_string_cert(object):\n",
    "    return object.get(\"certsString\", \"[]\") != \"[]\"\n",
    "\n",
    "def has_nsc_cert(object):\n",
    "    return object.get(\"certsNSC\", \"[]\") != \"[]\"\n"
   ]
  },
  {
   "cell_type": "code",
   "execution_count": null,
   "id": "63bd454f",
   "metadata": {},
   "outputs": [],
   "source": [
    "def get_dataset_info(dataset):\n",
    "    pins = 0\n",
    "    cert = 0\n",
    "    both = 0\n",
    "    for k, app in dataset.items():\n",
    "        if has_pin(app):\n",
    "            pins = pins + 1\n",
    "\n",
    "        if has_cert(app):\n",
    "            cert = cert + 1\n",
    "\n",
    "        if has_pin(app) and has_cert(app):\n",
    "            both = both + 1\n",
    "    return pins, cert, both\n",
    "\n",
    "def get_dataset_info_nsc(dataset):\n",
    "    pins = 0\n",
    "    cert = 0\n",
    "    both = 0\n",
    "    for k, app in dataset.items():\n",
    "        if has_nsc_pin(app):\n",
    "            pins = pins + 1\n",
    "\n",
    "        if has_nsc_cert(app):\n",
    "            cert = cert + 1\n",
    "\n",
    "        if has_nsc_pin(app) and has_nsc_cert(app):\n",
    "            both = both + 1\n",
    "    return [pins, cert, both]\n",
    "\n",
    "\n",
    "def get_dataset_info_string(dataset):\n",
    "    pins = 0\n",
    "    cert = 0\n",
    "    both = 0\n",
    "    for k, app in dataset.items():\n",
    "        if has_string_pin(app):\n",
    "            pins = pins + 1\n",
    "\n",
    "        if has_string_cert(app):\n",
    "            cert = cert + 1\n",
    "\n",
    "        if has_string_pin(app) and has_string_cert(app):\n",
    "            both = both + 1\n",
    "    return [pins, cert, both]\n"
   ]
  },
  {
   "cell_type": "code",
   "execution_count": null,
   "id": "80bb9158",
   "metadata": {},
   "outputs": [],
   "source": [
    "rows = []\n",
    "rows.append(get_dataset_info(all_verified))\n",
    "rows.append(get_dataset_info(gp_2022))\n",
    "\n"
   ]
  },
  {
   "cell_type": "code",
   "execution_count": null,
   "id": "eed2a0fd",
   "metadata": {},
   "outputs": [],
   "source": [
    "rows.append(get_dataset_info_nsc(all_verified))\n",
    "rows.append(get_dataset_info_nsc(gp_2022))\n",
    "\n"
   ]
  },
  {
   "cell_type": "code",
   "execution_count": null,
   "id": "45b77a8a",
   "metadata": {},
   "outputs": [],
   "source": [
    "rows.append(get_dataset_info_string(all_verified))\n",
    "rows.append(get_dataset_info_string(gp_2022))\n"
   ]
  },
  {
   "cell_type": "code",
   "execution_count": null,
   "id": "660911d9",
   "metadata": {},
   "outputs": [],
   "source": [
    "index_names = [\"IoT-VER\", \"GP-2022\", \"IoT-VER-NSC\",\"GP-2022-NSC\", \"IoT-VER-String\",\"GP-2022-String\"]"
   ]
  },
  {
   "cell_type": "code",
   "execution_count": null,
   "id": "3158a86d",
   "metadata": {},
   "outputs": [],
   "source": [
    "import pandas as pd"
   ]
  },
  {
   "cell_type": "code",
   "execution_count": null,
   "id": "96229ab1",
   "metadata": {},
   "outputs": [],
   "source": [
    "df = pd.DataFrame(rows, columns=['Pins', 'Cert', 'Both'], index = index_names)"
   ]
  },
  {
   "cell_type": "code",
   "execution_count": null,
   "id": "9452e4d9",
   "metadata": {},
   "outputs": [],
   "source": [
    "df"
   ]
  },
  {
   "cell_type": "code",
   "execution_count": null,
   "id": "1afda368",
   "metadata": {},
   "outputs": [],
   "source": [
    "import json\n",
    "import re\n",
    "import OpenSSL\n",
    "import ssl\n",
    "import base64\n",
    "from cryptography import x509\n",
    "from cryptography.hazmat.backends import default_backend\n",
    "from cryptography.hazmat.primitives.serialization.pkcs7 import load_pem_pkcs7_certificates, load_der_pkcs7_certificates\n",
    "from cryptography.hazmat.primitives import serialization"
   ]
  },
  {
   "cell_type": "code",
   "execution_count": null,
   "id": "3f6ab3f0",
   "metadata": {},
   "outputs": [],
   "source": [
    "def extract_certificates(dataset):\n",
    "    result = []\n",
    "    for _, app in dataset.items():\n",
    "        appCerts = set()\n",
    "        if \"certsNSC\" in app:\n",
    "            appCerts = set(json.loads(app[\"certsNSC\"]))\n",
    "\n",
    "\n",
    "        certs = []\n",
    "        if \"certsString\" in app:\n",
    "            certs = (json.loads(app[\"certsString\"]))\n",
    "\n",
    "        for k in certs:\n",
    "            appCerts.add(k)\n",
    "        result.append(appCerts)\n",
    "    return result\n",
    "\n",
    "\n",
    "\n",
    "def extract_certificates_app(app):\n",
    "    appCerts = set()\n",
    "    if \"certsNSC\" in app:\n",
    "        appCerts = set(json.loads(app[\"certsNSC\"]))\n",
    "\n",
    "\n",
    "    certs = []\n",
    "    if \"certsString\" in app:\n",
    "        certs = (json.loads(app[\"certsString\"]))\n",
    "\n",
    "    for k in certs:\n",
    "        appCerts.add(k)\n",
    "    return appCerts\n"
   ]
  },
  {
   "cell_type": "code",
   "execution_count": null,
   "id": "e75518e3",
   "metadata": {},
   "outputs": [],
   "source": [
    "certs_all_verified = extract_certificates(all_verified)\n"
   ]
  },
  {
   "cell_type": "code",
   "execution_count": null,
   "id": "b165717e",
   "metadata": {},
   "outputs": [],
   "source": [
    "certs_neupane = extract_certificates(neupane_removed)\n",
    "certs_iotspotter = extract_certificates(iotspotter_removed)\n",
    "certs_iotprofiler = extract_certificates(iotprofiler_removed)\n"
   ]
  },
  {
   "cell_type": "code",
   "execution_count": null,
   "id": "e0375311",
   "metadata": {},
   "outputs": [],
   "source": [
    "\n",
    "certs_gp_2022 = extract_certificates(gp_2022)"
   ]
  },
  {
   "cell_type": "code",
   "execution_count": null,
   "id": "a8d59421",
   "metadata": {},
   "outputs": [],
   "source": [
    "def parse_certs(possible_certificates):\n",
    "    thisAppCerts = set()\n",
    "    uniqueCertsStatic = set()\n",
    "    successAllCerts = 0\n",
    "    for c in possible_certificates:\n",
    "            # Each entry itself might contain multiple certs if its PKCS7\n",
    "        thisItemCertificates = []\n",
    "\n",
    "        # We're dealing with a raw file (.crt, .pem, .der etc.)\n",
    "        if \"-----BEGIN\" not in c:\n",
    "            raw_file_bytes = base64.b64decode(c.encode())\n",
    "\n",
    "            try:\n",
    "                thisItemCertificates.append(x509.load_der_x509_certificate(raw_file_bytes, default_backend()))\n",
    "                successAllCerts += 1\n",
    "            except Exception as e:\n",
    "                try:\n",
    "                    thisItemCertificates = load_der_pkcs7_certificates(raw_file_bytes)\n",
    "                    successAllCerts += 1\n",
    "                except Exception as e:\n",
    "                    try:\n",
    "                        start = \"-----BEGIN CERTIFICATE-----\"\n",
    "                        end = \"-----END CERTIFICATE-----\"\n",
    "                        pem = start + \"\\n\" + raw_file_bytes.decode() + \"\\n\" + end\n",
    "                        thisItemCertificates.append(\n",
    "                            x509.load_pem_x509_certificate(pem.encode(), default_backend()))\n",
    "                        successAllCerts += 1\n",
    "                    except Exception as e:\n",
    "                        try:\n",
    "                            if raw_file_bytes.count(b\"KEY-----\") >= 1 or raw_file_bytes == b\"\":\n",
    "                                successAllCerts += 1\n",
    "                                continue\n",
    "\n",
    "                            if raw_file_bytes.count(b\"-----BEGIN CERTIFICATE-----\") >= 1:\n",
    "                                begins = [m.start() for m in re.finditer('-----BEGIN CERTIFICATE-----', raw_file_bytes.decode())]\n",
    "                                ends = [m.start() for m in re.finditer('-----END CERTIFICATE-----', raw_file_bytes.decode())]\n",
    "                                assert len(begins) == len(ends)\n",
    "                                for i in range(0, len(begins)):\n",
    "                                    # print(raw_file_bytes.decode()[begins[i]:ends[i]+len(\"-----END CERTIFICATE-----\")])\n",
    "                                    thisItemCertificates.append(\n",
    "                                        x509.load_pem_x509_certificate(raw_file_bytes.decode()[begins[i]:ends[i]+len(\"-----END CERTIFICATE-----\")].encode(), default_backend()))\n",
    "                                successAllCerts += 1\n",
    "                            else:\n",
    "                                # We tried our best to parse the certificate, if its still unparsed, can't do better\n",
    "                                assert False\n",
    "\n",
    "                        except Exception as e:\n",
    "                            print(e)\n",
    "                            continue\n",
    "                            # print(raw_file_bytes)\n",
    "                            # input()\n",
    "\n",
    "        # We're dealing with one BEGIN CERT/BEGIN PKCS7 string...\n",
    "        else:\n",
    "\n",
    "            assert c.count(\"-----BEGIN\") == 1\n",
    "\n",
    "            # Try loading PEM in the default way\n",
    "            try:\n",
    "                thisItemCertificates.append(x509.load_pem_x509_certificate(c.encode(), default_backend()))\n",
    "                successAllCerts += 1\n",
    "            except Exception as e:\n",
    "                # Try fixing literal new lines\n",
    "                try:\n",
    "                    thisItemCertificates.append(x509.load_pem_x509_certificate(c.replace(\"\\\\n\", \"\\n\").replace(\"\\\\r\", \"\\r\").encode(), default_backend()))\n",
    "                    successAllCerts += 1\n",
    "                except Exception as e:\n",
    "                    # Try fixing new lines at front and end\n",
    "                    try:\n",
    "                        thisItemCertificates.append(x509.load_pem_x509_certificate(\n",
    "                            c.replace(\"-----BEGIN CERTIFICATE-----\", \"-----BEGIN CERTIFICATE-----\\n\").replace(\n",
    "                            \"-----END CERTIFICATE-----\", \"\\n-----END CERTIFICATE-----\").encode(), default_backend()))\n",
    "                        successAllCerts += 1\n",
    "                    except Exception as e:\n",
    "                        # Try loading PKCS7 cert\n",
    "                        try:\n",
    "                            thisItemCertificates = load_pem_pkcs7_certificates(c.encode())\n",
    "                            successAllCerts += 1\n",
    "                        except Exception as e:\n",
    "                            print(e)\n",
    "                            continue\n",
    "\n",
    "        for c_entry in thisItemCertificates:\n",
    "            uniqueCertsStatic.add(c_entry.public_bytes(\n",
    "                serialization.Encoding.PEM).decode())\n",
    "            #print(uniqueCertsStatic)\n",
    "            try:\n",
    "                thisAppCerts.add(str(c_entry.subject))\n",
    "                certificateSubjectToCertificate[\"static\"][str(c_entry.subject)] = c_entry\n",
    "            except:\n",
    "                print(\"error parsing a certificate entry in static data...\")\n",
    "    return uniqueCertsStatic\n",
    "\n",
    "\n"
   ]
  },
  {
   "cell_type": "code",
   "execution_count": null,
   "id": "be174eb8",
   "metadata": {},
   "outputs": [],
   "source": [
    "_PEM_RE = re.compile(b'-----BEGIN CERTIFICATE-----\\r?.+?\\r?-----END CERTIFICATE-----\\r?\\n?', re.DOTALL)\n",
    "\n",
    "\n",
    "def parse_chain(file):\n",
    "    with open(file, 'rb') as file_reader:\n",
    "        chain = file_reader.read()\n",
    "        # returns a list of certificates\n",
    "        return [c.group() for c in _PEM_RE.finditer(chain)]\n",
    "\n",
    "    return []\n",
    "\n",
    "store = OpenSSL.crypto.X509Store()\n",
    "file_path = ''\n",
    "#OpenSSL.crypto.load_certificate(OpenSSL.crypto.FILETYPE_PEM, file_path)\n",
    "for cert in parse_chain(file_path):\n",
    "    store.add_cert(OpenSSL.crypto.load_certificate(OpenSSL.crypto.FILETYPE_PEM, cert))\n"
   ]
  },
  {
   "cell_type": "code",
   "execution_count": null,
   "id": "7686b510",
   "metadata": {},
   "outputs": [],
   "source": [
    "def is_expired(cert):\n",
    "    x509 = OpenSSL.crypto.load_certificate(OpenSSL.crypto.FILETYPE_PEM, cert)\n",
    "\n",
    "    return  x509.get_notAfter()\n",
    "\n",
    "def get_year_month_date(byteDate):\n",
    "    return byteDate[0:4], byteDate[4:6], byteDate[6:8]\n",
    "\n",
    "\n",
    "\n",
    "\n",
    "def is_self_signed(cert):\n",
    "    client_cert = OpenSSL.crypto.load_certificate(OpenSSL.crypto.FILETYPE_PEM, cert)\n",
    "\n",
    "    ctx = OpenSSL.crypto.X509StoreContext(store, client_cert)\n",
    "    try:\n",
    "        ctx.verify_certificate()\n",
    "        return False\n",
    "    except:\n",
    "        print(cert)\n",
    "        return True"
   ]
  },
  {
   "cell_type": "code",
   "execution_count": null,
   "id": "6a19c665",
   "metadata": {},
   "outputs": [],
   "source": []
  },
  {
   "cell_type": "code",
   "execution_count": null,
   "id": "dcd0617c",
   "metadata": {},
   "outputs": [],
   "source": [
    "def parse_dataset(dataset):\n",
    "    app_parsed_certs = []\n",
    "    for certs in dataset:\n",
    "        try:\n",
    "            app_parsed_certs.append(parse_certs(certs))\n",
    "        except:\n",
    "            continue\n",
    "\n",
    "    return app_parsed_certs\n",
    "\n",
    "\n",
    "\n",
    "\n",
    "app_parsed_certs_neupane = parse_dataset(certs_neupane)\n",
    "app_parsed_certs_iotspotter = parse_dataset(certs_iotspotter)\n",
    "app_parsed_certs_iotprofiler = parse_dataset(certs_iotprofiler)\n",
    "\n",
    "app_parsed_certs_all_verified = parse_dataset(certs_all_verified)\n",
    "\n",
    "app_parsed_certs_gp_2022 = parse_dataset(certs_gp_2022)\n",
    "\n"
   ]
  },
  {
   "cell_type": "code",
   "execution_count": null,
   "id": "92c9e33b",
   "metadata": {},
   "outputs": [],
   "source": [
    "def has_expired_certs(parsed_dataset, year, month):\n",
    "    apps_with_expired =0\n",
    "    expired_certs = 0\n",
    "    total_certs = 0\n",
    "\n",
    "    for app in parsed_dataset:\n",
    "        has_expired = False\n",
    "        for c in app:\n",
    "            total_certs = total_certs + 1\n",
    "            y,m,d = get_year_month_date(is_expired(c))\n",
    "            if y < year:\n",
    "                has_expired = True\n",
    "                expired_certs = expired_certs + 1\n",
    "            elif y ==year and m < month:\n",
    "                has_expired = True\n",
    "                expired_certs = expired_certs + 1\n",
    "\n",
    "        if has_expired:\n",
    "            apps_with_expired = apps_with_expired + 1\n",
    "\n",
    "    return [apps_with_expired, expired_certs, total_certs]"
   ]
  },
  {
   "cell_type": "code",
   "execution_count": null,
   "id": "0702e190",
   "metadata": {},
   "outputs": [],
   "source": [
    "def parse_iotspotter_file(path):\n",
    "    first = True\n",
    "    result = {}\n",
    "    with open(path) as csvfile:\n",
    "        reader = csv.reader(csvfile, delimiter=',')\n",
    "        for row in reader:\n",
    "            if first or row[0] == \"\":\n",
    "                first = False\n",
    "                continue\n",
    "            result[row[0]] = row[1]\n",
    "    return result\n",
    "\n",
    "def parse_androzoo_file(path):\n",
    "    first = True\n",
    "    result = {}\n",
    "    with open(path) as csvfile:\n",
    "        reader = csv.reader(csvfile, delimiter=',')\n",
    "        for row in reader:\n",
    "            if first or row[0] == \"\":\n",
    "                first = False\n",
    "                continue\n",
    "            result[row[0]] = row[10]\n",
    "    return result\n",
    "\n",
    "iotspotter_hashes = parse_iotspotter_file(\"shared_sha256_androzoo.csv\")\n",
    "androzoo_map = parse_androzoo_file(\"./latest_with-added-date.csv\")\n",
    "\n",
    "\n",
    "\n"
   ]
  },
  {
   "cell_type": "code",
   "execution_count": null,
   "id": "504ee591",
   "metadata": {},
   "outputs": [],
   "source": [
    "def get_download_date_androzoo(id):\n",
    "    hash_app = iotspotter_hashes.get(id)\n",
    "    if hash_app is None:\n",
    "        print(f\"no hash for {id}\")\n",
    "        return \"2021\", \"1\", \"1\"\n",
    "    date = androzoo_map.get(hash_app)\n",
    "    if date is None:\n",
    "        print(f\"no date for {id}\")\n",
    "        return \"2021\", \"1\", \"1\"\n",
    "    #print(date)\n",
    "    splitted = date.split(\" \")\n",
    "    splitted = splitted[0].split(\"-\")\n",
    "    return splitted[0], splitted[1], splitted[2]"
   ]
  },
  {
   "cell_type": "code",
   "execution_count": null,
   "id": "1e9ef995",
   "metadata": {},
   "outputs": [],
   "source": [
    "def has_expired_certs_iotspotter(dataset):\n",
    "    apps_with_expired =0\n",
    "    expired_certs = 0\n",
    "    total_certs = 0\n",
    "\n",
    "    for appid, data in dataset.items():\n",
    "        has_expired = False\n",
    "        year, month, day =  get_download_date_androzoo(appid)\n",
    "\n",
    "        certs = extract_certificates_app(data)\n",
    "        try:\n",
    "            certs = parse_certs(certs)\n",
    "        except:\n",
    "            continue\n",
    "        for c in certs:\n",
    "            total_certs = total_certs + 1\n",
    "            y,m,d = get_year_month_date(is_expired(c))\n",
    "            if int(y) < int(year):\n",
    "                has_expired = True\n",
    "                expired_certs = expired_certs + 1\n",
    "            elif int(y) ==int(year) and int(m) < int(month):\n",
    "                has_expired = True\n",
    "                expired_certs = expired_certs + 1\n",
    "            elif int(y) ==int(year) and int(m) == int(month) and int(d) < int(day):\n",
    "                has_expired = True\n",
    "                expired_certs = expired_certs + 1\n",
    "\n",
    "        if has_expired:\n",
    "            apps_with_expired = apps_with_expired + 1\n",
    "\n",
    "    return [apps_with_expired, expired_certs, total_certs]"
   ]
  },
  {
   "cell_type": "code",
   "execution_count": null,
   "id": "35d575df",
   "metadata": {},
   "outputs": [],
   "source": [
    "def has_self_signed_certs(parsed_dataset):\n",
    "    apps_with_self_signed =0\n",
    "    self_signed = 0\n",
    "    total_certs = 0\n",
    "\n",
    "    for app in parsed_dataset:\n",
    "        has_self_signed = False\n",
    "        for c in app:\n",
    "            total_certs = total_certs + 1\n",
    "            if is_self_signed(c):\n",
    "                has_self_signed = True\n",
    "                self_signed = self_signed + 1\n",
    "        if has_self_signed:\n",
    "            apps_with_self_signed = apps_with_self_signed + 1\n",
    "\n",
    "    return [apps_with_self_signed, self_signed, total_certs]"
   ]
  },
  {
   "cell_type": "code",
   "execution_count": null,
   "id": "803401d1",
   "metadata": {},
   "outputs": [],
   "source": [
    "def very_long_expiering_date(parsed_dataset, year, month):\n",
    "    apps_with_long_expired =0\n",
    "    long_expiering = 0\n",
    "    total_certs = 0\n",
    "\n",
    "    for app in parsed_dataset:\n",
    "        has_very_long_expiering_date = False\n",
    "        for c in app:\n",
    "            total_certs = total_certs + 1\n",
    "            y,m,d = get_year_month_date(is_expired(c))\n",
    "            if y > year:\n",
    "                has_very_long_expiering_date = True\n",
    "                long_expiering = long_expiering + 1\n",
    "            elif y ==year and m > month:\n",
    "                has_very_long_expiering_date = True\n",
    "                long_expiering = long_expiering + 1\n",
    "\n",
    "        if has_very_long_expiering_date:\n",
    "            apps_with_long_expired = apps_with_long_expired + 1\n",
    "\n",
    "    return [apps_with_long_expired, long_expiering, total_certs]"
   ]
  },
  {
   "cell_type": "code",
   "execution_count": null,
   "id": "51238c64",
   "metadata": {},
   "outputs": [],
   "source": [
    "expired_iotspotter_exact = has_expired_certs_iotspotter(iotspotter_removed)\n",
    "print(\"finish\")"
   ]
  },
  {
   "cell_type": "code",
   "execution_count": null,
   "id": "b465babe",
   "metadata": {},
   "outputs": [],
   "source": [
    "expired_iotspotter_exact"
   ]
  },
  {
   "cell_type": "code",
   "execution_count": null,
   "id": "2fe59a3b",
   "metadata": {},
   "outputs": [],
   "source": [
    "expired_iotspotter"
   ]
  },
  {
   "cell_type": "code",
   "execution_count": null,
   "id": "27078815",
   "metadata": {},
   "outputs": [],
   "source": [
    "expired_neupane = has_expired_certs(app_parsed_certs_neupane, b'2021', b'1')\n",
    "expired_iotprofiler = has_expired_certs(app_parsed_certs_iotprofiler, b'2018', b'1')\n",
    "expired_iotspotter = has_expired_certs(app_parsed_certs_iotspotter, b'2021', b'1')"
   ]
  },
  {
   "cell_type": "code",
   "execution_count": null,
   "id": "b7a5398a",
   "metadata": {},
   "outputs": [],
   "source": [
    "expired_now_verified = has_expired_certs(app_parsed_certs_all_verified, b'2023', b'5')\n",
    "expired_now_gp_2022 = has_expired_certs(app_parsed_certs_gp_2022, b'2023', b'5')"
   ]
  },
  {
   "cell_type": "code",
   "execution_count": null,
   "id": "320d26f6",
   "metadata": {},
   "outputs": [],
   "source": [
    "expired_all_verified = has_expired_certs(app_parsed_certs_all_verified, b'2018', b'1')"
   ]
  },
  {
   "cell_type": "code",
   "execution_count": null,
   "id": "958abf8b",
   "metadata": {},
   "outputs": [],
   "source": [
    "expired_gp_2022 = has_expired_certs(app_parsed_certs_gp_2022, b'2022', b'2')"
   ]
  },
  {
   "cell_type": "code",
   "execution_count": null,
   "id": "a7027ae7",
   "metadata": {},
   "outputs": [],
   "source": []
  },
  {
   "cell_type": "code",
   "execution_count": null,
   "id": "fddc29cc",
   "metadata": {},
   "outputs": [],
   "source": []
  },
  {
   "cell_type": "code",
   "execution_count": null,
   "id": "6ef2f94e",
   "metadata": {},
   "outputs": [],
   "source": []
  },
  {
   "cell_type": "code",
   "execution_count": null,
   "id": "e78bf0d5",
   "metadata": {},
   "outputs": [],
   "source": [
    "very_long_expiering_date(app_parsed_certs_all_verified, b'2032', b'2')"
   ]
  },
  {
   "cell_type": "code",
   "execution_count": null,
   "id": "dc23c218",
   "metadata": {},
   "outputs": [],
   "source": [
    "very_long_expiering_date(app_parsed_certs_gp_2022, b'2032', b'2')"
   ]
  },
  {
   "cell_type": "code",
   "execution_count": null,
   "id": "128ae634",
   "metadata": {},
   "outputs": [],
   "source": []
  },
  {
   "cell_type": "code",
   "execution_count": null,
   "id": "0d11cf01",
   "metadata": {},
   "outputs": [],
   "source": []
  },
  {
   "cell_type": "code",
   "execution_count": null,
   "id": "19bd8f3a",
   "metadata": {},
   "outputs": [],
   "source": []
  },
  {
   "cell_type": "code",
   "execution_count": null,
   "id": "041ccd0d",
   "metadata": {},
   "outputs": [],
   "source": [
    "self_all_verified = has_self_signed_certs(app_parsed_certs_all_verified)"
   ]
  },
  {
   "cell_type": "code",
   "execution_count": null,
   "id": "28fab335",
   "metadata": {},
   "outputs": [],
   "source": [
    "self_gp_2022 = has_self_signed_certs(app_parsed_certs_gp_2022)"
   ]
  },
  {
   "cell_type": "code",
   "execution_count": null,
   "id": "67122efc",
   "metadata": {},
   "outputs": [],
   "source": []
  },
  {
   "cell_type": "code",
   "execution_count": null,
   "id": "176f56ce",
   "metadata": {},
   "outputs": [],
   "source": []
  },
  {
   "cell_type": "code",
   "execution_count": null,
   "id": "7154a679",
   "metadata": {},
   "outputs": [],
   "source": []
  },
  {
   "cell_type": "code",
   "execution_count": null,
   "id": "09fff97b",
   "metadata": {},
   "outputs": [],
   "source": [
    "index_names_second_table = [\"Apps Pinning\", \"Apps w/ Certs\", \"Both\", \"#Certs\", \"Apps w/ expired\", \"# expired\",  \"Apps w/ expired now\", \"# expired now\",\"self signed\", \"# self signed\"]"
   ]
  },
  {
   "cell_type": "code",
   "execution_count": null,
   "id": "f7e59b5c",
   "metadata": {},
   "outputs": [],
   "source": [
    "general_gp_2022 =  get_dataset_info(gp_2022)\n",
    "\n",
    "general_all_verified =  get_dataset_info(all_verified)"
   ]
  },
  {
   "cell_type": "code",
   "execution_count": null,
   "id": "ee9f2054",
   "metadata": {},
   "outputs": [],
   "source": [
    "rows_second_table = []"
   ]
  },
  {
   "cell_type": "code",
   "execution_count": null,
   "id": "787ae9f2",
   "metadata": {},
   "outputs": [],
   "source": [
    "rows_second_table.append([general_all_verified[0], general_gp_2022[0]])\n",
    "rows_second_table.append([general_all_verified[1], general_gp_2022[1]])\n",
    "rows_second_table.append([general_all_verified[2], general_gp_2022[2]])\n",
    "rows_second_table.append([expired_all_verified[2], expired_gp_2022[2]])\n",
    "rows_second_table.append([expired_neupane[0] + expired_iotspotter_exact[0] + expired_iotprofiler[0], expired_gp_2022[0]])\n",
    "rows_second_table.append([expired_neupane[1] + expired_iotspotter_exact[1] + expired_iotprofiler[1], expired_gp_2022[1]])\n",
    "\n",
    "rows_second_table.append([expired_now_verified[0], expired_now_gp_2022[0]])\n",
    "rows_second_table.append([expired_now_verified[1], expired_now_gp_2022[1]])\n",
    "\n",
    "\n",
    "\n",
    "rows_second_table.append([self_all_verified[0], self_gp_2022[0]])\n",
    "rows_second_table.append([self_all_verified[1], self_gp_2022[1]])\n"
   ]
  },
  {
   "cell_type": "code",
   "execution_count": null,
   "id": "7fa3f9f0",
   "metadata": {},
   "outputs": [],
   "source": []
  },
  {
   "cell_type": "code",
   "execution_count": null,
   "id": "586b668e",
   "metadata": {},
   "outputs": [],
   "source": []
  },
  {
   "cell_type": "code",
   "execution_count": null,
   "id": "a52a5435",
   "metadata": {},
   "outputs": [],
   "source": [
    "df = pd.DataFrame(rows_second_table, columns=['IoT-VER', \"GP-2022\"], index = index_names_second_table)"
   ]
  },
  {
   "cell_type": "code",
   "execution_count": null,
   "id": "71ca9e04",
   "metadata": {},
   "outputs": [],
   "source": [
    "df"
   ]
  },
  {
   "cell_type": "code",
   "execution_count": null,
   "id": "5669bc84",
   "metadata": {},
   "outputs": [],
   "source": [
    "def format_row(df, column_name, rows, total_number):\n",
    "    for i in rows:\n",
    "        value = df[column_name].values[i]\n",
    "        formatted_devision = f\"{value} ({round(value*100/total_number, 2 )}%)\"\n",
    "        df.loc[df.index[i],column_name]= formatted_devision\n",
    "        #print(formatted_devision)\n",
    "        #print(df)\n",
    "    return df"
   ]
  },
  {
   "cell_type": "code",
   "execution_count": null,
   "id": "3dd89ac9",
   "metadata": {},
   "outputs": [],
   "source": [
    "df = format_row(df, 'IoT-VER', [0,1,2,4,6], 9889)\n",
    "\n",
    "df = format_row(df, 'GP-2022', [0,1,2,4,6], 947)\n"
   ]
  },
  {
   "cell_type": "code",
   "execution_count": null,
   "id": "208c47d9",
   "metadata": {},
   "outputs": [],
   "source": [
    "df = format_row(df, 'IoT-VER', [5,7], df.loc[df.index[3],'IoT-VER'])\n",
    "\n",
    "\n",
    "df = format_row(df, 'GP-2022', [5,7], df.loc[df.index[3],'GP-2022'])\n"
   ]
  },
  {
   "cell_type": "code",
   "execution_count": null,
   "id": "1968c8fb",
   "metadata": {},
   "outputs": [],
   "source": [
    "df.loc[df.index[3],'GP-2022']"
   ]
  },
  {
   "cell_type": "code",
   "execution_count": null,
   "id": "120cbe25",
   "metadata": {},
   "outputs": [],
   "source": [
    "df"
   ]
  },
  {
   "cell_type": "code",
   "execution_count": null,
   "id": "e936f936",
   "metadata": {},
   "outputs": [],
   "source": [
    "import statistics"
   ]
  },
  {
   "cell_type": "code",
   "execution_count": null,
   "id": "080416a5",
   "metadata": {},
   "outputs": [],
   "source": [
    "def getAverageAndStd(dataset):\n",
    "    result = []\n",
    "    for app in dataset:\n",
    "        result.append(len(app))\n",
    "\n",
    "    return f\"{round(statistics.mean(result),2)} ({round(statistics.stdev(result), 2)})\""
   ]
  },
  {
   "cell_type": "code",
   "execution_count": null,
   "id": "2f1c8d94",
   "metadata": {},
   "outputs": [],
   "source": [
    "new_row = [[getAverageAndStd(app_parsed_certs_all_verified), getAverageAndStd(app_parsed_certs_gp_2022)]]"
   ]
  },
  {
   "cell_type": "code",
   "execution_count": null,
   "id": "887ec086",
   "metadata": {},
   "outputs": [],
   "source": [
    "df_new = pd.DataFrame(new_row, columns=['IoT-VER', \"GP-2022\"], index = [\"Avg (Std)\"])"
   ]
  },
  {
   "cell_type": "code",
   "execution_count": null,
   "id": "7b49632f",
   "metadata": {},
   "outputs": [],
   "source": [
    "df = pd.concat([df, df_new])"
   ]
  },
  {
   "cell_type": "code",
   "execution_count": null,
   "id": "558a9fec",
   "metadata": {},
   "outputs": [],
   "source": [
    "iot_ver_column = df[\"IoT-VER\"]\n"
   ]
  },
  {
   "cell_type": "code",
   "execution_count": null,
   "id": "bb85361a",
   "metadata": {},
   "outputs": [],
   "source": [
    "df = df.drop([\"IoT-VER\"], axis=1)\n"
   ]
  },
  {
   "cell_type": "code",
   "execution_count": null,
   "id": "3a77664f",
   "metadata": {},
   "outputs": [],
   "source": [
    "df[\"IoT-VER\"] = iot_ver_column"
   ]
  },
  {
   "cell_type": "code",
   "execution_count": null,
   "id": "1f793c82",
   "metadata": {},
   "outputs": [],
   "source": [
    "print(df.to_latex())"
   ]
  },
  {
   "cell_type": "code",
   "execution_count": null,
   "id": "e42e986f",
   "metadata": {},
   "outputs": [],
   "source": [
    "df"
   ]
  },
  {
   "cell_type": "code",
   "execution_count": null,
   "id": "343666d8",
   "metadata": {},
   "outputs": [],
   "source": []
  },
  {
   "cell_type": "code",
   "execution_count": null,
   "id": "3047be3a",
   "metadata": {},
   "outputs": [],
   "source": []
  },
  {
   "cell_type": "code",
   "execution_count": null,
   "id": "b9874039",
   "metadata": {},
   "outputs": [],
   "source": []
  },
  {
   "cell_type": "code",
   "execution_count": null,
   "id": "4d4ccad4",
   "metadata": {},
   "outputs": [],
   "source": []
  }
 ],
 "metadata": {
  "kernelspec": {
   "display_name": "Python 3 (ipykernel)",
   "language": "python",
   "name": "python3"
  },
  "language_info": {
   "codemirror_mode": {
    "name": "ipython",
    "version": 3
   },
   "file_extension": ".py",
   "mimetype": "text/x-python",
   "name": "python",
   "nbconvert_exporter": "python",
   "pygments_lexer": "ipython3",
   "version": "3.11.3"
  }
 },
 "nbformat": 4,
 "nbformat_minor": 5
}
