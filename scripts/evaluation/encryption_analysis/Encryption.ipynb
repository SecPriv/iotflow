{
 "cells": [
  {
   "cell_type": "code",
   "execution_count": null,
   "id": "ab49d6e3",
   "metadata": {},
   "outputs": [],
   "source": []
  },
  {
   "cell_type": "code",
   "execution_count": null,
   "id": "62d483c1",
   "metadata": {},
   "outputs": [],
   "source": [
    "from util.util import loadAllData,get_verified_dataset\n",
    "import re\n",
    "import json"
   ]
  },
  {
   "cell_type": "code",
   "execution_count": null,
   "id": "9c422099",
   "metadata": {},
   "outputs": [],
   "source": []
  },
  {
   "cell_type": "code",
   "execution_count": null,
   "id": "52f1350e",
   "metadata": {},
   "outputs": [],
   "source": [
    "# TODO: set the path to load your data\n",
    "gp_2022 = loadAllData(\"/gp_2022/\", True)"
   ]
  },
  {
   "cell_type": "code",
   "execution_count": null,
   "id": "1ee8dba4",
   "metadata": {},
   "outputs": [],
   "source": [
    "# TODO: set the path to your result folder\n",
    "# set the first argument to the base path of the result folder, second argument is th folder name, third argument a mapping file - that tells for apps in multiple sub datasets which app to include\n",
    "\n",
    "verified = get_verified_dataset(\"/\", \"/2023_04_06/\", \"/verified_dataset/result.json\")\n"
   ]
  },
  {
   "cell_type": "code",
   "execution_count": null,
   "id": "5491774e",
   "metadata": {},
   "outputs": [],
   "source": [
    "def sanitize_algorithm(dataset):\n",
    "    result = []\n",
    "    for app in dataset:\n",
    "        app_algorithms = set()\n",
    "        for algorithm in app:\n",
    "            if '.' in algorithm or '' == algorithm or len(algorithm) < 2 or 'unknown' in algorithm or '$' in algorithm or '{}' == algorithm:\n",
    "                continue\n",
    "            elif 'lgorithm' in algorithm or 'UNKNOWN' in algorithm or '@' in algorithm or 'Alg' in algorithm or 'helper' in algorithm:\n",
    "                continue\n",
    "            elif 'aaa' == algorithm or 'value' in algorithm or 'zz' in algorithm or '_a' in algorithm or '_enve' in algorithm:\n",
    "                continue\n",
    "            elif \"5gaj\" in algorithm or 'AUTHORITY' in algorithm or \"BASIC_CONS\" in algorithm or '00' in algorithm or '0o' in algorithm or 'ame' in algorithm:\n",
    "                continue\n",
    "            app_algorithms.add(algorithm)\n",
    "        result.append(app_algorithms)\n",
    "    return result\n",
    "\n"
   ]
  },
  {
   "cell_type": "code",
   "execution_count": null,
   "id": "39721bb2",
   "metadata": {},
   "outputs": [],
   "source": [
    "def cluster_algorithm(algorithm):\n",
    "    algorithm = algorithm.lower()\n",
    "    if algorithm.startswith('aes'):\n",
    "        return 'AES'\n",
    "    elif algorithm == 'arc4' or algorithm == 'arcfour' or algorithm == 'rc4':\n",
    "        return 'RC4'\n",
    "    elif algorithm == 'blowfish':\n",
    "        return 'BLOWFISH'\n",
    "    elif algorithm.startswith('cast'):\n",
    "        return \"CAST\"\n",
    "    elif algorithm.startswith('chacha'):\n",
    "       # print(algorithm)\n",
    "        return \"ChaCha\" #\"ChaCha\"\n",
    "    elif algorithm.startswith('des'):\n",
    "        if algorithm == \"desede3\":\n",
    "            return \"DES3\"\n",
    "        elif algorithm == \"desede\":\n",
    "            return \"DES2\"\n",
    "        return \"DES\"\n",
    "    elif algorithm == \"dh\" or algorithm == \"ecdh\":\n",
    "        return \"DH\"\n",
    "    elif algorithm.startswith('grain'):\n",
    "        return \"GRAIN\"\n",
    "    elif algorithm.startswith('gost'):\n",
    "        #print(algorithm)\n",
    "        return \"GOST\"#algorithm #\"GOST\"\n",
    "    elif algorithm.startswith('hc'):\n",
    "        return \"HC\"\n",
    "    elif algorithm.startswith('hmac'):\n",
    "        return \"HMAC\"\n",
    "    elif algorithm.startswith('md5'):\n",
    "        return \"MD5\"\n",
    "    elif algorithm.startswith('noekeon'):\n",
    "        return \"Noekeon\"\n",
    "    elif algorithm.startswith('pbe'):\n",
    "        return \"PBE\"\n",
    "    elif algorithm.startswith('pbkdf'):\n",
    "        return \"PBKDF\"\n",
    "    elif algorithm.startswith('poly'):\n",
    "        #print(algorithm)\n",
    "\n",
    "        return \"ChaCha\" #\"Poly\"\n",
    "    elif algorithm == 'rc2':\n",
    "        return \"RC2\"\n",
    "    elif algorithm == 'rc5':\n",
    "        return \"RC5\"\n",
    "    elif algorithm == 'rc6':\n",
    "        return \"RC6\"\n",
    "    elif algorithm.startswith('rsa'):\n",
    "        return \"RSA\"\n",
    "    elif algorithm.startswith('hkdf'):\n",
    "        return \"HKDF\"\n",
    "    elif algorithm.startswith('zuc'):\n",
    "        return \"ZUC\"\n",
    "    elif algorithm.startswith('twofish'):\n",
    "        return \"Twofish\"\n",
    "    elif algorithm.startswith('tnepres'):\n",
    "        return \"Tnepres\"\n",
    "    elif algorithm.startswith('threefish'):\n",
    "        return \"Threefish\"\n",
    "    elif algorithm.startswith('skipjack'):\n",
    "        return \"Skipjack\"\n",
    "    elif algorithm.startswith('skein'):\n",
    "        return \"Skein\"\n",
    "    elif algorithm.startswith('shacal'):\n",
    "        return \"Shacal\"\n",
    "    elif algorithm.startswith('serpent'):\n",
    "        return \"Serpent\"\n",
    "    elif algorithm.startswith('salsa'):\n",
    "        return \"Salsa\"\n",
    "    elif algorithm.startswith('sha1'):\n",
    "        return \"SHA1\"\n",
    "    elif algorithm.startswith('sha'):\n",
    "        return \"SHA\"\n",
    "    elif algorithm.startswith('scrypt'):\n",
    "        return \"SCRYPT\"\n",
    "    elif algorithm.startswith('rijndael'):\n",
    "        return \"Rijndael\"\n",
    "    else:\n",
    "        return None"
   ]
  },
  {
   "cell_type": "code",
   "execution_count": null,
   "id": "e89362b9",
   "metadata": {},
   "outputs": [],
   "source": [
    "def get_all_values_from_valueset(value_sets, id):\n",
    "    result = set()\n",
    "    for vs in value_sets:\n",
    "        data = vs.get(str(id), [])\n",
    "        for d in data:\n",
    "            result.add(d)\n",
    "    return result\n",
    "\n",
    "\n",
    "def add_values(valuePoint):\n",
    "    algos = set()\n",
    "    for v in valuePoint:\n",
    "        ca = cluster_algorithm(v)\n",
    "        if  ca != None:\n",
    "            algos.add(ca)\n",
    "\n",
    "    return len(algos) <5 # Some value point add all different algorithms, likely fp (general methods not specifically used for encryption) so exclude them\n",
    "\n",
    "\n",
    "\n",
    "\n",
    "\n",
    "def extract_algorithm_from_json(app):\n",
    "    algorithm = set()\n",
    "    jsonData = app.crypto\n",
    "    for vp in jsonData.get(\"ValuePoints\", []):\n",
    "        signature = vp.get(\"appendix\", {}).get(\"sigatureInApp\", \"\")\n",
    "        if signature != None and signature != \"\":\n",
    "            if \"javax.crypto.spec.SecretKeySpec: void <init>(byte[],int,int,java.lang.String)\" in signature:\n",
    "                values = get_all_values_from_valueset(vp.get(\"ValueSet\", []), 3)\n",
    "                if add_values(values):\n",
    "                    algorithm.update(values)\n",
    "\n",
    "            elif \"javax.crypto.spec.SecretKeySpec: void <init>(byte[],java.lang.String)\" in signature:\n",
    "                values = get_all_values_from_valueset(vp.get(\"ValueSet\", []), 1)\n",
    "                if add_values(values):\n",
    "                    algorithm.update(values)\n",
    "            elif \"javax.security.auth.kerberos.KerberosKey: void <init>(javax.security.auth.kerberos.KerberosPrincipal,char[],java.lang.String)\" in signature:\n",
    "                values = get_all_values_from_valueset(vp.get(\"ValueSet\", []), 2)\n",
    "                if add_values(values):\n",
    "                    algorithm.update(values)\n",
    "            elif \"javax.crypto.spec.DESedeKeySpec:\" in signature:\n",
    "                algorithm.add(\"DES\")\n",
    "            elif \"javax.crypto.spec.DESKeySpec:\" in signature:\n",
    "                algorithm.add(\"DES\")\n",
    "            elif \"javax.crypto.spec.DHPrivateKeySpec:\" in signature:\n",
    "                algorithm.add(\"DH\")\n",
    "            elif \"javax.crypto.spec.DSAPrivateKeySpec:\" in signature:\n",
    "                algorithm.add(\"DSA\")\n",
    "            elif \"javax.crypto.spec.ECPrivateKeySpec:\" in signature:\n",
    "                algorithm.add(\"EC\")\n",
    "            elif \"javax.crypto.spec.PBEKeySpec:\" in signature:\n",
    "                continue\n",
    "            elif \"javax.crypto.spec.PKCS8EncodedKeySpec:\" in signature:\n",
    "                continue\n",
    "            elif \"javax.crypto.spec.RSAPrivateKeySpec:\" in signature:\n",
    "                algorithm.add(\"RSA\")\n",
    "            elif \"javax.crypto.spec.X509EncodedKeySpec:\" in signature:\n",
    "                continue\n",
    "            elif \"javax.crypto.spec.RSAMultiPrimePrivateCrtKeySpec:\" in signature:\n",
    "                algorithm.add(\"RSA\")\n",
    "            elif \"javax.crypto.spec.EncodedKeySpec:\" in signature:\n",
    "                continue\n",
    "    return algorithm\n",
    "\n",
    "\n",
    "def algorithms_used(dataset):\n",
    "    result = []\n",
    "    for app in dataset:\n",
    "        result.append(extract_algorithm_from_json(app))\n",
    "    return result"
   ]
  },
  {
   "cell_type": "code",
   "execution_count": null,
   "id": "a304fffd",
   "metadata": {},
   "outputs": [],
   "source": [
    "gp_2022_algo = algorithms_used(gp_2022)\n",
    "iot_ver_algo = algorithms_used(verified)"
   ]
  },
  {
   "cell_type": "code",
   "execution_count": null,
   "id": "f94429f6",
   "metadata": {},
   "outputs": [],
   "source": [
    "def get_unique_algorithm(dataset):\n",
    "    result = set()\n",
    "    for app in dataset:\n",
    "        for alg in app:\n",
    "            result.add(alg)\n",
    "\n",
    "    return result"
   ]
  },
  {
   "cell_type": "code",
   "execution_count": null,
   "id": "f618ed3f",
   "metadata": {},
   "outputs": [],
   "source": [
    "get_unique_algorithm(iot_ver_algo)"
   ]
  },
  {
   "cell_type": "code",
   "execution_count": null,
   "id": "56295f53",
   "metadata": {},
   "outputs": [],
   "source": []
  },
  {
   "cell_type": "code",
   "execution_count": null,
   "id": "cd6cebbe",
   "metadata": {},
   "outputs": [],
   "source": [
    "sanitized_iot_ver = sanitize_algorithm(iot_ver_algo)\n"
   ]
  },
  {
   "cell_type": "code",
   "execution_count": null,
   "id": "23cabe5c",
   "metadata": {},
   "outputs": [],
   "source": [
    "sanitized_iot_ver"
   ]
  },
  {
   "cell_type": "code",
   "execution_count": null,
   "id": "199889b8",
   "metadata": {},
   "outputs": [],
   "source": [
    "\n",
    "sanitized_gp_2022 = sanitize_algorithm(gp_2022_algo)"
   ]
  },
  {
   "cell_type": "code",
   "execution_count": null,
   "id": "cc97b616",
   "metadata": {},
   "outputs": [],
   "source": [
    "def is_unsafe(algorithm):\n",
    "    algorithm = algorithm.lower()\n",
    "    return \"gost\" in algorithm or 'rc' in algorithm or 'arcfour' in algorithm or 'des' in algorithm or 'gost' in algorithm or 'shacal' in algorithm or 'skipjack' in algorithm\n",
    "\n",
    "def classify_algorithms(dataset):\n",
    "    count = 0\n",
    "    for app in dataset:\n",
    "        for algorithm in app:\n",
    "            if is_unsafe(algorithm):\n",
    "                count = count + 1\n",
    "                break\n",
    "    return count\n",
    "\n",
    "\n",
    "\n"
   ]
  },
  {
   "cell_type": "code",
   "execution_count": null,
   "id": "48b3a8e9",
   "metadata": {},
   "outputs": [],
   "source": [
    "def is_encryption_in_table(algorithm):\n",
    "    if algorithm is None:\n",
    "        return False\n",
    "    algorithm = algorithm.lower()\n",
    "    return algorithm == \"aes\" or algorithm == \"chacha\" or algorithm == \"dh\" or algorithm == \"rsa\" or algorithm == \"blowfish\" or algorithm == \"serpent\" or algorithm == \"des\" or algorithm == \"3des\" or algorithm == \"ghost\" or algorithm == \"rc4\""
   ]
  },
  {
   "cell_type": "code",
   "execution_count": null,
   "id": "f02b6ca6",
   "metadata": {},
   "outputs": [],
   "source": [
    "def number_of_apps_with_encryption(dataset):\n",
    "    result = 0\n",
    "    for app in dataset:\n",
    "        has_encryption = False\n",
    "        for x in app:\n",
    "            if is_encryption_in_table(cluster_algorithm(x)):\n",
    "                has_encryption = True\n",
    "\n",
    "        if has_encryption:\n",
    "            result = result + 1\n",
    "    return result\n",
    "\n"
   ]
  },
  {
   "cell_type": "code",
   "execution_count": null,
   "id": "15999fc0",
   "metadata": {},
   "outputs": [],
   "source": [
    "def is_encryption(algorithm):\n",
    "    algorithm = algorithm.lower()\n",
    "    return algorithm == \"aes\" or algorithm == \"rc4\" or algorithm == \"blowfish\" or algorithm == \"cast\" or algorithm == \"chacha\" or algorithm == \"des\" or algorithm == \"des\" or algorithm == \"dh\" or algorithm == \"grain\" or algorithm == \"ghost\" or algorithm == \"hc\" or algorithm == \"noekeon\" or algorithm.startswith('rc') or algortihm == 'rsa' or algorithm == \"zuc\" or algorithm==\"twofish\" or algorithm == 'threefish' or algorithm == \"tnepres\" or algorithm == \"skipjack\" or algorithm == \"shacal\" or algorithm == \"serpent\" or algorithm ==\"salsa\" or algorithm == \"scrypt\" or algorithm == \"rijndael\""
   ]
  },
  {
   "cell_type": "code",
   "execution_count": null,
   "id": "37a17aed",
   "metadata": {},
   "outputs": [],
   "source": []
  },
  {
   "cell_type": "code",
   "execution_count": null,
   "id": "e65ae7a8",
   "metadata": {},
   "outputs": [],
   "source": [
    "def cluster_dataset(dataset):\n",
    "    result = {}\n",
    "    for app in dataset:\n",
    "        all_algorithm_apps = set()\n",
    "        for x in app:\n",
    "            all_algorithm_apps.add(cluster_algorithm(x))\n",
    "\n",
    "        for algo in all_algorithm_apps:\n",
    "            result[algo] = result.get(algo, 0) + 1\n",
    "    return result\n"
   ]
  },
  {
   "cell_type": "code",
   "execution_count": null,
   "id": "a9f83f23",
   "metadata": {},
   "outputs": [],
   "source": []
  },
  {
   "cell_type": "code",
   "execution_count": null,
   "id": "68eff565",
   "metadata": {},
   "outputs": [],
   "source": [
    "clusterd_iot_ver = cluster_dataset(sanitized_iot_ver)"
   ]
  },
  {
   "cell_type": "code",
   "execution_count": null,
   "id": "fe538291",
   "metadata": {},
   "outputs": [],
   "source": [
    "clusterd_gp_2022 = cluster_dataset(sanitized_gp_2022)\n"
   ]
  },
  {
   "cell_type": "code",
   "execution_count": null,
   "id": "37b73d32",
   "metadata": {},
   "outputs": [],
   "source": [
    "clusterd_iot_ver\n"
   ]
  },
  {
   "cell_type": "code",
   "execution_count": null,
   "id": "d37a68e7",
   "metadata": {},
   "outputs": [],
   "source": [
    "number_of_apps_with_encryption(sanitized_iot_ver)"
   ]
  },
  {
   "cell_type": "code",
   "execution_count": null,
   "id": "f4de11d2",
   "metadata": {},
   "outputs": [],
   "source": [
    "keys = set()\n",
    "keys = keys.union(set(clusterd_gp_2022.keys()))\n",
    "keys = keys.union(set(clusterd_iot_ver.keys()))"
   ]
  },
  {
   "cell_type": "code",
   "execution_count": null,
   "id": "7d7b3fb6",
   "metadata": {},
   "outputs": [],
   "source": [
    "gp_2022_column = []\n",
    "iot_ver_column = []\n",
    "\n",
    "algorithms_column = []\n",
    "for algo in keys:\n",
    "    if algo == None:\n",
    "        continue\n",
    "    algorithms_column.append(algo)\n",
    "    gp_2022_column.append(clusterd_gp_2022.get(algo, 0))\n",
    "    iot_ver_column.append(clusterd_iot_ver.get(algo, 0))\n"
   ]
  },
  {
   "cell_type": "code",
   "execution_count": null,
   "id": "134cbb8c",
   "metadata": {},
   "outputs": [],
   "source": [
    "import pandas as pd\n",
    "\n",
    "data = {\"algorithm\":  algorithms_column,\n",
    "        'GP-2022': gp_2022_column,\n",
    "        'IoT-VER': iot_ver_column,\n",
    "\n",
    "        }\n",
    "\n",
    "df = pd.DataFrame(data)\n"
   ]
  },
  {
   "cell_type": "code",
   "execution_count": null,
   "id": "6992c54a",
   "metadata": {},
   "outputs": [],
   "source": [
    "df # remove algos where >x algos per value point"
   ]
  },
  {
   "cell_type": "code",
   "execution_count": null,
   "id": "5d454dd2",
   "metadata": {},
   "outputs": [],
   "source": [
    "def format_table(table):\n",
    "    gp_2022_column = []\n",
    "    iot_ver_column = []\n",
    "\n",
    "    alogrithm_column = []\n",
    "    for row in table.iterrows():\n",
    "        alogrithm_column.append(row[1][\"algorithm\"])\n",
    "        gp_2022_column.append(\"{} ({:.2f}%)\".format(row[1]['GP-2022'],row[1]['GP-2022']/947*100))\n",
    "\n",
    "        iot_ver_column.append(\"{} ({:.2f}%)\".format(row[1]['IoT-VER'],row[1]['IoT-VER']/9889 *100))\n",
    "\n",
    "    return pd.DataFrame({\"algorithm\": alogrithm_column, \"GP 2022\": gp_2022_column, \"IoT VER\": iot_ver_column})\n"
   ]
  },
  {
   "cell_type": "code",
   "execution_count": null,
   "id": "fa4ec462",
   "metadata": {},
   "outputs": [],
   "source": [
    "formattedDF = format_table(df)\n",
    "formattedDF = formattedDF.sort_values(by=['algorithm'])"
   ]
  },
  {
   "cell_type": "code",
   "execution_count": null,
   "id": "a63ba046",
   "metadata": {},
   "outputs": [],
   "source": [
    "formattedDF"
   ]
  },
  {
   "cell_type": "code",
   "execution_count": null,
   "id": "ffc03f87",
   "metadata": {},
   "outputs": [],
   "source": [
    "print(formattedDF.to_latex(index=False))"
   ]
  },
  {
   "cell_type": "code",
   "execution_count": null,
   "id": "93803c49",
   "metadata": {},
   "outputs": [],
   "source": [
    "\"{:.2f}%\".format(number_of_apps_with_encryption(sanitized_gp_2022)/947 * 100)"
   ]
  },
  {
   "cell_type": "code",
   "execution_count": null,
   "id": "f5e6bc59",
   "metadata": {},
   "outputs": [],
   "source": [
    "number_of_apps_with_encryption(sanitized_gp_2022)"
   ]
  },
  {
   "cell_type": "code",
   "execution_count": null,
   "id": "9c15b433",
   "metadata": {},
   "outputs": [],
   "source": [
    "classify_algorithms(sanitized_gp_2022)"
   ]
  },
  {
   "cell_type": "code",
   "execution_count": null,
   "id": "172dc7ac",
   "metadata": {},
   "outputs": [],
   "source": [
    "classify_algorithms(sanitized_iot_ver)"
   ]
  },
  {
   "cell_type": "code",
   "execution_count": null,
   "id": "e969a2b4",
   "metadata": {},
   "outputs": [],
   "source": [
    "\"{:.2f}%\".format(classify_algorithms(sanitized_gp_2022)/number_of_apps_with_encryption(sanitized_gp_2022) * 100)"
   ]
  },
  {
   "cell_type": "code",
   "execution_count": null,
   "id": "e0dfd573",
   "metadata": {},
   "outputs": [],
   "source": [
    "\"{:.2f}%\".format(classify_algorithms(sanitized_iot_ver)/number_of_apps_with_encryption(sanitized_iot_ver) * 100)"
   ]
  },
  {
   "cell_type": "code",
   "execution_count": null,
   "id": "15c6f273",
   "metadata": {},
   "outputs": [],
   "source": [
    "\"{:.2f}%\".format(number_of_apps_with_encryption(sanitized_iot_ver)/9889 * 100 )"
   ]
  },
  {
   "cell_type": "code",
   "execution_count": null,
   "id": "b35231b2",
   "metadata": {},
   "outputs": [],
   "source": [
    "number_of_apps_with_encryption(sanitized_iot_ver)"
   ]
  },
  {
   "cell_type": "code",
   "execution_count": null,
   "id": "aa070396",
   "metadata": {},
   "outputs": [],
   "source": [
    "\"{:.2f}%\".format(classify_algorithms(sanitized_gp_2022)/947 * 100)"
   ]
  },
  {
   "cell_type": "code",
   "execution_count": null,
   "id": "08217cc4",
   "metadata": {},
   "outputs": [],
   "source": []
  },
  {
   "cell_type": "code",
   "execution_count": null,
   "id": "65311a3c",
   "metadata": {},
   "outputs": [],
   "source": []
  },
  {
   "cell_type": "code",
   "execution_count": null,
   "id": "4a51a603",
   "metadata": {},
   "outputs": [],
   "source": []
  },
  {
   "cell_type": "code",
   "execution_count": null,
   "id": "0b933bf8",
   "metadata": {},
   "outputs": [],
   "source": [
    "\"{:.2f}%\".format(classify_algorithms(sanitized_iot_ver)/9889 * 100 )"
   ]
  },
  {
   "cell_type": "code",
   "execution_count": null,
   "id": "b09e450d",
   "metadata": {},
   "outputs": [],
   "source": []
  },
  {
   "cell_type": "code",
   "execution_count": null,
   "id": "f2aa4adc",
   "metadata": {},
   "outputs": [],
   "source": [
    "empty_array = re.compile(\"\\[(0,\\s?)*0?\\]\")\n",
    "# 2 or more .\n",
    "def getHardcodedInformation(values):\n",
    "    result = set()\n",
    "    for v in values:\n",
    "        lower_v = v.lower()\n",
    "        array_replace = lower_v.replace(\"[\", \"\")\n",
    "        array_replace = array_replace.replace(\"]\", \"\")\n",
    "        array_replace = array_replace.replace(\" \", \"\")\n",
    "        array_replace = array_replace.replace(\",\", \"\")\n",
    "\n",
    "        if lower_v.isnumeric() and int(lower_v) != 0 and int(lower_v) != -1:\n",
    "            result.add(v)\n",
    "            continue\n",
    "        elif lower_v.isnumeric():\n",
    "            continue\n",
    "\n",
    "\n",
    "        if empty_array.match(lower_v) or len(v) < 6 or 'key' in lower_v or 'secret' in lower_v or \"unknown\" in lower_v or v.count(\".\")>1 or \"sharedpreferences\" in lower_v or \"@\" in lower_v:\n",
    "            continue\n",
    "        elif \"fromui\" in lower_v or 'intent' in lower_v or 'password' in lower_v or \"sqlite\" in lower_v or \"ascii\" in lower_v:\n",
    "            continue\n",
    "        elif v[0] != '[' and v.count(' ')> 1: #[2, 4, 6, 6] is fine but not asdf asdf adf\n",
    "            continue\n",
    "        elif len(array_replace) < 6 or 'key' in array_replace or 'secret' in array_replace or \"unknown\" in array_replace or array_replace.count(\".\")>1 or \"sharedpreferences\" in array_replace or \"@\" in array_replace:\n",
    "            continue\n",
    "        elif \"fromui\" in array_replace or 'intent' in array_replace or 'password' in array_replace or \"sqlite\" in array_replace or \"context\" in array_replace:\n",
    "            continue\n",
    "        elif \"encry\" in lower_v or \"help\" in lower_v or \"android\" in lower_v or \"user\" in lower_v or \"json\" in lower_v or (\"(\" in lower_v and \")\" in lower_v) or \"salt\" in lower_v or \"provider\" in lower_v:\n",
    "            continue\n",
    "        elif \"crypt\" in lower_v or \"cordova\" in lower_v or \"cordova\" in array_replace or \"emulator\" in array_replace or \"emulator\" in lower_v or \"undefined\" in lower_v or \"object\" in lower_v:\n",
    "            continue\n",
    "        elif \"serial\" in lower_v or \"engine\" in lower_v or \"serial\" in array_replace or \"engine\" in array_replace or \"manager\" in lower_v or \"authent\" in lower_v or \"calc\" in lower_v or \"login\" in lower_v or \"config\" in lower_v or \"mail\" in lower_v:\n",
    "            continue\n",
    "        elif \"prng\" in lower_v or \"sha\" in lower_v or \"fragment\" in lower_v or \"aes\" in lower_v or \"rsa\" in lower_v or \"des\" in lower_v or \"pkcs\" in lower_v:\n",
    "            continue\n",
    "        elif \"store\" in array_replace or 'encrypt' in array_replace or 'integrity' in array_replace or \"kotlin\" in array_replace or \"kotlin\" in lower_v:\n",
    "            continue\n",
    "        elif lower_v.count(\"0\") >3 or (lower_v[0] == \"[\" and lower_v[len(lower_v) - 1] == \"]\" and lower_v.count(\",\")<5):\n",
    "            continue\n",
    "        else:\n",
    "            result.add(v)\n",
    "    return list(result)\n",
    "\n",
    "\n",
    "\n",
    "def extract_keys_from_json(app):\n",
    "    all_data = set()\n",
    "    #extracted_information = {\"type\": [\"key\", \"iv\"], \"key\": [\"asdf\"], ...}\n",
    "    jsonData = app.crypto\n",
    "    for vp in jsonData.get(\"ValuePoints\", []):\n",
    "        signature = vp.get(\"appendix\", {}).get(\"sigatureInApp\", \"\")\n",
    "        if signature != None and signature != \"\":\n",
    "            if \"javax.security.auth.kerberos.KerberosKey: void <init>(javax.security.auth.kerberos.KerberosPrincipal,byte[],int,int)\" in signature or \"KerberosKey: void <init>(javax.security.auth.kerberos.KerberosPrincipal,char[],java.lang.String)\" in signature:\n",
    "                #1\n",
    "                values = get_all_values_from_valueset(vp.get(\"ValueSet\", []), 1)\n",
    "                potentialHardcoded = getHardcodedInformation(values)\n",
    "                if len(potentialHardcoded) != 0:\n",
    "                    extracted_information = {\"type\": \"key\", \"key\": potentialHardcoded}\n",
    "                    all_data.add(json.dumps(extracted_information))\n",
    "            elif \"javax.crypto.spec.SecretKeySpec: void <init>(byte[],int,int,java.lang.String)\" in signature:\n",
    "                values_iv = get_all_values_from_valueset(vp.get(\"ValueSet\", []), 0)\n",
    "                values_offset = get_all_values_from_valueset(vp.get(\"ValueSet\", []), 1)\n",
    "                values_len = get_all_values_from_valueset(vp.get(\"ValueSet\", []), 2)\n",
    "\n",
    "                extracted_information ={\"type\": \"iv\"}\n",
    "                potential_hardcoded_iv = getHardcodedInformation(values_iv)\n",
    "                potential_hardcoded_offset = getHardcodedInformation(values_offset)\n",
    "                potential_hardcoded_len = getHardcodedInformation(values_len)\n",
    "\n",
    "                if len(potential_hardcoded_iv) != 0:\n",
    "                    extracted_information = { \"iv\": potential_hardcoded_iv}\n",
    "                if len(potential_hardcoded_offset) != 0:\n",
    "                    extracted_information[\"offset\"] = potential_hardcoded_offset\n",
    "                if len(potential_hardcoded_len) != 0:\n",
    "                    extracted_information[\"len\"] = potential_hardcoded_len\n",
    "\n",
    "                all_data.add(json.dumps(extracted_information))\n",
    "\n",
    "            elif \"javax.crypto.spec.SecretKeySpec: void <init>(byte[],java.lang.String)\" in signature:\n",
    "                values = get_all_values_from_valueset(vp.get(\"ValueSet\", []), 0)\n",
    "                potentialHardcoded = getHardcodedInformation(values)\n",
    "                if len(potentialHardcoded) != 0:\n",
    "                    extracted_information = {\"type\": \"key\", \"key\": potentialHardcoded}\n",
    "                    all_data.add(json.dumps(extracted_information))\n",
    "            elif \"javax.crypto.spec.IvParameterSpec: void <init>(byte[],int,int)\" in signature:\n",
    "                values_iv = get_all_values_from_valueset(vp.get(\"ValueSet\", []), 0)\n",
    "                values_offset = get_all_values_from_valueset(vp.get(\"ValueSet\", []), 1)\n",
    "                values_len = get_all_values_from_valueset(vp.get(\"ValueSet\", []), 2)\n",
    "\n",
    "                extracted_information ={\"type\": \"iv\"}\n",
    "                potential_hardcoded_iv = getHardcodedInformation(values_iv)\n",
    "                potential_hardcoded_offset = getHardcodedInformation(values_offset)\n",
    "                potential_hardcoded_len = getHardcodedInformation(values_len)\n",
    "\n",
    "                if len(potential_hardcoded_iv) != 0:\n",
    "                    extracted_information = { \"iv\": potential_hardcoded_iv}\n",
    "                if len(potential_hardcoded_offset) != 0:\n",
    "                    extracted_information[\"offset\"] = potential_hardcoded_offset\n",
    "                if len(potential_hardcoded_len) != 0:\n",
    "                    extracted_information[\"len\"] = potential_hardcoded_len\n",
    "\n",
    "                all_data.add(json.dumps(extracted_information))\n",
    "\n",
    "            elif \"javax.crypto.spec.DESedeKeySpec: void <init>(byte[])\" in signature:\n",
    "                values = get_all_values_from_valueset(vp.get(\"ValueSet\", []), 0)\n",
    "                potentialHardcoded = getHardcodedInformation(values)\n",
    "                if len(potentialHardcoded) != 0:\n",
    "                    extracted_information = {\"type\": \"key\", \"key\": potentialHardcoded}\n",
    "                    all_data.add(json.dumps(extracted_information))\n",
    "            elif \"javax.crypto.spec.DESedeKeySpec: void <init>(byte[],int)\" in signature:\n",
    "                values_key = get_all_values_from_valueset(vp.get(\"ValueSet\", []), 0)\n",
    "                values_offset = get_all_values_from_valueset(vp.get(\"ValueSet\", []), 1)\n",
    "                extracted_information ={\"type\": \"key\"}\n",
    "                potential_hardcoded_key = getHardcodedInformation(values_key)\n",
    "                potential_hardcoded_offset = getHardcodedInformation(values_offset)\n",
    "                if len(potential_hardcoded_key) != 0:\n",
    "                    extracted_information = { \"key\": potential_hardcoded_key}\n",
    "                if len(potential_hardcoded_offset) != 0:\n",
    "                    extracted_information[\"offset\"] = potential_hardcoded_offset\n",
    "\n",
    "                if extracted_information != {\"type\": \"key\"}:\n",
    "                    all_data.add(json.dumps(extracted_information))\n",
    "\n",
    "            elif \"javax.crypto.spec.DHPrivateKeySpec: void <init>(java.math.BigInteger,java.math.BigInteger,java.math.BigInteger)\" in signature:\n",
    "                values = get_all_values_from_valueset(vp.get(\"ValueSet\", []), 0)\n",
    "                values = get_all_values_from_valueset(vp.get(\"ValueSet\", []), 0)\n",
    "                values = get_all_values_from_valueset(vp.get(\"ValueSet\", []), 0)\n",
    "                # TODO\n",
    "\n",
    "            elif \"javax.crypto.spec.DSAPrivateKeySpec: void <init>(java.math.BigInteger,java.math.BigInteger,java.math.BigInteger,java.math.BigInteger)\" in signature:\n",
    "                values = get_all_values_from_valueset(vp.get(\"ValueSet\", []), 0)\n",
    "                values = get_all_values_from_valueset(vp.get(\"ValueSet\", []), 0)\n",
    "                values = get_all_values_from_valueset(vp.get(\"ValueSet\", []), 0)\n",
    "                values = get_all_values_from_valueset(vp.get(\"ValueSet\", []), 0)\n",
    "                # TODO\n",
    "\n",
    "            elif \"javax.crypto.spec.ECPrivateKeySpec: void <init>(java.math.BigInteger,java.security.spec.ECParameterSpec)\" in signature:\n",
    "                values = get_all_values_from_valueset(vp.get(\"ValueSet\", []), 0)\n",
    "                potentialHardcoded = getHardcodedInformation(values)\n",
    "                if len(potentialHardcoded) != 0:\n",
    "                    extracted_information = {\"type\": \"key\", \"key\": potentialHardcoded}\n",
    "                    all_data.append(json.dumps(extracted_information))\n",
    "            elif \"javax.crypto.spec.PBEKeySpec: void <init>(char[])\" in signature:\n",
    "                values = get_all_values_from_valueset(vp.get(\"ValueSet\", []), 0)\n",
    "                potentialHardcoded = getHardcodedInformation(values)\n",
    "                if len(potentialHardcoded) != 0:\n",
    "                    extracted_information = {\"type\": \"key\", \"key\": potentialHardcoded}\n",
    "                    all_data.add(json.dumps(extracted_information))\n",
    "            elif \"javax.crypto.spec.PBEKeySpec: void <init>(char[],byte[],int)\" in signature:\n",
    "                values_key = get_all_values_from_valueset(vp.get(\"ValueSet\", []), 0)\n",
    "                values_offset = get_all_values_from_valueset(vp.get(\"ValueSet\", []), 1)\n",
    "                extracted_information ={\"type\": \"key\"}\n",
    "                potential_hardcoded_key = getHardcodedInformation(values_key)\n",
    "                potential_hardcoded_offset = getHardcodedInformation(values_offset)\n",
    "                if len(potential_hardcoded_key) != 0:\n",
    "                    extracted_information = { \"key\": potential_hardcoded_key}\n",
    "                if len(potential_hardcoded_offset) != 0:\n",
    "                    extracted_information[\"offset\"] = potential_hardcoded_offset\n",
    "\n",
    "                if extracted_information != {\"type\": \"key\"}:\n",
    "                    all_data.add(json.dumps(extracted_information))\n",
    "\n",
    "            elif \"javax.crypto.spec.PBEKeySpec: void <init>(char[],byte[],int,int)\" in signature:\n",
    "                #char[] password, byte[] salt, int iterationCount, int keyLength\n",
    "\n",
    "                values_password = get_all_values_from_valueset(vp.get(\"ValueSet\", []), 0)\n",
    "                values_salt = get_all_values_from_valueset(vp.get(\"ValueSet\", []), 1)\n",
    "                values_iteration_count = get_all_values_from_valueset(vp.get(\"ValueSet\", []), 2)\n",
    "                values_key_length = get_all_values_from_valueset(vp.get(\"ValueSet\", []), 3)\n",
    "\n",
    "                extracted_information ={\"type\": \"key\"}\n",
    "                potential_hardcoded_password = getHardcodedInformation(values_password)\n",
    "                potential_hardcoded_salt = getHardcodedInformation(values_salt)\n",
    "                potential_hardcoded_iteration = getHardcodedInformation(values_iteration_count)\n",
    "                potential_hardcoded_length = getHardcodedInformation(values_key_length)\n",
    "\n",
    "                if len(potential_hardcoded_password) != 0:\n",
    "                    extracted_information = { \"key\": potential_hardcoded_password}\n",
    "                extracted_information[\"salt\"] = potential_hardcoded_salt\n",
    "                if len(potential_hardcoded_iteration) != 0:\n",
    "                    extracted_information[\"iteration\"] = potential_hardcoded_iteration\n",
    "                if len(potential_hardcoded_length) != 0:\n",
    "                    extracted_information[\"iteration\"] = potential_hardcoded_length\n",
    "\n",
    "                if extracted_information != {\"type\": \"key\"}:\n",
    "                    all_data.add(json.dumps(extracted_information))\n",
    "            elif \"javax.crypto.spec.PKCS8EncodedKeySpec: void <init>(byte[])\" in signature:\n",
    "                values = get_all_values_from_valueset(vp.get(\"ValueSet\", []), 0)\n",
    "                potentialHardcoded = getHardcodedInformation(values)\n",
    "                if len(potentialHardcoded) != 0:\n",
    "                    extracted_information = {\"type\": \"key\", \"key\": potentialHardcoded}\n",
    "                    all_data.add(json.dumps(extracted_information))\n",
    "            elif \"void <init>(java.math.BigInteger,java.math.BigInteger)\" in signature:\n",
    "                values = get_all_values_from_valueset(vp.get(\"ValueSet\", []), 0)\n",
    "                values = get_all_values_from_valueset(vp.get(\"ValueSet\", []), 1)\n",
    "\n",
    "                #TODO:\n",
    "\n",
    "            elif \"javax.crypto.spec.X509EncodedKeySpec: void <init>(byte[])\" in signature:\n",
    "                values = get_all_values_from_valueset(vp.get(\"ValueSet\", []), 0)\n",
    "                potentialHardcoded = getHardcodedInformation(values)\n",
    "                if len(potentialHardcoded) != 0:\n",
    "                    extracted_information = {\"type\": \"key\", \"key\": potentialHardcoded}\n",
    "                    all_data.append(json.dumps(extracted_information))\n",
    "            elif \"javax.crypto.spec.RSAMultiPrimePrivateCrtKeySpec: void <init>(java.math.BigInteger,java.math.BigInteger,java.math.BigInteger,java.math.BigInteger,java.math.BigInteger,java.math.BigInteger,java.math.BigInteger,java.math.BigInteger,java.security.spec.RSAOtherPrimeInfo[])\" in signature:\n",
    "                values = get_all_values_from_valueset(vp.get(\"ValueSet\", []), 0)\n",
    "                values = get_all_values_from_valueset(vp.get(\"ValueSet\", []), 1)\n",
    "                values = get_all_values_from_valueset(vp.get(\"ValueSet\", []), 2)\n",
    "                values = get_all_values_from_valueset(vp.get(\"ValueSet\", []), 3)\n",
    "                values = get_all_values_from_valueset(vp.get(\"ValueSet\", []), 4)\n",
    "                values = get_all_values_from_valueset(vp.get(\"ValueSet\", []), 5)\n",
    "                values = get_all_values_from_valueset(vp.get(\"ValueSet\", []), 6)\n",
    "                values = get_all_values_from_valueset(vp.get(\"ValueSet\", []), 7)\n",
    "                values = get_all_values_from_valueset(vp.get(\"ValueSet\", []), 8)\n",
    "\n",
    "                # TODO:\n",
    "\n",
    "            elif \"javax.crypto.spec.RSAPrivateCrtKeySpec: void <init>(java.math.BigInteger,java.math.BigInteger,java.math.BigInteger,java.math.BigInteger,java.math.BigInteger,java.math.BigInteger,java.math.BigInteger,java.math.BigInteger)\" in signature:\n",
    "                values = get_all_values_from_valueset(vp.get(\"ValueSet\", []), 0)\n",
    "                values = get_all_values_from_valueset(vp.get(\"ValueSet\", []), 1)\n",
    "                values = get_all_values_from_valueset(vp.get(\"ValueSet\", []), 2)\n",
    "                values = get_all_values_from_valueset(vp.get(\"ValueSet\", []), 3)\n",
    "                values = get_all_values_from_valueset(vp.get(\"ValueSet\", []), 4)\n",
    "                values = get_all_values_from_valueset(vp.get(\"ValueSet\", []), 5)\n",
    "                values = get_all_values_from_valueset(vp.get(\"ValueSet\", []), 6)\n",
    "                values = get_all_values_from_valueset(vp.get(\"ValueSet\", []), 7)\n",
    "\n",
    "                # TODO:\n",
    "\n",
    "            elif \"javax.crypto.spec.EncodedKeySpec: void <init>(byte[])\" in signature:\n",
    "                values = get_all_values_from_valueset(vp.get(\"ValueSet\", []), 0)\n",
    "                potentialHardcoded = getHardcodedInformation(values)\n",
    "                if len(potentialHardcoded) != 0:\n",
    "                    extracted_information = {\"type\": \"key\", \"key\": potentialHardcoded}\n",
    "                    all_data.add(json.dumps(extracted_information))\n",
    "\n",
    "\n",
    "    result = []\n",
    "    for a in all_data:\n",
    "        result.append(json.loads(a))\n",
    "    return result\n",
    "\n",
    "\n",
    "def extract_keys(dataset):\n",
    "    result = []\n",
    "    for app in dataset:\n",
    "        result.append(extract_keys_from_json(app))\n",
    "    return result"
   ]
  },
  {
   "cell_type": "code",
   "execution_count": null,
   "id": "77b794db",
   "metadata": {},
   "outputs": [],
   "source": [
    "\n",
    "extracted_keys_gp_2022 = extract_keys(gp_2022)\n",
    "extracted_keys_iot_ver = extract_keys(verified)"
   ]
  },
  {
   "cell_type": "code",
   "execution_count": null,
   "id": "72d3eeaa",
   "metadata": {},
   "outputs": [],
   "source": [
    "# parse numbers -> if >0 fine\n",
    "#check parameters somethimes things in results like PBEWithSHA256And256BitAES NativePRNG RSA/ECB/PKCS1Padding"
   ]
  },
  {
   "cell_type": "code",
   "execution_count": null,
   "id": "2e0a6084",
   "metadata": {},
   "outputs": [],
   "source": [
    "def is_hardcoded(app):\n",
    "    has_iv = False\n",
    "    iv  = None\n",
    "    key_data_available = False\n",
    "    for data in app:\n",
    "        if data.get(\"type\", None) == \"iv\":\n",
    "            has_iv = True\n",
    "            iv = data.get(\"iv\", None)\n",
    "        elif data.get(\"type\", None) == \"key\" and len(data.get(\"key\", [])) > 0:\n",
    "            if data.get(\"salt\", None) != None:\n",
    "                if len(data.get(\"salt\", [])) == 0:\n",
    "                    continue\n",
    "\n",
    "            key_data_available = True\n",
    "\n",
    "    return has_iv == True and key_data_available == True or has_iv == False and key_data_available\n",
    "\n",
    "\n",
    "def analyze_extracted_keys(dataset):\n",
    "    count = 0\n",
    "    for app in dataset:\n",
    "        if is_hardcoded(app):\n",
    "            count = count + 1\n",
    "    return count"
   ]
  },
  {
   "cell_type": "code",
   "execution_count": null,
   "id": "640e0fdc",
   "metadata": {},
   "outputs": [],
   "source": []
  },
  {
   "cell_type": "code",
   "execution_count": null,
   "id": "f3e7ac17",
   "metadata": {},
   "outputs": [],
   "source": []
  },
  {
   "cell_type": "code",
   "execution_count": null,
   "id": "9c87de1c",
   "metadata": {},
   "outputs": [],
   "source": []
  },
  {
   "cell_type": "code",
   "execution_count": null,
   "id": "b5c4208b",
   "metadata": {},
   "outputs": [],
   "source": [
    "analyze_extracted_keys(extracted_keys_gp_2022)"
   ]
  },
  {
   "cell_type": "code",
   "execution_count": null,
   "id": "a556013c",
   "metadata": {},
   "outputs": [],
   "source": [
    "analyze_extracted_keys(extracted_keys_iot_ver)"
   ]
  },
  {
   "cell_type": "code",
   "execution_count": null,
   "id": "ae55b137",
   "metadata": {},
   "outputs": [],
   "source": [
    "analyze_extracted_keys(extracted_keys_gp_2022)/number_of_apps_with_encryption(sanitized_gp_2022) * 100"
   ]
  },
  {
   "cell_type": "code",
   "execution_count": null,
   "id": "20c3bece",
   "metadata": {},
   "outputs": [],
   "source": [
    "analyze_extracted_keys(extracted_keys_iot_ver)/number_of_apps_with_encryption(sanitized_iot_ver) * 100"
   ]
  },
  {
   "cell_type": "code",
   "execution_count": null,
   "id": "04fd6781",
   "metadata": {},
   "outputs": [],
   "source": [
    "new_row = [\"hardcoded crypto material\",analyze_extracted_keys(extracted_keys_2018), analyze_extracted_keys(extracted_keys_2021), analyze_extracted_keys(extracted_keys_2022), analyze_extracted_keys(extracted_keys_gp_2022), analyze_extracted_keys(extracted_keys_iot_ver) ]"
   ]
  },
  {
   "cell_type": "code",
   "execution_count": null,
   "id": "19968a6b",
   "metadata": {},
   "outputs": [],
   "source": [
    "df.loc[len(df)] = new_row"
   ]
  },
  {
   "cell_type": "code",
   "execution_count": null,
   "id": "2902d4cf",
   "metadata": {},
   "outputs": [],
   "source": [
    "formattedDF = format_table(df)\n",
    "formattedDF = formattedDF.sort_values(by=['algorithm'])"
   ]
  },
  {
   "cell_type": "code",
   "execution_count": null,
   "id": "bbe3a518",
   "metadata": {},
   "outputs": [],
   "source": [
    "print(formattedDF.to_latex(index=False))"
   ]
  },
  {
   "cell_type": "code",
   "execution_count": null,
   "id": "206102e7",
   "metadata": {},
   "outputs": [],
   "source": []
  }
 ],
 "metadata": {
  "kernelspec": {
   "display_name": "Python 3 (ipykernel)",
   "language": "python",
   "name": "python3"
  },
  "language_info": {
   "codemirror_mode": {
    "name": "ipython",
    "version": 3
   },
   "file_extension": ".py",
   "mimetype": "text/x-python",
   "name": "python",
   "nbconvert_exporter": "python",
   "pygments_lexer": "ipython3",
   "version": "3.10.10"
  }
 },
 "nbformat": 4,
 "nbformat_minor": 5
}
